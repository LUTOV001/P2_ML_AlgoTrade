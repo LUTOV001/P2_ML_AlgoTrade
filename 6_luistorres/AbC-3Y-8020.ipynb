{
 "cells": [
  {
   "cell_type": "code",
   "execution_count": 43,
   "id": "64334015-796d-4ad3-873a-1d5d7e0fded9",
   "metadata": {},
   "outputs": [],
   "source": [
    "# Imports\n",
    "import yfinance as yf\n",
    "from talib import abstract\n",
    "import pandas as pd\n",
    "import pandas_market_calendars as mcal\n",
    "import numpy as np\n",
    "from pathlib import Path\n",
    "import hvplot.pandas\n",
    "import matplotlib.pyplot as plt\n",
    "from sklearn import svm\n",
    "from sklearn.preprocessing import StandardScaler\n",
    "from pandas.tseries.offsets import DateOffset\n",
    "from sklearn.metrics import classification_report\n",
    "import warnings\n",
    "warnings.filterwarnings('ignore')"
   ]
  },
  {
   "cell_type": "code",
   "execution_count": 44,
   "id": "83ad41ed-3d27-41fa-af67-8da4324f194e",
   "metadata": {
    "tags": []
   },
   "outputs": [],
   "source": [
    "# Download historical market data\n",
    "ticker = \"SPY\"\n",
    "stock = yf.Ticker(ticker)\n",
    "\n",
    "# get historical market data\n",
    "hist = stock.history(period=\"3y\")"
   ]
  },
  {
   "cell_type": "code",
   "execution_count": 45,
   "id": "6e46897b-b07b-40cb-a788-76d6230695d7",
   "metadata": {
    "tags": []
   },
   "outputs": [
    {
     "name": "stdout",
     "output_type": "stream",
     "text": [
      "[*********************100%***********************]  1 of 1 completed\n"
     ]
    }
   ],
   "source": [
    "# # Download historical data as dataframe\n",
    "spy_data = yf.download('SPY', start='2020-01-01', end='2023-06-30')"
   ]
  },
  {
   "cell_type": "code",
   "execution_count": 46,
   "id": "78a90caa-a518-4d87-ac51-ae8a4446a571",
   "metadata": {
    "tags": []
   },
   "outputs": [],
   "source": [
    "spy_data.to_csv('./Resources/SPY_3ydata.csv')"
   ]
  },
  {
   "cell_type": "code",
   "execution_count": 47,
   "id": "a3e91264-40d6-4bb6-8ef1-a4b72e26ae56",
   "metadata": {
    "tags": []
   },
   "outputs": [
    {
     "data": {
      "text/html": [
       "<div>\n",
       "<style scoped>\n",
       "    .dataframe tbody tr th:only-of-type {\n",
       "        vertical-align: middle;\n",
       "    }\n",
       "\n",
       "    .dataframe tbody tr th {\n",
       "        vertical-align: top;\n",
       "    }\n",
       "\n",
       "    .dataframe thead th {\n",
       "        text-align: right;\n",
       "    }\n",
       "</style>\n",
       "<table border=\"1\" class=\"dataframe\">\n",
       "  <thead>\n",
       "    <tr style=\"text-align: right;\">\n",
       "      <th></th>\n",
       "      <th>Open</th>\n",
       "      <th>High</th>\n",
       "      <th>Low</th>\n",
       "      <th>Close</th>\n",
       "      <th>Adj Close</th>\n",
       "      <th>Volume</th>\n",
       "    </tr>\n",
       "    <tr>\n",
       "      <th>Date</th>\n",
       "      <th></th>\n",
       "      <th></th>\n",
       "      <th></th>\n",
       "      <th></th>\n",
       "      <th></th>\n",
       "      <th></th>\n",
       "    </tr>\n",
       "  </thead>\n",
       "  <tbody>\n",
       "    <tr>\n",
       "      <th>2020-01-02</th>\n",
       "      <td>323.540009</td>\n",
       "      <td>324.890015</td>\n",
       "      <td>322.529999</td>\n",
       "      <td>324.869995</td>\n",
       "      <td>307.375671</td>\n",
       "      <td>59151200</td>\n",
       "    </tr>\n",
       "    <tr>\n",
       "      <th>2020-01-03</th>\n",
       "      <td>321.160004</td>\n",
       "      <td>323.640015</td>\n",
       "      <td>321.100006</td>\n",
       "      <td>322.410004</td>\n",
       "      <td>305.048126</td>\n",
       "      <td>77709700</td>\n",
       "    </tr>\n",
       "    <tr>\n",
       "      <th>2020-01-06</th>\n",
       "      <td>320.489990</td>\n",
       "      <td>323.730011</td>\n",
       "      <td>320.359985</td>\n",
       "      <td>323.640015</td>\n",
       "      <td>306.211914</td>\n",
       "      <td>55653900</td>\n",
       "    </tr>\n",
       "    <tr>\n",
       "      <th>2020-01-07</th>\n",
       "      <td>323.019989</td>\n",
       "      <td>323.540009</td>\n",
       "      <td>322.239990</td>\n",
       "      <td>322.730011</td>\n",
       "      <td>305.350922</td>\n",
       "      <td>40496400</td>\n",
       "    </tr>\n",
       "    <tr>\n",
       "      <th>2020-01-08</th>\n",
       "      <td>322.940002</td>\n",
       "      <td>325.779999</td>\n",
       "      <td>322.670013</td>\n",
       "      <td>324.450012</td>\n",
       "      <td>306.978271</td>\n",
       "      <td>68296000</td>\n",
       "    </tr>\n",
       "  </tbody>\n",
       "</table>\n",
       "</div>"
      ],
      "text/plain": [
       "                  Open        High         Low       Close   Adj Close  \\\n",
       "Date                                                                     \n",
       "2020-01-02  323.540009  324.890015  322.529999  324.869995  307.375671   \n",
       "2020-01-03  321.160004  323.640015  321.100006  322.410004  305.048126   \n",
       "2020-01-06  320.489990  323.730011  320.359985  323.640015  306.211914   \n",
       "2020-01-07  323.019989  323.540009  322.239990  322.730011  305.350922   \n",
       "2020-01-08  322.940002  325.779999  322.670013  324.450012  306.978271   \n",
       "\n",
       "              Volume  \n",
       "Date                  \n",
       "2020-01-02  59151200  \n",
       "2020-01-03  77709700  \n",
       "2020-01-06  55653900  \n",
       "2020-01-07  40496400  \n",
       "2020-01-08  68296000  "
      ]
     },
     "metadata": {},
     "output_type": "display_data"
    },
    {
     "data": {
      "text/html": [
       "<div>\n",
       "<style scoped>\n",
       "    .dataframe tbody tr th:only-of-type {\n",
       "        vertical-align: middle;\n",
       "    }\n",
       "\n",
       "    .dataframe tbody tr th {\n",
       "        vertical-align: top;\n",
       "    }\n",
       "\n",
       "    .dataframe thead th {\n",
       "        text-align: right;\n",
       "    }\n",
       "</style>\n",
       "<table border=\"1\" class=\"dataframe\">\n",
       "  <thead>\n",
       "    <tr style=\"text-align: right;\">\n",
       "      <th></th>\n",
       "      <th>Open</th>\n",
       "      <th>High</th>\n",
       "      <th>Low</th>\n",
       "      <th>Close</th>\n",
       "      <th>Adj Close</th>\n",
       "      <th>Volume</th>\n",
       "    </tr>\n",
       "    <tr>\n",
       "      <th>Date</th>\n",
       "      <th></th>\n",
       "      <th></th>\n",
       "      <th></th>\n",
       "      <th></th>\n",
       "      <th></th>\n",
       "      <th></th>\n",
       "    </tr>\n",
       "  </thead>\n",
       "  <tbody>\n",
       "    <tr>\n",
       "      <th>2023-06-23</th>\n",
       "      <td>432.929993</td>\n",
       "      <td>435.059998</td>\n",
       "      <td>432.470001</td>\n",
       "      <td>433.209991</td>\n",
       "      <td>433.209991</td>\n",
       "      <td>92074500</td>\n",
       "    </tr>\n",
       "    <tr>\n",
       "      <th>2023-06-26</th>\n",
       "      <td>432.619995</td>\n",
       "      <td>434.609985</td>\n",
       "      <td>431.190002</td>\n",
       "      <td>431.440002</td>\n",
       "      <td>431.440002</td>\n",
       "      <td>72823600</td>\n",
       "    </tr>\n",
       "    <tr>\n",
       "      <th>2023-06-27</th>\n",
       "      <td>432.350006</td>\n",
       "      <td>436.809998</td>\n",
       "      <td>431.880005</td>\n",
       "      <td>436.170013</td>\n",
       "      <td>436.170013</td>\n",
       "      <td>72813700</td>\n",
       "    </tr>\n",
       "    <tr>\n",
       "      <th>2023-06-28</th>\n",
       "      <td>435.049988</td>\n",
       "      <td>437.440002</td>\n",
       "      <td>434.410004</td>\n",
       "      <td>436.390015</td>\n",
       "      <td>436.390015</td>\n",
       "      <td>75636000</td>\n",
       "    </tr>\n",
       "    <tr>\n",
       "      <th>2023-06-29</th>\n",
       "      <td>435.959991</td>\n",
       "      <td>438.279999</td>\n",
       "      <td>435.540009</td>\n",
       "      <td>438.109985</td>\n",
       "      <td>438.109985</td>\n",
       "      <td>67882300</td>\n",
       "    </tr>\n",
       "  </tbody>\n",
       "</table>\n",
       "</div>"
      ],
      "text/plain": [
       "                  Open        High         Low       Close   Adj Close  \\\n",
       "Date                                                                     \n",
       "2023-06-23  432.929993  435.059998  432.470001  433.209991  433.209991   \n",
       "2023-06-26  432.619995  434.609985  431.190002  431.440002  431.440002   \n",
       "2023-06-27  432.350006  436.809998  431.880005  436.170013  436.170013   \n",
       "2023-06-28  435.049988  437.440002  434.410004  436.390015  436.390015   \n",
       "2023-06-29  435.959991  438.279999  435.540009  438.109985  438.109985   \n",
       "\n",
       "              Volume  \n",
       "Date                  \n",
       "2023-06-23  92074500  \n",
       "2023-06-26  72823600  \n",
       "2023-06-27  72813700  \n",
       "2023-06-28  75636000  \n",
       "2023-06-29  67882300  "
      ]
     },
     "metadata": {},
     "output_type": "display_data"
    },
    {
     "name": "stdout",
     "output_type": "stream",
     "text": [
      "<class 'pandas.core.frame.DataFrame'>\n",
      "DatetimeIndex: 879 entries, 2020-01-02 to 2023-06-29\n",
      "Data columns (total 6 columns):\n",
      " #   Column     Non-Null Count  Dtype  \n",
      "---  ------     --------------  -----  \n",
      " 0   Open       879 non-null    float64\n",
      " 1   High       879 non-null    float64\n",
      " 2   Low        879 non-null    float64\n",
      " 3   Close      879 non-null    float64\n",
      " 4   Adj Close  879 non-null    float64\n",
      " 5   Volume     879 non-null    int64  \n",
      "dtypes: float64(5), int64(1)\n",
      "memory usage: 48.1 KB\n"
     ]
    },
    {
     "data": {
      "text/plain": [
       "None"
      ]
     },
     "metadata": {},
     "output_type": "display_data"
    }
   ],
   "source": [
    "spy_3y_df = pd.read_csv(\n",
    "    Path('./Resources/SPY_3ydata.csv'),\n",
    "    index_col='Date', \n",
    "    infer_datetime_format=True, \n",
    "    parse_dates=True\n",
    ")\n",
    "\n",
    "#Review the data frame\n",
    "\n",
    "display(spy_3y_df.head())\n",
    "display(spy_3y_df.tail())\n",
    "display(spy_3y_df.info())"
   ]
  },
  {
   "cell_type": "markdown",
   "id": "bf9783f9-5d3e-4d55-ac6a-ed027782f674",
   "metadata": {},
   "source": [
    "## Establish a baseline with the source data"
   ]
  },
  {
   "cell_type": "code",
   "execution_count": 48,
   "id": "d89a8a82-1a75-4ffa-85c6-64d47befd854",
   "metadata": {
    "tags": []
   },
   "outputs": [
    {
     "data": {
      "text/html": [
       "<div>\n",
       "<style scoped>\n",
       "    .dataframe tbody tr th:only-of-type {\n",
       "        vertical-align: middle;\n",
       "    }\n",
       "\n",
       "    .dataframe tbody tr th {\n",
       "        vertical-align: top;\n",
       "    }\n",
       "\n",
       "    .dataframe thead th {\n",
       "        text-align: right;\n",
       "    }\n",
       "</style>\n",
       "<table border=\"1\" class=\"dataframe\">\n",
       "  <thead>\n",
       "    <tr style=\"text-align: right;\">\n",
       "      <th></th>\n",
       "      <th>Close</th>\n",
       "    </tr>\n",
       "    <tr>\n",
       "      <th>Date</th>\n",
       "      <th></th>\n",
       "    </tr>\n",
       "  </thead>\n",
       "  <tbody>\n",
       "    <tr>\n",
       "      <th>2020-01-02</th>\n",
       "      <td>324.869995</td>\n",
       "    </tr>\n",
       "    <tr>\n",
       "      <th>2020-01-03</th>\n",
       "      <td>322.410004</td>\n",
       "    </tr>\n",
       "    <tr>\n",
       "      <th>2020-01-06</th>\n",
       "      <td>323.640015</td>\n",
       "    </tr>\n",
       "    <tr>\n",
       "      <th>2020-01-07</th>\n",
       "      <td>322.730011</td>\n",
       "    </tr>\n",
       "    <tr>\n",
       "      <th>2020-01-08</th>\n",
       "      <td>324.450012</td>\n",
       "    </tr>\n",
       "  </tbody>\n",
       "</table>\n",
       "</div>"
      ],
      "text/plain": [
       "                 Close\n",
       "Date                  \n",
       "2020-01-02  324.869995\n",
       "2020-01-03  322.410004\n",
       "2020-01-06  323.640015\n",
       "2020-01-07  322.730011\n",
       "2020-01-08  324.450012"
      ]
     },
     "metadata": {},
     "output_type": "display_data"
    },
    {
     "data": {
      "text/html": [
       "<div>\n",
       "<style scoped>\n",
       "    .dataframe tbody tr th:only-of-type {\n",
       "        vertical-align: middle;\n",
       "    }\n",
       "\n",
       "    .dataframe tbody tr th {\n",
       "        vertical-align: top;\n",
       "    }\n",
       "\n",
       "    .dataframe thead th {\n",
       "        text-align: right;\n",
       "    }\n",
       "</style>\n",
       "<table border=\"1\" class=\"dataframe\">\n",
       "  <thead>\n",
       "    <tr style=\"text-align: right;\">\n",
       "      <th></th>\n",
       "      <th>Close</th>\n",
       "    </tr>\n",
       "    <tr>\n",
       "      <th>Date</th>\n",
       "      <th></th>\n",
       "    </tr>\n",
       "  </thead>\n",
       "  <tbody>\n",
       "    <tr>\n",
       "      <th>2023-06-23</th>\n",
       "      <td>433.209991</td>\n",
       "    </tr>\n",
       "    <tr>\n",
       "      <th>2023-06-26</th>\n",
       "      <td>431.440002</td>\n",
       "    </tr>\n",
       "    <tr>\n",
       "      <th>2023-06-27</th>\n",
       "      <td>436.170013</td>\n",
       "    </tr>\n",
       "    <tr>\n",
       "      <th>2023-06-28</th>\n",
       "      <td>436.390015</td>\n",
       "    </tr>\n",
       "    <tr>\n",
       "      <th>2023-06-29</th>\n",
       "      <td>438.109985</td>\n",
       "    </tr>\n",
       "  </tbody>\n",
       "</table>\n",
       "</div>"
      ],
      "text/plain": [
       "                 Close\n",
       "Date                  \n",
       "2023-06-23  433.209991\n",
       "2023-06-26  431.440002\n",
       "2023-06-27  436.170013\n",
       "2023-06-28  436.390015\n",
       "2023-06-29  438.109985"
      ]
     },
     "metadata": {},
     "output_type": "display_data"
    },
    {
     "name": "stdout",
     "output_type": "stream",
     "text": [
      "<class 'pandas.core.frame.DataFrame'>\n",
      "DatetimeIndex: 879 entries, 2020-01-02 to 2023-06-29\n",
      "Data columns (total 1 columns):\n",
      " #   Column  Non-Null Count  Dtype  \n",
      "---  ------  --------------  -----  \n",
      " 0   Close   879 non-null    float64\n",
      "dtypes: float64(1)\n",
      "memory usage: 13.7 KB\n"
     ]
    },
    {
     "data": {
      "text/plain": [
       "None"
      ]
     },
     "metadata": {},
     "output_type": "display_data"
    }
   ],
   "source": [
    "#take the Close data\n",
    "spy_signals = spy_3y_df.loc[:, ['Close']]\n",
    "\n",
    "display(spy_signals.head())\n",
    "display(spy_signals.tail())\n",
    "display(spy_signals.info())"
   ]
  },
  {
   "cell_type": "code",
   "execution_count": 49,
   "id": "70fdd392-adba-47bd-9573-d0e2ec2adae4",
   "metadata": {
    "tags": []
   },
   "outputs": [
    {
     "data": {
      "text/html": [
       "<div>\n",
       "<style scoped>\n",
       "    .dataframe tbody tr th:only-of-type {\n",
       "        vertical-align: middle;\n",
       "    }\n",
       "\n",
       "    .dataframe tbody tr th {\n",
       "        vertical-align: top;\n",
       "    }\n",
       "\n",
       "    .dataframe thead th {\n",
       "        text-align: right;\n",
       "    }\n",
       "</style>\n",
       "<table border=\"1\" class=\"dataframe\">\n",
       "  <thead>\n",
       "    <tr style=\"text-align: right;\">\n",
       "      <th></th>\n",
       "      <th>Close</th>\n",
       "      <th>Actual Returns</th>\n",
       "    </tr>\n",
       "    <tr>\n",
       "      <th>Date</th>\n",
       "      <th></th>\n",
       "      <th></th>\n",
       "    </tr>\n",
       "  </thead>\n",
       "  <tbody>\n",
       "    <tr>\n",
       "      <th>2020-01-03</th>\n",
       "      <td>322.410004</td>\n",
       "      <td>-0.007572</td>\n",
       "    </tr>\n",
       "    <tr>\n",
       "      <th>2020-01-06</th>\n",
       "      <td>323.640015</td>\n",
       "      <td>0.003815</td>\n",
       "    </tr>\n",
       "    <tr>\n",
       "      <th>2020-01-07</th>\n",
       "      <td>322.730011</td>\n",
       "      <td>-0.002812</td>\n",
       "    </tr>\n",
       "    <tr>\n",
       "      <th>2020-01-08</th>\n",
       "      <td>324.450012</td>\n",
       "      <td>0.005330</td>\n",
       "    </tr>\n",
       "    <tr>\n",
       "      <th>2020-01-09</th>\n",
       "      <td>326.649994</td>\n",
       "      <td>0.006781</td>\n",
       "    </tr>\n",
       "  </tbody>\n",
       "</table>\n",
       "</div>"
      ],
      "text/plain": [
       "                 Close  Actual Returns\n",
       "Date                                  \n",
       "2020-01-03  322.410004       -0.007572\n",
       "2020-01-06  323.640015        0.003815\n",
       "2020-01-07  322.730011       -0.002812\n",
       "2020-01-08  324.450012        0.005330\n",
       "2020-01-09  326.649994        0.006781"
      ]
     },
     "metadata": {},
     "output_type": "display_data"
    },
    {
     "data": {
      "text/html": [
       "<div>\n",
       "<style scoped>\n",
       "    .dataframe tbody tr th:only-of-type {\n",
       "        vertical-align: middle;\n",
       "    }\n",
       "\n",
       "    .dataframe tbody tr th {\n",
       "        vertical-align: top;\n",
       "    }\n",
       "\n",
       "    .dataframe thead th {\n",
       "        text-align: right;\n",
       "    }\n",
       "</style>\n",
       "<table border=\"1\" class=\"dataframe\">\n",
       "  <thead>\n",
       "    <tr style=\"text-align: right;\">\n",
       "      <th></th>\n",
       "      <th>Close</th>\n",
       "      <th>Actual Returns</th>\n",
       "    </tr>\n",
       "    <tr>\n",
       "      <th>Date</th>\n",
       "      <th></th>\n",
       "      <th></th>\n",
       "    </tr>\n",
       "  </thead>\n",
       "  <tbody>\n",
       "    <tr>\n",
       "      <th>2023-06-23</th>\n",
       "      <td>433.209991</td>\n",
       "      <td>-0.007560</td>\n",
       "    </tr>\n",
       "    <tr>\n",
       "      <th>2023-06-26</th>\n",
       "      <td>431.440002</td>\n",
       "      <td>-0.004086</td>\n",
       "    </tr>\n",
       "    <tr>\n",
       "      <th>2023-06-27</th>\n",
       "      <td>436.170013</td>\n",
       "      <td>0.010963</td>\n",
       "    </tr>\n",
       "    <tr>\n",
       "      <th>2023-06-28</th>\n",
       "      <td>436.390015</td>\n",
       "      <td>0.000504</td>\n",
       "    </tr>\n",
       "    <tr>\n",
       "      <th>2023-06-29</th>\n",
       "      <td>438.109985</td>\n",
       "      <td>0.003941</td>\n",
       "    </tr>\n",
       "  </tbody>\n",
       "</table>\n",
       "</div>"
      ],
      "text/plain": [
       "                 Close  Actual Returns\n",
       "Date                                  \n",
       "2023-06-23  433.209991       -0.007560\n",
       "2023-06-26  431.440002       -0.004086\n",
       "2023-06-27  436.170013        0.010963\n",
       "2023-06-28  436.390015        0.000504\n",
       "2023-06-29  438.109985        0.003941"
      ]
     },
     "metadata": {},
     "output_type": "display_data"
    },
    {
     "name": "stdout",
     "output_type": "stream",
     "text": [
      "<class 'pandas.core.frame.DataFrame'>\n",
      "DatetimeIndex: 878 entries, 2020-01-03 to 2023-06-29\n",
      "Data columns (total 2 columns):\n",
      " #   Column          Non-Null Count  Dtype  \n",
      "---  ------          --------------  -----  \n",
      " 0   Close           878 non-null    float64\n",
      " 1   Actual Returns  878 non-null    float64\n",
      "dtypes: float64(2)\n",
      "memory usage: 20.6 KB\n"
     ]
    },
    {
     "data": {
      "text/plain": [
       "None"
      ]
     },
     "metadata": {},
     "output_type": "display_data"
    }
   ],
   "source": [
    "# Calculate the actual returns\n",
    "\n",
    "spy_signals['Actual Returns'] = spy_signals['Close'].pct_change()\n",
    "\n",
    "#Drop the NaN values\n",
    "\n",
    "spy_signals = spy_signals.dropna()\n",
    "\n",
    "#review the dataframe\n",
    "display(spy_signals.head())\n",
    "display(spy_signals.tail())\n",
    "display(spy_signals.info())"
   ]
  },
  {
   "cell_type": "code",
   "execution_count": 50,
   "id": "4b032a51-066d-402e-9063-ba28760a6d9b",
   "metadata": {
    "tags": []
   },
   "outputs": [
    {
     "data": {
      "text/html": [
       "<div>\n",
       "<style scoped>\n",
       "    .dataframe tbody tr th:only-of-type {\n",
       "        vertical-align: middle;\n",
       "    }\n",
       "\n",
       "    .dataframe tbody tr th {\n",
       "        vertical-align: top;\n",
       "    }\n",
       "\n",
       "    .dataframe thead th {\n",
       "        text-align: right;\n",
       "    }\n",
       "</style>\n",
       "<table border=\"1\" class=\"dataframe\">\n",
       "  <thead>\n",
       "    <tr style=\"text-align: right;\">\n",
       "      <th></th>\n",
       "      <th>Close</th>\n",
       "      <th>Actual Returns</th>\n",
       "      <th>SMA_Short</th>\n",
       "      <th>SMA_Long</th>\n",
       "    </tr>\n",
       "    <tr>\n",
       "      <th>Date</th>\n",
       "      <th></th>\n",
       "      <th></th>\n",
       "      <th></th>\n",
       "      <th></th>\n",
       "    </tr>\n",
       "  </thead>\n",
       "  <tbody>\n",
       "    <tr>\n",
       "      <th>2020-05-27</th>\n",
       "      <td>303.529999</td>\n",
       "      <td>0.014879</td>\n",
       "      <td>298.232498</td>\n",
       "      <td>295.964602</td>\n",
       "    </tr>\n",
       "    <tr>\n",
       "      <th>2020-05-28</th>\n",
       "      <td>302.970001</td>\n",
       "      <td>-0.001845</td>\n",
       "      <td>300.254997</td>\n",
       "      <td>295.770202</td>\n",
       "    </tr>\n",
       "    <tr>\n",
       "      <th>2020-05-29</th>\n",
       "      <td>304.320007</td>\n",
       "      <td>0.004456</td>\n",
       "      <td>302.474998</td>\n",
       "      <td>295.577002</td>\n",
       "    </tr>\n",
       "    <tr>\n",
       "      <th>2020-06-01</th>\n",
       "      <td>305.549988</td>\n",
       "      <td>0.004042</td>\n",
       "      <td>304.092499</td>\n",
       "      <td>295.405201</td>\n",
       "    </tr>\n",
       "    <tr>\n",
       "      <th>2020-06-02</th>\n",
       "      <td>308.079987</td>\n",
       "      <td>0.008280</td>\n",
       "      <td>305.229996</td>\n",
       "      <td>295.241501</td>\n",
       "    </tr>\n",
       "  </tbody>\n",
       "</table>\n",
       "</div>"
      ],
      "text/plain": [
       "                 Close  Actual Returns   SMA_Short    SMA_Long\n",
       "Date                                                          \n",
       "2020-05-27  303.529999        0.014879  298.232498  295.964602\n",
       "2020-05-28  302.970001       -0.001845  300.254997  295.770202\n",
       "2020-05-29  304.320007        0.004456  302.474998  295.577002\n",
       "2020-06-01  305.549988        0.004042  304.092499  295.405201\n",
       "2020-06-02  308.079987        0.008280  305.229996  295.241501"
      ]
     },
     "metadata": {},
     "output_type": "display_data"
    },
    {
     "data": {
      "text/html": [
       "<div>\n",
       "<style scoped>\n",
       "    .dataframe tbody tr th:only-of-type {\n",
       "        vertical-align: middle;\n",
       "    }\n",
       "\n",
       "    .dataframe tbody tr th {\n",
       "        vertical-align: top;\n",
       "    }\n",
       "\n",
       "    .dataframe thead th {\n",
       "        text-align: right;\n",
       "    }\n",
       "</style>\n",
       "<table border=\"1\" class=\"dataframe\">\n",
       "  <thead>\n",
       "    <tr style=\"text-align: right;\">\n",
       "      <th></th>\n",
       "      <th>Close</th>\n",
       "      <th>Actual Returns</th>\n",
       "      <th>SMA_Short</th>\n",
       "      <th>SMA_Long</th>\n",
       "    </tr>\n",
       "    <tr>\n",
       "      <th>Date</th>\n",
       "      <th></th>\n",
       "      <th></th>\n",
       "      <th></th>\n",
       "      <th></th>\n",
       "    </tr>\n",
       "  </thead>\n",
       "  <tbody>\n",
       "    <tr>\n",
       "      <th>2023-06-23</th>\n",
       "      <td>433.209991</td>\n",
       "      <td>-0.007560</td>\n",
       "      <td>435.459999</td>\n",
       "      <td>410.842800</td>\n",
       "    </tr>\n",
       "    <tr>\n",
       "      <th>2023-06-26</th>\n",
       "      <td>431.440002</td>\n",
       "      <td>-0.004086</td>\n",
       "      <td>434.025002</td>\n",
       "      <td>411.092400</td>\n",
       "    </tr>\n",
       "    <tr>\n",
       "      <th>2023-06-27</th>\n",
       "      <td>436.170013</td>\n",
       "      <td>0.010963</td>\n",
       "      <td>434.332504</td>\n",
       "      <td>411.346100</td>\n",
       "    </tr>\n",
       "    <tr>\n",
       "      <th>2023-06-28</th>\n",
       "      <td>436.390015</td>\n",
       "      <td>0.000504</td>\n",
       "      <td>434.302505</td>\n",
       "      <td>411.542201</td>\n",
       "    </tr>\n",
       "    <tr>\n",
       "      <th>2023-06-29</th>\n",
       "      <td>438.109985</td>\n",
       "      <td>0.003941</td>\n",
       "      <td>435.527504</td>\n",
       "      <td>411.799800</td>\n",
       "    </tr>\n",
       "  </tbody>\n",
       "</table>\n",
       "</div>"
      ],
      "text/plain": [
       "                 Close  Actual Returns   SMA_Short    SMA_Long\n",
       "Date                                                          \n",
       "2023-06-23  433.209991       -0.007560  435.459999  410.842800\n",
       "2023-06-26  431.440002       -0.004086  434.025002  411.092400\n",
       "2023-06-27  436.170013        0.010963  434.332504  411.346100\n",
       "2023-06-28  436.390015        0.000504  434.302505  411.542201\n",
       "2023-06-29  438.109985        0.003941  435.527504  411.799800"
      ]
     },
     "metadata": {},
     "output_type": "display_data"
    },
    {
     "name": "stdout",
     "output_type": "stream",
     "text": [
      "<class 'pandas.core.frame.DataFrame'>\n",
      "DatetimeIndex: 779 entries, 2020-05-27 to 2023-06-29\n",
      "Data columns (total 4 columns):\n",
      " #   Column          Non-Null Count  Dtype  \n",
      "---  ------          --------------  -----  \n",
      " 0   Close           779 non-null    float64\n",
      " 1   Actual Returns  779 non-null    float64\n",
      " 2   SMA_Short       779 non-null    float64\n",
      " 3   SMA_Long        779 non-null    float64\n",
      "dtypes: float64(4)\n",
      "memory usage: 30.4 KB\n"
     ]
    },
    {
     "data": {
      "text/plain": [
       "None"
      ]
     },
     "metadata": {},
     "output_type": "display_data"
    }
   ],
   "source": [
    "# Set the short window and long window\n",
    "short_window = 4\n",
    "long_window = 100\n",
    "\n",
    "# Generate the fast and slow simple moving averages (4 and 100 days, respectively)\n",
    "spy_signals['SMA_Short'] = spy_signals['Close'].rolling(window=short_window).mean()\n",
    "spy_signals['SMA_Long'] = spy_signals['Close'].rolling(window=long_window).mean()\n",
    "\n",
    "# Drop NaN again from the new columns - Short and Long SMA\n",
    "\n",
    "spy_signals = spy_signals.dropna()\n",
    "\n",
    "# Review the DataFrame\n",
    "display(spy_signals.head())\n",
    "display(spy_signals.tail())\n",
    "display(spy_signals.info())"
   ]
  },
  {
   "cell_type": "code",
   "execution_count": 51,
   "id": "a1b05a01-11c2-43d0-bbd6-b7906f6bf861",
   "metadata": {
    "tags": []
   },
   "outputs": [
    {
     "data": {
      "text/html": [
       "<div>\n",
       "<style scoped>\n",
       "    .dataframe tbody tr th:only-of-type {\n",
       "        vertical-align: middle;\n",
       "    }\n",
       "\n",
       "    .dataframe tbody tr th {\n",
       "        vertical-align: top;\n",
       "    }\n",
       "\n",
       "    .dataframe thead th {\n",
       "        text-align: right;\n",
       "    }\n",
       "</style>\n",
       "<table border=\"1\" class=\"dataframe\">\n",
       "  <thead>\n",
       "    <tr style=\"text-align: right;\">\n",
       "      <th></th>\n",
       "      <th>Close</th>\n",
       "      <th>Actual Returns</th>\n",
       "      <th>SMA_Short</th>\n",
       "      <th>SMA_Long</th>\n",
       "      <th>Signal</th>\n",
       "    </tr>\n",
       "    <tr>\n",
       "      <th>Date</th>\n",
       "      <th></th>\n",
       "      <th></th>\n",
       "      <th></th>\n",
       "      <th></th>\n",
       "      <th></th>\n",
       "    </tr>\n",
       "  </thead>\n",
       "  <tbody>\n",
       "    <tr>\n",
       "      <th>2020-05-27</th>\n",
       "      <td>303.529999</td>\n",
       "      <td>0.014879</td>\n",
       "      <td>298.232498</td>\n",
       "      <td>295.964602</td>\n",
       "      <td>1.0</td>\n",
       "    </tr>\n",
       "    <tr>\n",
       "      <th>2020-05-28</th>\n",
       "      <td>302.970001</td>\n",
       "      <td>-0.001845</td>\n",
       "      <td>300.254997</td>\n",
       "      <td>295.770202</td>\n",
       "      <td>-1.0</td>\n",
       "    </tr>\n",
       "    <tr>\n",
       "      <th>2020-05-29</th>\n",
       "      <td>304.320007</td>\n",
       "      <td>0.004456</td>\n",
       "      <td>302.474998</td>\n",
       "      <td>295.577002</td>\n",
       "      <td>1.0</td>\n",
       "    </tr>\n",
       "    <tr>\n",
       "      <th>2020-06-01</th>\n",
       "      <td>305.549988</td>\n",
       "      <td>0.004042</td>\n",
       "      <td>304.092499</td>\n",
       "      <td>295.405201</td>\n",
       "      <td>1.0</td>\n",
       "    </tr>\n",
       "    <tr>\n",
       "      <th>2020-06-02</th>\n",
       "      <td>308.079987</td>\n",
       "      <td>0.008280</td>\n",
       "      <td>305.229996</td>\n",
       "      <td>295.241501</td>\n",
       "      <td>1.0</td>\n",
       "    </tr>\n",
       "  </tbody>\n",
       "</table>\n",
       "</div>"
      ],
      "text/plain": [
       "                 Close  Actual Returns   SMA_Short    SMA_Long  Signal\n",
       "Date                                                                  \n",
       "2020-05-27  303.529999        0.014879  298.232498  295.964602     1.0\n",
       "2020-05-28  302.970001       -0.001845  300.254997  295.770202    -1.0\n",
       "2020-05-29  304.320007        0.004456  302.474998  295.577002     1.0\n",
       "2020-06-01  305.549988        0.004042  304.092499  295.405201     1.0\n",
       "2020-06-02  308.079987        0.008280  305.229996  295.241501     1.0"
      ]
     },
     "metadata": {},
     "output_type": "display_data"
    },
    {
     "data": {
      "text/html": [
       "<div>\n",
       "<style scoped>\n",
       "    .dataframe tbody tr th:only-of-type {\n",
       "        vertical-align: middle;\n",
       "    }\n",
       "\n",
       "    .dataframe tbody tr th {\n",
       "        vertical-align: top;\n",
       "    }\n",
       "\n",
       "    .dataframe thead th {\n",
       "        text-align: right;\n",
       "    }\n",
       "</style>\n",
       "<table border=\"1\" class=\"dataframe\">\n",
       "  <thead>\n",
       "    <tr style=\"text-align: right;\">\n",
       "      <th></th>\n",
       "      <th>Close</th>\n",
       "      <th>Actual Returns</th>\n",
       "      <th>SMA_Short</th>\n",
       "      <th>SMA_Long</th>\n",
       "      <th>Signal</th>\n",
       "    </tr>\n",
       "    <tr>\n",
       "      <th>Date</th>\n",
       "      <th></th>\n",
       "      <th></th>\n",
       "      <th></th>\n",
       "      <th></th>\n",
       "      <th></th>\n",
       "    </tr>\n",
       "  </thead>\n",
       "  <tbody>\n",
       "    <tr>\n",
       "      <th>2023-06-23</th>\n",
       "      <td>433.209991</td>\n",
       "      <td>-0.007560</td>\n",
       "      <td>435.459999</td>\n",
       "      <td>410.842800</td>\n",
       "      <td>-1.0</td>\n",
       "    </tr>\n",
       "    <tr>\n",
       "      <th>2023-06-26</th>\n",
       "      <td>431.440002</td>\n",
       "      <td>-0.004086</td>\n",
       "      <td>434.025002</td>\n",
       "      <td>411.092400</td>\n",
       "      <td>-1.0</td>\n",
       "    </tr>\n",
       "    <tr>\n",
       "      <th>2023-06-27</th>\n",
       "      <td>436.170013</td>\n",
       "      <td>0.010963</td>\n",
       "      <td>434.332504</td>\n",
       "      <td>411.346100</td>\n",
       "      <td>1.0</td>\n",
       "    </tr>\n",
       "    <tr>\n",
       "      <th>2023-06-28</th>\n",
       "      <td>436.390015</td>\n",
       "      <td>0.000504</td>\n",
       "      <td>434.302505</td>\n",
       "      <td>411.542201</td>\n",
       "      <td>1.0</td>\n",
       "    </tr>\n",
       "    <tr>\n",
       "      <th>2023-06-29</th>\n",
       "      <td>438.109985</td>\n",
       "      <td>0.003941</td>\n",
       "      <td>435.527504</td>\n",
       "      <td>411.799800</td>\n",
       "      <td>1.0</td>\n",
       "    </tr>\n",
       "  </tbody>\n",
       "</table>\n",
       "</div>"
      ],
      "text/plain": [
       "                 Close  Actual Returns   SMA_Short    SMA_Long  Signal\n",
       "Date                                                                  \n",
       "2023-06-23  433.209991       -0.007560  435.459999  410.842800    -1.0\n",
       "2023-06-26  431.440002       -0.004086  434.025002  411.092400    -1.0\n",
       "2023-06-27  436.170013        0.010963  434.332504  411.346100     1.0\n",
       "2023-06-28  436.390015        0.000504  434.302505  411.542201     1.0\n",
       "2023-06-29  438.109985        0.003941  435.527504  411.799800     1.0"
      ]
     },
     "metadata": {},
     "output_type": "display_data"
    },
    {
     "name": "stdout",
     "output_type": "stream",
     "text": [
      "<class 'pandas.core.frame.DataFrame'>\n",
      "DatetimeIndex: 779 entries, 2020-05-27 to 2023-06-29\n",
      "Data columns (total 5 columns):\n",
      " #   Column          Non-Null Count  Dtype  \n",
      "---  ------          --------------  -----  \n",
      " 0   Close           779 non-null    float64\n",
      " 1   Actual Returns  779 non-null    float64\n",
      " 2   SMA_Short       779 non-null    float64\n",
      " 3   SMA_Long        779 non-null    float64\n",
      " 4   Signal          779 non-null    float64\n",
      "dtypes: float64(5)\n",
      "memory usage: 36.5 KB\n"
     ]
    },
    {
     "data": {
      "text/plain": [
       "None"
      ]
     },
     "metadata": {},
     "output_type": "display_data"
    }
   ],
   "source": [
    "# Initialize the new Signal column\n",
    "spy_signals['Signal'] = 0.0\n",
    "\n",
    "# When Actual Returns are greater than or equal to 0, generate signal to buy stock long term\n",
    "spy_signals.loc[(spy_signals['Actual Returns'] >= 0), 'Signal'] = 1\n",
    "\n",
    "# When Actual Returns are less than 0, generate signal to sell stock short term\n",
    "spy_signals.loc[(spy_signals['Actual Returns'] < 0), 'Signal'] = -1\n",
    "\n",
    "\n",
    "# Review the DataFrame\n",
    "display(spy_signals.head())\n",
    "display(spy_signals.tail())\n",
    "display(spy_signals.info())"
   ]
  },
  {
   "cell_type": "code",
   "execution_count": 52,
   "id": "ae2c8018-353c-4d1b-8690-c3cf2ac7bf66",
   "metadata": {
    "tags": []
   },
   "outputs": [
    {
     "data": {
      "text/plain": [
       " 1.0    415\n",
       "-1.0    364\n",
       "Name: Signal, dtype: int64"
      ]
     },
     "execution_count": 52,
     "metadata": {},
     "output_type": "execute_result"
    }
   ],
   "source": [
    "#Verify data in 'Signal' column is balanced\n",
    "spy_signals['Signal'].value_counts()"
   ]
  },
  {
   "cell_type": "code",
   "execution_count": 53,
   "id": "f4054ec9-af30-44f4-88d6-de2f45790eae",
   "metadata": {
    "tags": []
   },
   "outputs": [
    {
     "data": {
      "text/html": [
       "<div>\n",
       "<style scoped>\n",
       "    .dataframe tbody tr th:only-of-type {\n",
       "        vertical-align: middle;\n",
       "    }\n",
       "\n",
       "    .dataframe tbody tr th {\n",
       "        vertical-align: top;\n",
       "    }\n",
       "\n",
       "    .dataframe thead th {\n",
       "        text-align: right;\n",
       "    }\n",
       "</style>\n",
       "<table border=\"1\" class=\"dataframe\">\n",
       "  <thead>\n",
       "    <tr style=\"text-align: right;\">\n",
       "      <th></th>\n",
       "      <th>Close</th>\n",
       "      <th>Actual Returns</th>\n",
       "      <th>SMA_Short</th>\n",
       "      <th>SMA_Long</th>\n",
       "      <th>Signal</th>\n",
       "      <th>Strategy Returns</th>\n",
       "    </tr>\n",
       "    <tr>\n",
       "      <th>Date</th>\n",
       "      <th></th>\n",
       "      <th></th>\n",
       "      <th></th>\n",
       "      <th></th>\n",
       "      <th></th>\n",
       "      <th></th>\n",
       "    </tr>\n",
       "  </thead>\n",
       "  <tbody>\n",
       "    <tr>\n",
       "      <th>2020-05-28</th>\n",
       "      <td>302.970001</td>\n",
       "      <td>-0.001845</td>\n",
       "      <td>300.254997</td>\n",
       "      <td>295.770202</td>\n",
       "      <td>-1.0</td>\n",
       "      <td>-0.001845</td>\n",
       "    </tr>\n",
       "    <tr>\n",
       "      <th>2020-05-29</th>\n",
       "      <td>304.320007</td>\n",
       "      <td>0.004456</td>\n",
       "      <td>302.474998</td>\n",
       "      <td>295.577002</td>\n",
       "      <td>1.0</td>\n",
       "      <td>-0.004456</td>\n",
       "    </tr>\n",
       "    <tr>\n",
       "      <th>2020-06-01</th>\n",
       "      <td>305.549988</td>\n",
       "      <td>0.004042</td>\n",
       "      <td>304.092499</td>\n",
       "      <td>295.405201</td>\n",
       "      <td>1.0</td>\n",
       "      <td>0.004042</td>\n",
       "    </tr>\n",
       "    <tr>\n",
       "      <th>2020-06-02</th>\n",
       "      <td>308.079987</td>\n",
       "      <td>0.008280</td>\n",
       "      <td>305.229996</td>\n",
       "      <td>295.241501</td>\n",
       "      <td>1.0</td>\n",
       "      <td>0.008280</td>\n",
       "    </tr>\n",
       "    <tr>\n",
       "      <th>2020-06-03</th>\n",
       "      <td>312.179993</td>\n",
       "      <td>0.013308</td>\n",
       "      <td>307.532494</td>\n",
       "      <td>295.096801</td>\n",
       "      <td>1.0</td>\n",
       "      <td>0.013308</td>\n",
       "    </tr>\n",
       "  </tbody>\n",
       "</table>\n",
       "</div>"
      ],
      "text/plain": [
       "                 Close  Actual Returns   SMA_Short    SMA_Long  Signal  \\\n",
       "Date                                                                     \n",
       "2020-05-28  302.970001       -0.001845  300.254997  295.770202    -1.0   \n",
       "2020-05-29  304.320007        0.004456  302.474998  295.577002     1.0   \n",
       "2020-06-01  305.549988        0.004042  304.092499  295.405201     1.0   \n",
       "2020-06-02  308.079987        0.008280  305.229996  295.241501     1.0   \n",
       "2020-06-03  312.179993        0.013308  307.532494  295.096801     1.0   \n",
       "\n",
       "            Strategy Returns  \n",
       "Date                          \n",
       "2020-05-28         -0.001845  \n",
       "2020-05-29         -0.004456  \n",
       "2020-06-01          0.004042  \n",
       "2020-06-02          0.008280  \n",
       "2020-06-03          0.013308  "
      ]
     },
     "metadata": {},
     "output_type": "display_data"
    },
    {
     "data": {
      "text/html": [
       "<div>\n",
       "<style scoped>\n",
       "    .dataframe tbody tr th:only-of-type {\n",
       "        vertical-align: middle;\n",
       "    }\n",
       "\n",
       "    .dataframe tbody tr th {\n",
       "        vertical-align: top;\n",
       "    }\n",
       "\n",
       "    .dataframe thead th {\n",
       "        text-align: right;\n",
       "    }\n",
       "</style>\n",
       "<table border=\"1\" class=\"dataframe\">\n",
       "  <thead>\n",
       "    <tr style=\"text-align: right;\">\n",
       "      <th></th>\n",
       "      <th>Close</th>\n",
       "      <th>Actual Returns</th>\n",
       "      <th>SMA_Short</th>\n",
       "      <th>SMA_Long</th>\n",
       "      <th>Signal</th>\n",
       "      <th>Strategy Returns</th>\n",
       "    </tr>\n",
       "    <tr>\n",
       "      <th>Date</th>\n",
       "      <th></th>\n",
       "      <th></th>\n",
       "      <th></th>\n",
       "      <th></th>\n",
       "      <th></th>\n",
       "      <th></th>\n",
       "    </tr>\n",
       "  </thead>\n",
       "  <tbody>\n",
       "    <tr>\n",
       "      <th>2023-06-23</th>\n",
       "      <td>433.209991</td>\n",
       "      <td>-0.007560</td>\n",
       "      <td>435.459999</td>\n",
       "      <td>410.842800</td>\n",
       "      <td>-1.0</td>\n",
       "      <td>-0.007560</td>\n",
       "    </tr>\n",
       "    <tr>\n",
       "      <th>2023-06-26</th>\n",
       "      <td>431.440002</td>\n",
       "      <td>-0.004086</td>\n",
       "      <td>434.025002</td>\n",
       "      <td>411.092400</td>\n",
       "      <td>-1.0</td>\n",
       "      <td>0.004086</td>\n",
       "    </tr>\n",
       "    <tr>\n",
       "      <th>2023-06-27</th>\n",
       "      <td>436.170013</td>\n",
       "      <td>0.010963</td>\n",
       "      <td>434.332504</td>\n",
       "      <td>411.346100</td>\n",
       "      <td>1.0</td>\n",
       "      <td>-0.010963</td>\n",
       "    </tr>\n",
       "    <tr>\n",
       "      <th>2023-06-28</th>\n",
       "      <td>436.390015</td>\n",
       "      <td>0.000504</td>\n",
       "      <td>434.302505</td>\n",
       "      <td>411.542201</td>\n",
       "      <td>1.0</td>\n",
       "      <td>0.000504</td>\n",
       "    </tr>\n",
       "    <tr>\n",
       "      <th>2023-06-29</th>\n",
       "      <td>438.109985</td>\n",
       "      <td>0.003941</td>\n",
       "      <td>435.527504</td>\n",
       "      <td>411.799800</td>\n",
       "      <td>1.0</td>\n",
       "      <td>0.003941</td>\n",
       "    </tr>\n",
       "  </tbody>\n",
       "</table>\n",
       "</div>"
      ],
      "text/plain": [
       "                 Close  Actual Returns   SMA_Short    SMA_Long  Signal  \\\n",
       "Date                                                                     \n",
       "2023-06-23  433.209991       -0.007560  435.459999  410.842800    -1.0   \n",
       "2023-06-26  431.440002       -0.004086  434.025002  411.092400    -1.0   \n",
       "2023-06-27  436.170013        0.010963  434.332504  411.346100     1.0   \n",
       "2023-06-28  436.390015        0.000504  434.302505  411.542201     1.0   \n",
       "2023-06-29  438.109985        0.003941  435.527504  411.799800     1.0   \n",
       "\n",
       "            Strategy Returns  \n",
       "Date                          \n",
       "2023-06-23         -0.007560  \n",
       "2023-06-26          0.004086  \n",
       "2023-06-27         -0.010963  \n",
       "2023-06-28          0.000504  \n",
       "2023-06-29          0.003941  "
      ]
     },
     "metadata": {},
     "output_type": "display_data"
    },
    {
     "name": "stdout",
     "output_type": "stream",
     "text": [
      "<class 'pandas.core.frame.DataFrame'>\n",
      "DatetimeIndex: 778 entries, 2020-05-28 to 2023-06-29\n",
      "Data columns (total 6 columns):\n",
      " #   Column            Non-Null Count  Dtype  \n",
      "---  ------            --------------  -----  \n",
      " 0   Close             778 non-null    float64\n",
      " 1   Actual Returns    778 non-null    float64\n",
      " 2   SMA_Short         778 non-null    float64\n",
      " 3   SMA_Long          778 non-null    float64\n",
      " 4   Signal            778 non-null    float64\n",
      " 5   Strategy Returns  778 non-null    float64\n",
      "dtypes: float64(6)\n",
      "memory usage: 42.5 KB\n"
     ]
    },
    {
     "data": {
      "text/plain": [
       "None"
      ]
     },
     "metadata": {},
     "output_type": "display_data"
    }
   ],
   "source": [
    "## Calculate Strategy returns based on the Signal\n",
    "spy_signals['Strategy Returns'] = spy_signals['Actual Returns'] * spy_signals['Signal'].shift()\n",
    "\n",
    "#drop the NaNs\n",
    "\n",
    "spy_signals = spy_signals.dropna()\n",
    "\n",
    "#review the df\n",
    "\n",
    "display(spy_signals.head())\n",
    "display(spy_signals.tail())\n",
    "display(spy_signals.info())"
   ]
  },
  {
   "cell_type": "code",
   "execution_count": 54,
   "id": "81a10c73-ed84-47d5-95fa-f67e626fb50d",
   "metadata": {
    "tags": []
   },
   "outputs": [
    {
     "data": {
      "text/plain": [
       "<Axes: xlabel='Date', ylabel='Strategy Returns'>"
      ]
     },
     "execution_count": 54,
     "metadata": {},
     "output_type": "execute_result"
    },
    {
     "data": {
      "image/png": "[encoded data removed]",
      "text/plain": [
       "<Figure size 1500x700 with 1 Axes>"
      ]
     },
     "metadata": {},
     "output_type": "display_data"
    }
   ],
   "source": [
    "# PLot the data frame\n",
    "(1+spy_signals['Strategy Returns']).cumprod().plot(figsize=(15,7), ylabel = 'Strategy Returns')"
   ]
  },
  {
   "cell_type": "markdown",
   "id": "1fbe0433-a8df-4d16-9eb6-86236999a03d",
   "metadata": {},
   "source": [
    "#### Training the Model"
   ]
  },
  {
   "cell_type": "code",
   "execution_count": 55,
   "id": "a2fb81df-2577-459c-a15d-b4ab25634331",
   "metadata": {
    "tags": []
   },
   "outputs": [
    {
     "data": {
      "text/html": [
       "<div>\n",
       "<style scoped>\n",
       "    .dataframe tbody tr th:only-of-type {\n",
       "        vertical-align: middle;\n",
       "    }\n",
       "\n",
       "    .dataframe tbody tr th {\n",
       "        vertical-align: top;\n",
       "    }\n",
       "\n",
       "    .dataframe thead th {\n",
       "        text-align: right;\n",
       "    }\n",
       "</style>\n",
       "<table border=\"1\" class=\"dataframe\">\n",
       "  <thead>\n",
       "    <tr style=\"text-align: right;\">\n",
       "      <th></th>\n",
       "      <th>SMA_Short</th>\n",
       "      <th>SMA_Long</th>\n",
       "    </tr>\n",
       "    <tr>\n",
       "      <th>Date</th>\n",
       "      <th></th>\n",
       "      <th></th>\n",
       "    </tr>\n",
       "  </thead>\n",
       "  <tbody>\n",
       "    <tr>\n",
       "      <th>2020-05-29</th>\n",
       "      <td>300.254997</td>\n",
       "      <td>295.770202</td>\n",
       "    </tr>\n",
       "    <tr>\n",
       "      <th>2020-06-01</th>\n",
       "      <td>302.474998</td>\n",
       "      <td>295.577002</td>\n",
       "    </tr>\n",
       "    <tr>\n",
       "      <th>2020-06-02</th>\n",
       "      <td>304.092499</td>\n",
       "      <td>295.405201</td>\n",
       "    </tr>\n",
       "    <tr>\n",
       "      <th>2020-06-03</th>\n",
       "      <td>305.229996</td>\n",
       "      <td>295.241501</td>\n",
       "    </tr>\n",
       "    <tr>\n",
       "      <th>2020-06-04</th>\n",
       "      <td>307.532494</td>\n",
       "      <td>295.096801</td>\n",
       "    </tr>\n",
       "  </tbody>\n",
       "</table>\n",
       "</div>"
      ],
      "text/plain": [
       "             SMA_Short    SMA_Long\n",
       "Date                              \n",
       "2020-05-29  300.254997  295.770202\n",
       "2020-06-01  302.474998  295.577002\n",
       "2020-06-02  304.092499  295.405201\n",
       "2020-06-03  305.229996  295.241501\n",
       "2020-06-04  307.532494  295.096801"
      ]
     },
     "metadata": {},
     "output_type": "display_data"
    },
    {
     "data": {
      "text/html": [
       "<div>\n",
       "<style scoped>\n",
       "    .dataframe tbody tr th:only-of-type {\n",
       "        vertical-align: middle;\n",
       "    }\n",
       "\n",
       "    .dataframe tbody tr th {\n",
       "        vertical-align: top;\n",
       "    }\n",
       "\n",
       "    .dataframe thead th {\n",
       "        text-align: right;\n",
       "    }\n",
       "</style>\n",
       "<table border=\"1\" class=\"dataframe\">\n",
       "  <thead>\n",
       "    <tr style=\"text-align: right;\">\n",
       "      <th></th>\n",
       "      <th>SMA_Short</th>\n",
       "      <th>SMA_Long</th>\n",
       "    </tr>\n",
       "    <tr>\n",
       "      <th>Date</th>\n",
       "      <th></th>\n",
       "      <th></th>\n",
       "    </tr>\n",
       "  </thead>\n",
       "  <tbody>\n",
       "    <tr>\n",
       "      <th>2023-06-23</th>\n",
       "      <td>437.022499</td>\n",
       "      <td>410.516600</td>\n",
       "    </tr>\n",
       "    <tr>\n",
       "      <th>2023-06-26</th>\n",
       "      <td>435.459999</td>\n",
       "      <td>410.842800</td>\n",
       "    </tr>\n",
       "    <tr>\n",
       "      <th>2023-06-27</th>\n",
       "      <td>434.025002</td>\n",
       "      <td>411.092400</td>\n",
       "    </tr>\n",
       "    <tr>\n",
       "      <th>2023-06-28</th>\n",
       "      <td>434.332504</td>\n",
       "      <td>411.346100</td>\n",
       "    </tr>\n",
       "    <tr>\n",
       "      <th>2023-06-29</th>\n",
       "      <td>434.302505</td>\n",
       "      <td>411.542201</td>\n",
       "    </tr>\n",
       "  </tbody>\n",
       "</table>\n",
       "</div>"
      ],
      "text/plain": [
       "             SMA_Short    SMA_Long\n",
       "Date                              \n",
       "2023-06-23  437.022499  410.516600\n",
       "2023-06-26  435.459999  410.842800\n",
       "2023-06-27  434.025002  411.092400\n",
       "2023-06-28  434.332504  411.346100\n",
       "2023-06-29  434.302505  411.542201"
      ]
     },
     "metadata": {},
     "output_type": "display_data"
    },
    {
     "name": "stdout",
     "output_type": "stream",
     "text": [
      "<class 'pandas.core.frame.DataFrame'>\n",
      "DatetimeIndex: 777 entries, 2020-05-29 to 2023-06-29\n",
      "Data columns (total 2 columns):\n",
      " #   Column     Non-Null Count  Dtype  \n",
      "---  ------     --------------  -----  \n",
      " 0   SMA_Short  777 non-null    float64\n",
      " 1   SMA_Long   777 non-null    float64\n",
      "dtypes: float64(2)\n",
      "memory usage: 18.2 KB\n"
     ]
    },
    {
     "data": {
      "text/plain": [
       "None"
      ]
     },
     "metadata": {},
     "output_type": "display_data"
    }
   ],
   "source": [
    "# Define the data for 'X'\n",
    "X = spy_signals[['SMA_Short','SMA_Long']].shift().dropna()\n",
    "\n",
    "# Inspect the dataframe\n",
    "\n",
    "display(X.head())\n",
    "display(X.tail())\n",
    "display(X.info())"
   ]
  },
  {
   "cell_type": "code",
   "execution_count": 56,
   "id": "4737af88-4c22-499d-ad85-321eaaef715e",
   "metadata": {
    "tags": []
   },
   "outputs": [
    {
     "name": "stdout",
     "output_type": "stream",
     "text": [
      "<class 'pandas.core.frame.DataFrame'>\n",
      "DatetimeIndex: 778 entries, 2020-05-28 to 2023-06-29\n",
      "Data columns (total 1 columns):\n",
      " #   Column  Non-Null Count  Dtype  \n",
      "---  ------  --------------  -----  \n",
      " 0   Signal  778 non-null    float64\n",
      "dtypes: float64(1)\n",
      "memory usage: 12.2 KB\n"
     ]
    },
    {
     "data": {
      "text/plain": [
       "None"
      ]
     },
     "metadata": {},
     "output_type": "display_data"
    }
   ],
   "source": [
    "# Define data for y\n",
    "\n",
    "y = spy_signals[['Signal']]\n",
    "\n",
    "#inspect the data frame\n",
    "\n",
    "# display(y.head())\n",
    "# display(y.tail())\n",
    "display(y.info())"
   ]
  },
  {
   "cell_type": "code",
   "execution_count": 57,
   "id": "b4908e61-bcec-4eb9-a270-7684b9acc49c",
   "metadata": {
    "tags": []
   },
   "outputs": [
    {
     "data": {
      "text/plain": [
       "Signal\n",
       " 1.0      414\n",
       "-1.0      364\n",
       "dtype: int64"
      ]
     },
     "execution_count": 57,
     "metadata": {},
     "output_type": "execute_result"
    }
   ],
   "source": [
    "y.value_counts()"
   ]
  },
  {
   "cell_type": "code",
   "execution_count": 58,
   "id": "b5c82361-5376-47d3-8e2a-b190acffe5b9",
   "metadata": {
    "tags": []
   },
   "outputs": [],
   "source": [
    "#Prepare Training data by defining Training Begining and Ending periods\n",
    "\n",
    "#Function to calculate number of trading days in the data set\n",
    "\n",
    "import pandas_market_calendars as mcal\n",
    "\n",
    "def calculate_trading_days(start_date, end_date):\n",
    "    # Create a calendar object for the NYSE\n",
    "    nyse = mcal.get_calendar('NYSE')\n",
    "\n",
    "    # Get the schedule of trading days between the start and end dates\n",
    "    schedule = nyse.schedule(start_date=start_date, end_date=end_date)\n",
    "\n",
    "    # Calculate the number of trading days\n",
    "    num_trading_days = len(schedule.index)\n",
    "\n",
    "    return num_trading_days"
   ]
  },
  {
   "cell_type": "code",
   "execution_count": 59,
   "id": "d7eba355-73e2-4b81-b3d5-9f3e3f6c9a83",
   "metadata": {
    "tags": []
   },
   "outputs": [
    {
     "name": "stdout",
     "output_type": "stream",
     "text": [
      "Number of trading days: 777\n"
     ]
    }
   ],
   "source": [
    "# Use function to calculate number of Trading Days in the data set\n",
    "\n",
    "start_date = X.index.min()\n",
    "end_date = X.index.max()\n",
    "\n",
    "num_trading_days = calculate_trading_days(start_date, end_date)\n",
    "print(\"Number of trading days:\", num_trading_days)"
   ]
  },
  {
   "cell_type": "code",
   "execution_count": 60,
   "id": "c0f4a423-5dcd-4545-b4a9-145c053892bc",
   "metadata": {
    "tags": []
   },
   "outputs": [
    {
     "data": {
      "text/plain": [
       "621"
      ]
     },
     "metadata": {},
     "output_type": "display_data"
    }
   ],
   "source": [
    "# Calculate number of days in Training set For an 80/20 split\n",
    "\n",
    "#Define split\n",
    "train_split = 0.8\n",
    "\n",
    "#calculate training data size\n",
    "train_size = int(num_trading_days*train_split)\n",
    "display(train_size)"
   ]
  },
  {
   "cell_type": "code",
   "execution_count": 61,
   "id": "57c3fa38-6a72-486b-8af1-b5b5fc4bd27e",
   "metadata": {
    "tags": []
   },
   "outputs": [],
   "source": [
    "# Define function to add Trading days to a given date:\n",
    "\n",
    "def add_trading_days(start_date, num_days):\n",
    "    nyse = mcal.get_calendar('NYSE')\n",
    "    count = 0\n",
    "    target_date = None\n",
    "\n",
    "    while count < num_days:\n",
    "        start_date += pd.DateOffset(days=1)\n",
    "        if nyse.valid_days(start_date, start_date).size:\n",
    "            count += 1\n",
    "\n",
    "    target_date = start_date\n",
    "    return target_date"
   ]
  },
  {
   "cell_type": "code",
   "execution_count": 62,
   "id": "ab993b68-0217-4128-ab70-0327f4d3c87b",
   "metadata": {
    "tags": []
   },
   "outputs": [
    {
     "name": "stdout",
     "output_type": "stream",
     "text": [
      "Target Date: 2022-11-14 00:00:00\n"
     ]
    }
   ],
   "source": [
    "# Calculate Training End date by adding the number of Trading days in the Train  \n",
    "# split approach (70/30) to the Training start date\n",
    "\n",
    "start_date = X.index.min() #pd.to_datetime('2020-05-29')\n",
    "num_days = train_size\n",
    "target_date = add_trading_days(start_date, num_days)\n",
    "print(\"Target Date:\", target_date)"
   ]
  },
  {
   "cell_type": "code",
   "execution_count": 63,
   "id": "95a2e86e-7c70-43be-847d-73cfb3191833",
   "metadata": {
    "tags": []
   },
   "outputs": [
    {
     "name": "stdout",
     "output_type": "stream",
     "text": [
      "Number of trading days: 622\n"
     ]
    }
   ],
   "source": [
    "# Validate that the training end date matches the desired training set size\n",
    "start_date = X.index.min()\n",
    "end_date = target_date\n",
    "\n",
    "num_trading_days = calculate_trading_days(start_date, end_date)\n",
    "print(\"Number of trading days:\", num_trading_days)"
   ]
  },
  {
   "cell_type": "code",
   "execution_count": 64,
   "id": "95ad5f0b-2d09-4737-80f9-eea47e8597b2",
   "metadata": {
    "tags": []
   },
   "outputs": [
    {
     "name": "stdout",
     "output_type": "stream",
     "text": [
      "The training START date is: 2020-05-29 00:00:00\n",
      "The training END date is: 2022-11-14 00:00:00\n",
      "The number of trading days in the training dataset is: 621 , which is close/matches the required training data size of: 622\n"
     ]
    }
   ],
   "source": [
    "train_start = X.index.min()\n",
    "train_end = target_date\n",
    "\n",
    "print('The training START date is:', train_start)\n",
    "print('The training END date is:', train_end)\n",
    "print('The number of trading days in the training dataset is:',train_size,', which is close/matches the required training data size of:',num_trading_days)"
   ]
  },
  {
   "cell_type": "code",
   "execution_count": 65,
   "id": "25ef714e-3532-4ad0-a0e4-60a6cc8484d1",
   "metadata": {
    "tags": []
   },
   "outputs": [
    {
     "data": {
      "text/html": [
       "<div>\n",
       "<style scoped>\n",
       "    .dataframe tbody tr th:only-of-type {\n",
       "        vertical-align: middle;\n",
       "    }\n",
       "\n",
       "    .dataframe tbody tr th {\n",
       "        vertical-align: top;\n",
       "    }\n",
       "\n",
       "    .dataframe thead th {\n",
       "        text-align: right;\n",
       "    }\n",
       "</style>\n",
       "<table border=\"1\" class=\"dataframe\">\n",
       "  <thead>\n",
       "    <tr style=\"text-align: right;\">\n",
       "      <th></th>\n",
       "      <th>SMA_Short</th>\n",
       "      <th>SMA_Long</th>\n",
       "    </tr>\n",
       "    <tr>\n",
       "      <th>Date</th>\n",
       "      <th></th>\n",
       "      <th></th>\n",
       "    </tr>\n",
       "  </thead>\n",
       "  <tbody>\n",
       "    <tr>\n",
       "      <th>2020-05-29</th>\n",
       "      <td>300.254997</td>\n",
       "      <td>295.770202</td>\n",
       "    </tr>\n",
       "    <tr>\n",
       "      <th>2020-06-01</th>\n",
       "      <td>302.474998</td>\n",
       "      <td>295.577002</td>\n",
       "    </tr>\n",
       "    <tr>\n",
       "      <th>2020-06-02</th>\n",
       "      <td>304.092499</td>\n",
       "      <td>295.405201</td>\n",
       "    </tr>\n",
       "    <tr>\n",
       "      <th>2020-06-03</th>\n",
       "      <td>305.229996</td>\n",
       "      <td>295.241501</td>\n",
       "    </tr>\n",
       "    <tr>\n",
       "      <th>2020-06-04</th>\n",
       "      <td>307.532494</td>\n",
       "      <td>295.096801</td>\n",
       "    </tr>\n",
       "  </tbody>\n",
       "</table>\n",
       "</div>"
      ],
      "text/plain": [
       "             SMA_Short    SMA_Long\n",
       "Date                              \n",
       "2020-05-29  300.254997  295.770202\n",
       "2020-06-01  302.474998  295.577002\n",
       "2020-06-02  304.092499  295.405201\n",
       "2020-06-03  305.229996  295.241501\n",
       "2020-06-04  307.532494  295.096801"
      ]
     },
     "metadata": {},
     "output_type": "display_data"
    },
    {
     "data": {
      "text/html": [
       "<div>\n",
       "<style scoped>\n",
       "    .dataframe tbody tr th:only-of-type {\n",
       "        vertical-align: middle;\n",
       "    }\n",
       "\n",
       "    .dataframe tbody tr th {\n",
       "        vertical-align: top;\n",
       "    }\n",
       "\n",
       "    .dataframe thead th {\n",
       "        text-align: right;\n",
       "    }\n",
       "</style>\n",
       "<table border=\"1\" class=\"dataframe\">\n",
       "  <thead>\n",
       "    <tr style=\"text-align: right;\">\n",
       "      <th></th>\n",
       "      <th>SMA_Short</th>\n",
       "      <th>SMA_Long</th>\n",
       "    </tr>\n",
       "    <tr>\n",
       "      <th>Date</th>\n",
       "      <th></th>\n",
       "      <th></th>\n",
       "    </tr>\n",
       "  </thead>\n",
       "  <tbody>\n",
       "    <tr>\n",
       "      <th>2022-11-08</th>\n",
       "      <td>375.545006</td>\n",
       "      <td>388.825701</td>\n",
       "    </tr>\n",
       "    <tr>\n",
       "      <th>2022-11-09</th>\n",
       "      <td>377.327507</td>\n",
       "      <td>388.979201</td>\n",
       "    </tr>\n",
       "    <tr>\n",
       "      <th>2022-11-10</th>\n",
       "      <td>378.107506</td>\n",
       "      <td>389.061901</td>\n",
       "    </tr>\n",
       "    <tr>\n",
       "      <th>2022-11-11</th>\n",
       "      <td>382.692505</td>\n",
       "      <td>389.258101</td>\n",
       "    </tr>\n",
       "    <tr>\n",
       "      <th>2022-11-14</th>\n",
       "      <td>387.332504</td>\n",
       "      <td>389.499301</td>\n",
       "    </tr>\n",
       "  </tbody>\n",
       "</table>\n",
       "</div>"
      ],
      "text/plain": [
       "             SMA_Short    SMA_Long\n",
       "Date                              \n",
       "2022-11-08  375.545006  388.825701\n",
       "2022-11-09  377.327507  388.979201\n",
       "2022-11-10  378.107506  389.061901\n",
       "2022-11-11  382.692505  389.258101\n",
       "2022-11-14  387.332504  389.499301"
      ]
     },
     "metadata": {},
     "output_type": "display_data"
    },
    {
     "name": "stdout",
     "output_type": "stream",
     "text": [
      "<class 'pandas.core.frame.DataFrame'>\n",
      "DatetimeIndex: 622 entries, 2020-05-29 to 2022-11-14\n",
      "Data columns (total 2 columns):\n",
      " #   Column     Non-Null Count  Dtype  \n",
      "---  ------     --------------  -----  \n",
      " 0   SMA_Short  622 non-null    float64\n",
      " 1   SMA_Long   622 non-null    float64\n",
      "dtypes: float64(2)\n",
      "memory usage: 14.6 KB\n"
     ]
    },
    {
     "data": {
      "text/plain": [
       "None"
      ]
     },
     "metadata": {},
     "output_type": "display_data"
    }
   ],
   "source": [
    "# Define the training data in for the training start/end dates\n",
    "X_train = X.loc[train_start:train_end]\n",
    "y_train = y.loc[train_start:train_end]\n",
    "\n",
    "#review the training data set\n",
    "\n",
    "display(X_train.head())\n",
    "display(X_train.tail())\n",
    "display(X_train.info())"
   ]
  },
  {
   "cell_type": "code",
   "execution_count": 66,
   "id": "1daf84ca-c8fe-4043-ab9b-b002ccf320e2",
   "metadata": {
    "tags": []
   },
   "outputs": [
    {
     "name": "stdout",
     "output_type": "stream",
     "text": [
      "The testing START date is: 2022-11-15 00:00:00\n",
      "The testing END date is: 2023-06-29 00:00:00\n",
      "The number of trading days in the testing dataset is: 155\n"
     ]
    }
   ],
   "source": [
    "# Generate the X_test and y_test DataFrames\n",
    "\n",
    "#Determine Testing Date START and Testing END\n",
    "\n",
    "test_start = train_end + DateOffset(days=1)\n",
    "test_end = X.index.max()\n",
    "\n",
    "#number od trading days in the testing data set\n",
    "start_date = test_start\n",
    "end_date = test_end\n",
    "\n",
    "num_trading_days_test = calculate_trading_days(start_date, end_date)\n",
    "\n",
    "print('The testing START date is:', test_start)\n",
    "print('The testing END date is:', test_end)\n",
    "print('The number of trading days in the testing dataset is:',num_trading_days_test)"
   ]
  },
  {
   "cell_type": "code",
   "execution_count": 67,
   "id": "ede3731a-9dde-4176-b104-aa3eedf0a559",
   "metadata": {
    "tags": []
   },
   "outputs": [
    {
     "data": {
      "text/html": [
       "<div>\n",
       "<style scoped>\n",
       "    .dataframe tbody tr th:only-of-type {\n",
       "        vertical-align: middle;\n",
       "    }\n",
       "\n",
       "    .dataframe tbody tr th {\n",
       "        vertical-align: top;\n",
       "    }\n",
       "\n",
       "    .dataframe thead th {\n",
       "        text-align: right;\n",
       "    }\n",
       "</style>\n",
       "<table border=\"1\" class=\"dataframe\">\n",
       "  <thead>\n",
       "    <tr style=\"text-align: right;\">\n",
       "      <th></th>\n",
       "      <th>SMA_Short</th>\n",
       "      <th>SMA_Long</th>\n",
       "    </tr>\n",
       "    <tr>\n",
       "      <th>Date</th>\n",
       "      <th></th>\n",
       "      <th></th>\n",
       "    </tr>\n",
       "  </thead>\n",
       "  <tbody>\n",
       "    <tr>\n",
       "      <th>2022-11-15</th>\n",
       "      <td>390.612503</td>\n",
       "      <td>389.669901</td>\n",
       "    </tr>\n",
       "    <tr>\n",
       "      <th>2022-11-16</th>\n",
       "      <td>396.702499</td>\n",
       "      <td>389.754001</td>\n",
       "    </tr>\n",
       "    <tr>\n",
       "      <th>2022-11-17</th>\n",
       "      <td>396.892502</td>\n",
       "      <td>389.822601</td>\n",
       "    </tr>\n",
       "    <tr>\n",
       "      <th>2022-11-18</th>\n",
       "      <td>395.824997</td>\n",
       "      <td>389.958501</td>\n",
       "    </tr>\n",
       "    <tr>\n",
       "      <th>2022-11-21</th>\n",
       "      <td>396.052498</td>\n",
       "      <td>390.115401</td>\n",
       "    </tr>\n",
       "  </tbody>\n",
       "</table>\n",
       "</div>"
      ],
      "text/plain": [
       "             SMA_Short    SMA_Long\n",
       "Date                              \n",
       "2022-11-15  390.612503  389.669901\n",
       "2022-11-16  396.702499  389.754001\n",
       "2022-11-17  396.892502  389.822601\n",
       "2022-11-18  395.824997  389.958501\n",
       "2022-11-21  396.052498  390.115401"
      ]
     },
     "metadata": {},
     "output_type": "display_data"
    },
    {
     "data": {
      "text/html": [
       "<div>\n",
       "<style scoped>\n",
       "    .dataframe tbody tr th:only-of-type {\n",
       "        vertical-align: middle;\n",
       "    }\n",
       "\n",
       "    .dataframe tbody tr th {\n",
       "        vertical-align: top;\n",
       "    }\n",
       "\n",
       "    .dataframe thead th {\n",
       "        text-align: right;\n",
       "    }\n",
       "</style>\n",
       "<table border=\"1\" class=\"dataframe\">\n",
       "  <thead>\n",
       "    <tr style=\"text-align: right;\">\n",
       "      <th></th>\n",
       "      <th>SMA_Short</th>\n",
       "      <th>SMA_Long</th>\n",
       "    </tr>\n",
       "    <tr>\n",
       "      <th>Date</th>\n",
       "      <th></th>\n",
       "      <th></th>\n",
       "    </tr>\n",
       "  </thead>\n",
       "  <tbody>\n",
       "    <tr>\n",
       "      <th>2023-06-23</th>\n",
       "      <td>437.022499</td>\n",
       "      <td>410.516600</td>\n",
       "    </tr>\n",
       "    <tr>\n",
       "      <th>2023-06-26</th>\n",
       "      <td>435.459999</td>\n",
       "      <td>410.842800</td>\n",
       "    </tr>\n",
       "    <tr>\n",
       "      <th>2023-06-27</th>\n",
       "      <td>434.025002</td>\n",
       "      <td>411.092400</td>\n",
       "    </tr>\n",
       "    <tr>\n",
       "      <th>2023-06-28</th>\n",
       "      <td>434.332504</td>\n",
       "      <td>411.346100</td>\n",
       "    </tr>\n",
       "    <tr>\n",
       "      <th>2023-06-29</th>\n",
       "      <td>434.302505</td>\n",
       "      <td>411.542201</td>\n",
       "    </tr>\n",
       "  </tbody>\n",
       "</table>\n",
       "</div>"
      ],
      "text/plain": [
       "             SMA_Short    SMA_Long\n",
       "Date                              \n",
       "2023-06-23  437.022499  410.516600\n",
       "2023-06-26  435.459999  410.842800\n",
       "2023-06-27  434.025002  411.092400\n",
       "2023-06-28  434.332504  411.346100\n",
       "2023-06-29  434.302505  411.542201"
      ]
     },
     "metadata": {},
     "output_type": "display_data"
    },
    {
     "name": "stdout",
     "output_type": "stream",
     "text": [
      "<class 'pandas.core.frame.DataFrame'>\n",
      "DatetimeIndex: 155 entries, 2022-11-15 to 2023-06-29\n",
      "Data columns (total 2 columns):\n",
      " #   Column     Non-Null Count  Dtype  \n",
      "---  ------     --------------  -----  \n",
      " 0   SMA_Short  155 non-null    float64\n",
      " 1   SMA_Long   155 non-null    float64\n",
      "dtypes: float64(2)\n",
      "memory usage: 3.6 KB\n"
     ]
    },
    {
     "data": {
      "text/plain": [
       "None"
      ]
     },
     "metadata": {},
     "output_type": "display_data"
    }
   ],
   "source": [
    "X_test = X.loc[test_start:test_end]\n",
    "y_test = y.loc[test_start:test_end]\n",
    "\n",
    "#review the Testing data set\n",
    "\n",
    "display(X_test.head())\n",
    "display(X_test.tail())\n",
    "display(X_test.info())"
   ]
  },
  {
   "cell_type": "code",
   "execution_count": 68,
   "id": "8fc66c19-54be-4e98-a774-8560779610d3",
   "metadata": {
    "tags": []
   },
   "outputs": [
    {
     "data": {
      "text/plain": [
       "(778, 1)"
      ]
     },
     "metadata": {},
     "output_type": "display_data"
    }
   ],
   "source": [
    "display (y.shape)"
   ]
  },
  {
   "cell_type": "code",
   "execution_count": 69,
   "id": "b2118536-0e79-4214-ba15-d48527effdef",
   "metadata": {
    "tags": []
   },
   "outputs": [
    {
     "data": {
      "text/plain": [
       "(622, 1)"
      ]
     },
     "metadata": {},
     "output_type": "display_data"
    }
   ],
   "source": [
    "display(y_train.shape)"
   ]
  },
  {
   "cell_type": "code",
   "execution_count": 70,
   "id": "1edd3e45-5cb3-44c3-bb3b-56fe93549a7e",
   "metadata": {
    "tags": []
   },
   "outputs": [
    {
     "data": {
      "text/plain": [
       " 1.0    334\n",
       "-1.0    288\n",
       "Name: Signal, dtype: int64"
      ]
     },
     "execution_count": 70,
     "metadata": {},
     "output_type": "execute_result"
    }
   ],
   "source": [
    "y_train['Signal'].value_counts()"
   ]
  },
  {
   "cell_type": "code",
   "execution_count": 71,
   "id": "a2295dcd-1ec0-4b3d-907a-a1cd952a7e4b",
   "metadata": {
    "tags": []
   },
   "outputs": [
    {
     "data": {
      "text/plain": [
       "(155, 1)"
      ]
     },
     "metadata": {},
     "output_type": "display_data"
    }
   ],
   "source": [
    "display (y_test.shape)"
   ]
  },
  {
   "cell_type": "code",
   "execution_count": 72,
   "id": "c33c58aa-c650-4768-a250-3e03c78fb1d3",
   "metadata": {
    "tags": []
   },
   "outputs": [
    {
     "data": {
      "text/plain": [
       " 1.0    80\n",
       "-1.0    75\n",
       "Name: Signal, dtype: int64"
      ]
     },
     "execution_count": 72,
     "metadata": {},
     "output_type": "execute_result"
    }
   ],
   "source": [
    "y_test['Signal'].value_counts()"
   ]
  },
  {
   "cell_type": "markdown",
   "id": "70ae04b5-2f22-4dc9-90dd-b16dca73c6a1",
   "metadata": {},
   "source": [
    "## Evaluate the Model"
   ]
  },
  {
   "cell_type": "code",
   "execution_count": 73,
   "id": "25f5180b-6ec2-4d12-8bc5-1f8ad339b735",
   "metadata": {
    "tags": []
   },
   "outputs": [],
   "source": [
    "#Scale the data\n",
    "# Create a StandardScaler instance\n",
    "scaler = StandardScaler()\n",
    "\n",
    "# Apply the scaler model to fit the X-train data\n",
    "X_scaler = scaler.fit(X_train)\n",
    "\n",
    "# Transform the X_train and X_test DataFrames using the X_scaler\n",
    "X_train_scaled = X_scaler.transform(X_train)\n",
    "X_test_scaled = X_scaler.transform(X_test)"
   ]
  },
  {
   "cell_type": "code",
   "execution_count": 74,
   "id": "34763e5e-f923-44d0-b81a-5aff888e269b",
   "metadata": {
    "tags": []
   },
   "outputs": [],
   "source": [
    "# Import the AdaBoostClassifier from SKLearn\n",
    "from sklearn.ensemble import AdaBoostClassifier\n",
    "\n",
    "# Initiate the model instance\n",
    "abc_model = AdaBoostClassifier()"
   ]
  },
  {
   "cell_type": "code",
   "execution_count": 75,
   "id": "41f8ea09-167e-46ae-9ba1-197b37c54dd5",
   "metadata": {
    "tags": []
   },
   "outputs": [
    {
     "data": {
      "text/html": [
       "<style>#sk-container-id-2 {color: black;background-color: white;}#sk-container-id-2 pre{padding: 0;}#sk-container-id-2 div.sk-toggleable {background-color: white;}#sk-container-id-2 label.sk-toggleable__label {cursor: pointer;display: block;width: 100%;margin-bottom: 0;padding: 0.3em;box-sizing: border-box;text-align: center;}#sk-container-id-2 label.sk-toggleable__label-arrow:before {content: \"▸\";float: left;margin-right: 0.25em;color: #696969;}#sk-container-id-2 label.sk-toggleable__label-arrow:hover:before {color: black;}#sk-container-id-2 div.sk-estimator:hover label.sk-toggleable__label-arrow:before {color: black;}#sk-container-id-2 div.sk-toggleable__content {max-height: 0;max-width: 0;overflow: hidden;text-align: left;background-color: #f0f8ff;}#sk-container-id-2 div.sk-toggleable__content pre {margin: 0.2em;color: black;border-radius: 0.25em;background-color: #f0f8ff;}#sk-container-id-2 input.sk-toggleable__control:checked~div.sk-toggleable__content {max-height: 200px;max-width: 100%;overflow: auto;}#sk-container-id-2 input.sk-toggleable__control:checked~label.sk-toggleable__label-arrow:before {content: \"▾\";}#sk-container-id-2 div.sk-estimator input.sk-toggleable__control:checked~label.sk-toggleable__label {background-color: #d4ebff;}#sk-container-id-2 div.sk-label input.sk-toggleable__control:checked~label.sk-toggleable__label {background-color: #d4ebff;}#sk-container-id-2 input.sk-hidden--visually {border: 0;clip: rect(1px 1px 1px 1px);clip: rect(1px, 1px, 1px, 1px);height: 1px;margin: -1px;overflow: hidden;padding: 0;position: absolute;width: 1px;}#sk-container-id-2 div.sk-estimator {font-family: monospace;background-color: #f0f8ff;border: 1px dotted black;border-radius: 0.25em;box-sizing: border-box;margin-bottom: 0.5em;}#sk-container-id-2 div.sk-estimator:hover {background-color: #d4ebff;}#sk-container-id-2 div.sk-parallel-item::after {content: \"\";width: 100%;border-bottom: 1px solid gray;flex-grow: 1;}#sk-container-id-2 div.sk-label:hover label.sk-toggleable__label {background-color: #d4ebff;}#sk-container-id-2 div.sk-serial::before {content: \"\";position: absolute;border-left: 1px solid gray;box-sizing: border-box;top: 0;bottom: 0;left: 50%;z-index: 0;}#sk-container-id-2 div.sk-serial {display: flex;flex-direction: column;align-items: center;background-color: white;padding-right: 0.2em;padding-left: 0.2em;position: relative;}#sk-container-id-2 div.sk-item {position: relative;z-index: 1;}#sk-container-id-2 div.sk-parallel {display: flex;align-items: stretch;justify-content: center;background-color: white;position: relative;}#sk-container-id-2 div.sk-item::before, #sk-container-id-2 div.sk-parallel-item::before {content: \"\";position: absolute;border-left: 1px solid gray;box-sizing: border-box;top: 0;bottom: 0;left: 50%;z-index: -1;}#sk-container-id-2 div.sk-parallel-item {display: flex;flex-direction: column;z-index: 1;position: relative;background-color: white;}#sk-container-id-2 div.sk-parallel-item:first-child::after {align-self: flex-end;width: 50%;}#sk-container-id-2 div.sk-parallel-item:last-child::after {align-self: flex-start;width: 50%;}#sk-container-id-2 div.sk-parallel-item:only-child::after {width: 0;}#sk-container-id-2 div.sk-dashed-wrapped {border: 1px dashed gray;margin: 0 0.4em 0.5em 0.4em;box-sizing: border-box;padding-bottom: 0.4em;background-color: white;}#sk-container-id-2 div.sk-label label {font-family: monospace;font-weight: bold;display: inline-block;line-height: 1.2em;}#sk-container-id-2 div.sk-label-container {text-align: center;}#sk-container-id-2 div.sk-container {/* jupyter's `normalize.less` sets `[hidden] { display: none; }` but bootstrap.min.css set `[hidden] { display: none !important; }` so we also need the `!important` here to be able to override the default hidden behavior on the sphinx rendered scikit-learn.org. See: https://github.com/scikit-learn/scikit-learn/issues/21755 */display: inline-block !important;position: relative;}#sk-container-id-2 div.sk-text-repr-fallback {display: none;}</style><div id=\"sk-container-id-2\" class=\"sk-top-container\"><div class=\"sk-text-repr-fallback\"><pre>AdaBoostClassifier()</pre><b>In a Jupyter environment, please rerun this cell to show the HTML representation or trust the notebook. <br />On GitHub, the HTML representation is unable to render, please try loading this page with nbviewer.org.</b></div><div class=\"sk-container\" hidden><div class=\"sk-item\"><div class=\"sk-estimator sk-toggleable\"><input class=\"sk-toggleable__control sk-hidden--visually\" id=\"sk-estimator-id-2\" type=\"checkbox\" checked><label for=\"sk-estimator-id-2\" class=\"sk-toggleable__label sk-toggleable__label-arrow\">AdaBoostClassifier</label><div class=\"sk-toggleable__content\"><pre>AdaBoostClassifier()</pre></div></div></div></div></div>"
      ],
      "text/plain": [
       "AdaBoostClassifier()"
      ]
     },
     "execution_count": 75,
     "metadata": {},
     "output_type": "execute_result"
    }
   ],
   "source": [
    "# Fit the model using the training data\n",
    "abc_model.fit(X_train_scaled, y_train)"
   ]
  },
  {
   "cell_type": "code",
   "execution_count": 76,
   "id": "a0541570-321a-498c-a1d1-6e6717bd3b2a",
   "metadata": {
    "tags": []
   },
   "outputs": [
    {
     "data": {
      "text/plain": [
       "array([ 1.,  1.,  1.,  1., -1.,  1.,  1.,  1.,  1.,  1.,  1.,  1.,  1.,\n",
       "       -1.,  1.,  1.,  1.,  1.,  1.,  1.])"
      ]
     },
     "execution_count": 76,
     "metadata": {},
     "output_type": "execute_result"
    }
   ],
   "source": [
    "# Use the testing dataset to generate the predictions for the new model\n",
    "abc_train_pred = abc_model.predict(X_train_scaled)\n",
    "\n",
    "# Review the model's predicted values\n",
    "abc_train_pred[:20]"
   ]
  },
  {
   "cell_type": "code",
   "execution_count": 77,
   "id": "6488fc7c-02ad-4b91-b820-ebd1e1aed598",
   "metadata": {
    "tags": []
   },
   "outputs": [
    {
     "data": {
      "text/plain": [
       "(622,)"
      ]
     },
     "execution_count": 77,
     "metadata": {},
     "output_type": "execute_result"
    }
   ],
   "source": [
    "abc_train_pred.shape"
   ]
  },
  {
   "cell_type": "code",
   "execution_count": 78,
   "id": "77391b8b-5925-4c72-96e4-d1d9bc8af8a8",
   "metadata": {
    "tags": []
   },
   "outputs": [
    {
     "name": "stdout",
     "output_type": "stream",
     "text": [
      "              precision    recall  f1-score   support\n",
      "\n",
      "        -1.0       0.67      0.57      0.61       288\n",
      "         1.0       0.67      0.76      0.71       334\n",
      "\n",
      "    accuracy                           0.67       622\n",
      "   macro avg       0.67      0.66      0.66       622\n",
      "weighted avg       0.67      0.67      0.67       622\n",
      "\n"
     ]
    }
   ],
   "source": [
    "# Use a classification report to evaluate the model using the predictions and testing data\n",
    "abc_train_report80 = classification_report(y_train, abc_train_pred)\n",
    "\n",
    "# Print the classification report\n",
    "print(abc_train_report80)"
   ]
  },
  {
   "cell_type": "code",
   "execution_count": 79,
   "id": "1d078708-0b72-46eb-9813-c53424b02ab1",
   "metadata": {
    "tags": []
   },
   "outputs": [],
   "source": [
    "# Use the trained model to predict trading signals using the test data\n",
    "abc_test_pred = abc_model.predict(X_test_scaled)"
   ]
  },
  {
   "cell_type": "code",
   "execution_count": 80,
   "id": "e6c74203-c9c6-4399-84ce-94d2a3858c09",
   "metadata": {
    "tags": []
   },
   "outputs": [
    {
     "name": "stdout",
     "output_type": "stream",
     "text": [
      "              precision    recall  f1-score   support\n",
      "\n",
      "        -1.0       0.49      0.69      0.57        75\n",
      "         1.0       0.52      0.31      0.39        80\n",
      "\n",
      "    accuracy                           0.50       155\n",
      "   macro avg       0.50      0.50      0.48       155\n",
      "weighted avg       0.50      0.50      0.48       155\n",
      "\n"
     ]
    }
   ],
   "source": [
    "# Generate the classification report for the test run\n",
    "abc_test_report20 = classification_report(y_test, abc_test_pred)\n",
    "\n",
    "#Review the report\n",
    "print(abc_test_report20)"
   ]
  },
  {
   "cell_type": "code",
   "execution_count": 81,
   "id": "db435475-4f8f-409d-a7bf-804408f45d05",
   "metadata": {
    "tags": []
   },
   "outputs": [
    {
     "name": "stdout",
     "output_type": "stream",
     "text": [
      "Report saved to ./Results/abc_test20_report.txt\n"
     ]
    }
   ],
   "source": [
    "# Specify the file path and name\n",
    "file_path = './Results/abc_test20_report.txt'\n",
    "\n",
    "# Open the file in write mode\n",
    "with open(file_path, 'w') as file:\n",
    "    # Write the report to the file\n",
    "    file.write(abc_test_report20)\n",
    "\n",
    "# Confirmation message\n",
    "print(f\"Report saved to {file_path}\")"
   ]
  },
  {
   "cell_type": "code",
   "execution_count": 82,
   "id": "26a76ad6-5bcb-4061-b27e-3c1f5cf09f46",
   "metadata": {
    "tags": []
   },
   "outputs": [
    {
     "data": {
      "text/html": [
       "<div>\n",
       "<style scoped>\n",
       "    .dataframe tbody tr th:only-of-type {\n",
       "        vertical-align: middle;\n",
       "    }\n",
       "\n",
       "    .dataframe tbody tr th {\n",
       "        vertical-align: top;\n",
       "    }\n",
       "\n",
       "    .dataframe thead th {\n",
       "        text-align: right;\n",
       "    }\n",
       "</style>\n",
       "<table border=\"1\" class=\"dataframe\">\n",
       "  <thead>\n",
       "    <tr style=\"text-align: right;\">\n",
       "      <th></th>\n",
       "      <th>AbC Predicted Signals</th>\n",
       "      <th>Actual Returns</th>\n",
       "      <th>AbC Returns</th>\n",
       "    </tr>\n",
       "    <tr>\n",
       "      <th>Date</th>\n",
       "      <th></th>\n",
       "      <th></th>\n",
       "      <th></th>\n",
       "    </tr>\n",
       "  </thead>\n",
       "  <tbody>\n",
       "    <tr>\n",
       "      <th>2022-11-15</th>\n",
       "      <td>-1.0</td>\n",
       "      <td>0.008529</td>\n",
       "      <td>-0.008529</td>\n",
       "    </tr>\n",
       "    <tr>\n",
       "      <th>2022-11-16</th>\n",
       "      <td>-1.0</td>\n",
       "      <td>-0.007629</td>\n",
       "      <td>0.007629</td>\n",
       "    </tr>\n",
       "    <tr>\n",
       "      <th>2022-11-17</th>\n",
       "      <td>-1.0</td>\n",
       "      <td>-0.003060</td>\n",
       "      <td>0.003060</td>\n",
       "    </tr>\n",
       "    <tr>\n",
       "      <th>2022-11-18</th>\n",
       "      <td>-1.0</td>\n",
       "      <td>0.004540</td>\n",
       "      <td>-0.004540</td>\n",
       "    </tr>\n",
       "    <tr>\n",
       "      <th>2022-11-21</th>\n",
       "      <td>-1.0</td>\n",
       "      <td>-0.003636</td>\n",
       "      <td>0.003636</td>\n",
       "    </tr>\n",
       "    <tr>\n",
       "      <th>...</th>\n",
       "      <td>...</td>\n",
       "      <td>...</td>\n",
       "      <td>...</td>\n",
       "    </tr>\n",
       "    <tr>\n",
       "      <th>2023-06-23</th>\n",
       "      <td>1.0</td>\n",
       "      <td>-0.007560</td>\n",
       "      <td>-0.007560</td>\n",
       "    </tr>\n",
       "    <tr>\n",
       "      <th>2023-06-26</th>\n",
       "      <td>1.0</td>\n",
       "      <td>-0.004086</td>\n",
       "      <td>-0.004086</td>\n",
       "    </tr>\n",
       "    <tr>\n",
       "      <th>2023-06-27</th>\n",
       "      <td>1.0</td>\n",
       "      <td>0.010963</td>\n",
       "      <td>0.010963</td>\n",
       "    </tr>\n",
       "    <tr>\n",
       "      <th>2023-06-28</th>\n",
       "      <td>1.0</td>\n",
       "      <td>0.000504</td>\n",
       "      <td>0.000504</td>\n",
       "    </tr>\n",
       "    <tr>\n",
       "      <th>2023-06-29</th>\n",
       "      <td>1.0</td>\n",
       "      <td>0.003941</td>\n",
       "      <td>0.003941</td>\n",
       "    </tr>\n",
       "  </tbody>\n",
       "</table>\n",
       "<p>155 rows × 3 columns</p>\n",
       "</div>"
      ],
      "text/plain": [
       "            AbC Predicted Signals  Actual Returns  AbC Returns\n",
       "Date                                                          \n",
       "2022-11-15                   -1.0        0.008529    -0.008529\n",
       "2022-11-16                   -1.0       -0.007629     0.007629\n",
       "2022-11-17                   -1.0       -0.003060     0.003060\n",
       "2022-11-18                   -1.0        0.004540    -0.004540\n",
       "2022-11-21                   -1.0       -0.003636     0.003636\n",
       "...                           ...             ...          ...\n",
       "2023-06-23                    1.0       -0.007560    -0.007560\n",
       "2023-06-26                    1.0       -0.004086    -0.004086\n",
       "2023-06-27                    1.0        0.010963     0.010963\n",
       "2023-06-28                    1.0        0.000504     0.000504\n",
       "2023-06-29                    1.0        0.003941     0.003941\n",
       "\n",
       "[155 rows x 3 columns]"
      ]
     },
     "execution_count": 82,
     "metadata": {},
     "output_type": "execute_result"
    }
   ],
   "source": [
    "# Create a new empty predictions DataFrame to compare the prediction results\n",
    "\n",
    "# Create a predictions DataFrame\n",
    "abc_predictions_df = pd.DataFrame(index=X_test.index)\n",
    "\n",
    "# Add the model predictions to the DataFrame\n",
    "abc_predictions_df['AbC Predicted Signals'] = abc_test_pred\n",
    "\n",
    "# Add the actual returns to the DataFrame\n",
    "abc_predictions_df ['Actual Returns'] = spy_signals['Actual Returns']\n",
    "\n",
    "\n",
    "#Add the Logistic Regression Strategy Predicted Returns to the Data Frame \n",
    "abc_predictions_df['AbC Returns'] = spy_signals['Actual Returns'] * abc_predictions_df['AbC Predicted Signals']\n",
    "\n",
    "# Review the DataFrame\n",
    "abc_predictions_df"
   ]
  },
  {
   "cell_type": "code",
   "execution_count": 83,
   "id": "2f27e45e-ca3c-4913-9642-398d39bfe075",
   "metadata": {
    "tags": []
   },
   "outputs": [
    {
     "data": {
      "image/png": "[encoded data removed]",
      "text/plain": [
       "<Figure size 1000x500 with 1 Axes>"
      ]
     },
     "metadata": {},
     "output_type": "display_data"
    }
   ],
   "source": [
    "# Plot the actual returns versus the strategy returns\n",
    "\n",
    "\n",
    "lrfig, ax = plt.subplots(figsize=(10, 5))\n",
    "(1 + abc_predictions_df[['Actual Returns','AbC Returns']]).cumprod().plot(ax=ax)\n",
    "\n",
    "# Set plot title and labels\n",
    "ax.set_title('Actual Returns vs AdaBoostClassifier (80/20) Strategy Returns (Predicted)')\n",
    "ax.set_xlabel('Date')\n",
    "ax.set_ylabel('Cumulative Returns')\n",
    "\n",
    "# Save the plot as a PNG file\n",
    "plt.savefig('./Results/abc8020_returns_plot.png')\n",
    "\n",
    "# Display the plot\n",
    "plt.show()"
   ]
  },
  {
   "cell_type": "code",
   "execution_count": 42,
   "id": "831d19a5-c635-463b-a7f8-a58887f248d3",
   "metadata": {
    "tags": []
   },
   "outputs": [
    {
     "name": "stdout",
     "output_type": "stream",
     "text": [
      "Last updated: 2023-07-07T21:45:21.949352-07:00\n",
      "\n",
      "Python implementation: CPython\n",
      "Python version       : 3.8.16\n",
      "IPython version      : 8.12.0\n",
      "\n",
      "Compiler    : MSC v.1916 64 bit (AMD64)\n",
      "OS          : Windows\n",
      "Release     : 10\n",
      "Machine     : AMD64\n",
      "Processor   : Intel64 Family 6 Model 154 Stepping 4, GenuineIntel\n",
      "CPU cores   : 12\n",
      "Architecture: 64bit\n",
      "\n",
      "pandas                 : 1.5.3\n",
      "pandas_market_calendars: 4.1.4\n",
      "numpy                  : 1.24.3\n",
      "sklearn                : 1.2.2\n",
      "yfinance               : 0.2.18\n",
      "hvplot                 : 0.8.3\n",
      "matplotlib             : 3.7.1\n",
      "talib                  : 0.4.19\n",
      "\n"
     ]
    }
   ],
   "source": [
    "from watermark import watermark\n",
    "print(watermark())\n",
    "print(watermark(iversions=True, globals_=globals(), packages=\"\"))"
   ]
  },
  {
   "cell_type": "code",
   "execution_count": null,
   "id": "96d14f16-b8a4-464d-8053-443bd9b6cc5a",
   "metadata": {},
   "outputs": [],
   "source": []
  }
 ],
 "metadata": {
  "kernelspec": {
   "display_name": "dev",
   "language": "python",
   "name": "dev"
  },
  "language_info": {
   "codemirror_mode": {
    "name": "ipython",
    "version": 3
   },
   "file_extension": ".py",
   "mimetype": "text/x-python",
   "name": "python",
   "nbconvert_exporter": "python",
   "pygments_lexer": "ipython3",
   "version": "3.8.16"
  }
 },
 "nbformat": 4,
 "nbformat_minor": 5
}
