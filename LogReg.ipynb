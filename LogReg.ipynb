{
 "cells": [
  {
   "cell_type": "code",
   "execution_count": 22,
   "id": "64334015-796d-4ad3-873a-1d5d7e0fded9",
   "metadata": {},
   "outputs": [],
   "source": [
    "# Imports\n",
    "import yfinance as yf\n",
    "from talib import abstract\n",
    "import pandas as pd\n",
    "import pandas_market_calendars as mcal\n",
    "import numpy as np\n",
    "from pathlib import Path\n",
    "import hvplot.pandas\n",
    "import matplotlib.pyplot as plt\n",
    "from sklearn import svm\n",
    "from sklearn.preprocessing import StandardScaler\n",
    "from pandas.tseries.offsets import DateOffset\n",
    "from sklearn.metrics import classification_report\n",
    "import warnings\n",
    "warnings.filterwarnings('ignore')"
   ]
  },
  {
   "cell_type": "code",
   "execution_count": 23,
   "id": "83ad41ed-3d27-41fa-af67-8da4324f194e",
   "metadata": {
    "tags": []
   },
   "outputs": [],
   "source": [
    "# Download historical market data\n",
    "ticker = \"SPY\"\n",
    "stock = yf.Ticker(ticker)\n",
    "\n",
    "# get historical market data\n",
    "hist = stock.history(period=\"3y\")"
   ]
  },
  {
   "cell_type": "code",
   "execution_count": 24,
   "id": "6e46897b-b07b-40cb-a788-76d6230695d7",
   "metadata": {
    "tags": []
   },
   "outputs": [
    {
     "name": "stdout",
     "output_type": "stream",
     "text": [
      "[*********************100%***********************]  1 of 1 completed\n"
     ]
    }
   ],
   "source": [
    "# # Download historical data as dataframe\n",
    "spy_data = yf.download('SPY', start='2020-01-01', end='2023-06-30')"
   ]
  },
  {
   "cell_type": "code",
   "execution_count": 25,
   "id": "78a90caa-a518-4d87-ac51-ae8a4446a571",
   "metadata": {
    "tags": []
   },
   "outputs": [],
   "source": [
    "spy_data.to_csv('./Resources/SPY_3ydata.csv')"
   ]
  },
  {
   "cell_type": "code",
   "execution_count": 26,
   "id": "a3e91264-40d6-4bb6-8ef1-a4b72e26ae56",
   "metadata": {
    "tags": []
   },
   "outputs": [
    {
     "data": {
      "text/html": [
       "<div>\n",
       "<style scoped>\n",
       "    .dataframe tbody tr th:only-of-type {\n",
       "        vertical-align: middle;\n",
       "    }\n",
       "\n",
       "    .dataframe tbody tr th {\n",
       "        vertical-align: top;\n",
       "    }\n",
       "\n",
       "    .dataframe thead th {\n",
       "        text-align: right;\n",
       "    }\n",
       "</style>\n",
       "<table border=\"1\" class=\"dataframe\">\n",
       "  <thead>\n",
       "    <tr style=\"text-align: right;\">\n",
       "      <th></th>\n",
       "      <th>Open</th>\n",
       "      <th>High</th>\n",
       "      <th>Low</th>\n",
       "      <th>Close</th>\n",
       "      <th>Adj Close</th>\n",
       "      <th>Volume</th>\n",
       "    </tr>\n",
       "    <tr>\n",
       "      <th>Date</th>\n",
       "      <th></th>\n",
       "      <th></th>\n",
       "      <th></th>\n",
       "      <th></th>\n",
       "      <th></th>\n",
       "      <th></th>\n",
       "    </tr>\n",
       "  </thead>\n",
       "  <tbody>\n",
       "    <tr>\n",
       "      <th>2020-01-02</th>\n",
       "      <td>323.540009</td>\n",
       "      <td>324.890015</td>\n",
       "      <td>322.529999</td>\n",
       "      <td>324.869995</td>\n",
       "      <td>307.375610</td>\n",
       "      <td>59151200</td>\n",
       "    </tr>\n",
       "    <tr>\n",
       "      <th>2020-01-03</th>\n",
       "      <td>321.160004</td>\n",
       "      <td>323.640015</td>\n",
       "      <td>321.100006</td>\n",
       "      <td>322.410004</td>\n",
       "      <td>305.048187</td>\n",
       "      <td>77709700</td>\n",
       "    </tr>\n",
       "    <tr>\n",
       "      <th>2020-01-06</th>\n",
       "      <td>320.489990</td>\n",
       "      <td>323.730011</td>\n",
       "      <td>320.359985</td>\n",
       "      <td>323.640015</td>\n",
       "      <td>306.211945</td>\n",
       "      <td>55653900</td>\n",
       "    </tr>\n",
       "    <tr>\n",
       "      <th>2020-01-07</th>\n",
       "      <td>323.019989</td>\n",
       "      <td>323.540009</td>\n",
       "      <td>322.239990</td>\n",
       "      <td>322.730011</td>\n",
       "      <td>305.350891</td>\n",
       "      <td>40496400</td>\n",
       "    </tr>\n",
       "    <tr>\n",
       "      <th>2020-01-08</th>\n",
       "      <td>322.940002</td>\n",
       "      <td>325.779999</td>\n",
       "      <td>322.670013</td>\n",
       "      <td>324.450012</td>\n",
       "      <td>306.978271</td>\n",
       "      <td>68296000</td>\n",
       "    </tr>\n",
       "  </tbody>\n",
       "</table>\n",
       "</div>"
      ],
      "text/plain": [
       "                  Open        High         Low       Close   Adj Close  \\\n",
       "Date                                                                     \n",
       "2020-01-02  323.540009  324.890015  322.529999  324.869995  307.375610   \n",
       "2020-01-03  321.160004  323.640015  321.100006  322.410004  305.048187   \n",
       "2020-01-06  320.489990  323.730011  320.359985  323.640015  306.211945   \n",
       "2020-01-07  323.019989  323.540009  322.239990  322.730011  305.350891   \n",
       "2020-01-08  322.940002  325.779999  322.670013  324.450012  306.978271   \n",
       "\n",
       "              Volume  \n",
       "Date                  \n",
       "2020-01-02  59151200  \n",
       "2020-01-03  77709700  \n",
       "2020-01-06  55653900  \n",
       "2020-01-07  40496400  \n",
       "2020-01-08  68296000  "
      ]
     },
     "metadata": {},
     "output_type": "display_data"
    },
    {
     "data": {
      "text/html": [
       "<div>\n",
       "<style scoped>\n",
       "    .dataframe tbody tr th:only-of-type {\n",
       "        vertical-align: middle;\n",
       "    }\n",
       "\n",
       "    .dataframe tbody tr th {\n",
       "        vertical-align: top;\n",
       "    }\n",
       "\n",
       "    .dataframe thead th {\n",
       "        text-align: right;\n",
       "    }\n",
       "</style>\n",
       "<table border=\"1\" class=\"dataframe\">\n",
       "  <thead>\n",
       "    <tr style=\"text-align: right;\">\n",
       "      <th></th>\n",
       "      <th>Open</th>\n",
       "      <th>High</th>\n",
       "      <th>Low</th>\n",
       "      <th>Close</th>\n",
       "      <th>Adj Close</th>\n",
       "      <th>Volume</th>\n",
       "    </tr>\n",
       "    <tr>\n",
       "      <th>Date</th>\n",
       "      <th></th>\n",
       "      <th></th>\n",
       "      <th></th>\n",
       "      <th></th>\n",
       "      <th></th>\n",
       "      <th></th>\n",
       "    </tr>\n",
       "  </thead>\n",
       "  <tbody>\n",
       "    <tr>\n",
       "      <th>2023-06-23</th>\n",
       "      <td>432.929993</td>\n",
       "      <td>435.059998</td>\n",
       "      <td>432.470001</td>\n",
       "      <td>433.209991</td>\n",
       "      <td>433.209991</td>\n",
       "      <td>92074500</td>\n",
       "    </tr>\n",
       "    <tr>\n",
       "      <th>2023-06-26</th>\n",
       "      <td>432.619995</td>\n",
       "      <td>434.609985</td>\n",
       "      <td>431.190002</td>\n",
       "      <td>431.440002</td>\n",
       "      <td>431.440002</td>\n",
       "      <td>72823600</td>\n",
       "    </tr>\n",
       "    <tr>\n",
       "      <th>2023-06-27</th>\n",
       "      <td>432.350006</td>\n",
       "      <td>436.809998</td>\n",
       "      <td>431.880005</td>\n",
       "      <td>436.170013</td>\n",
       "      <td>436.170013</td>\n",
       "      <td>72813700</td>\n",
       "    </tr>\n",
       "    <tr>\n",
       "      <th>2023-06-28</th>\n",
       "      <td>435.049988</td>\n",
       "      <td>437.440002</td>\n",
       "      <td>434.410004</td>\n",
       "      <td>436.390015</td>\n",
       "      <td>436.390015</td>\n",
       "      <td>75636000</td>\n",
       "    </tr>\n",
       "    <tr>\n",
       "      <th>2023-06-29</th>\n",
       "      <td>435.959991</td>\n",
       "      <td>438.279999</td>\n",
       "      <td>435.540009</td>\n",
       "      <td>438.109985</td>\n",
       "      <td>438.109985</td>\n",
       "      <td>67882300</td>\n",
       "    </tr>\n",
       "  </tbody>\n",
       "</table>\n",
       "</div>"
      ],
      "text/plain": [
       "                  Open        High         Low       Close   Adj Close  \\\n",
       "Date                                                                     \n",
       "2023-06-23  432.929993  435.059998  432.470001  433.209991  433.209991   \n",
       "2023-06-26  432.619995  434.609985  431.190002  431.440002  431.440002   \n",
       "2023-06-27  432.350006  436.809998  431.880005  436.170013  436.170013   \n",
       "2023-06-28  435.049988  437.440002  434.410004  436.390015  436.390015   \n",
       "2023-06-29  435.959991  438.279999  435.540009  438.109985  438.109985   \n",
       "\n",
       "              Volume  \n",
       "Date                  \n",
       "2023-06-23  92074500  \n",
       "2023-06-26  72823600  \n",
       "2023-06-27  72813700  \n",
       "2023-06-28  75636000  \n",
       "2023-06-29  67882300  "
      ]
     },
     "metadata": {},
     "output_type": "display_data"
    },
    {
     "name": "stdout",
     "output_type": "stream",
     "text": [
      "<class 'pandas.core.frame.DataFrame'>\n",
      "DatetimeIndex: 879 entries, 2020-01-02 to 2023-06-29\n",
      "Data columns (total 6 columns):\n",
      " #   Column     Non-Null Count  Dtype  \n",
      "---  ------     --------------  -----  \n",
      " 0   Open       879 non-null    float64\n",
      " 1   High       879 non-null    float64\n",
      " 2   Low        879 non-null    float64\n",
      " 3   Close      879 non-null    float64\n",
      " 4   Adj Close  879 non-null    float64\n",
      " 5   Volume     879 non-null    int64  \n",
      "dtypes: float64(5), int64(1)\n",
      "memory usage: 48.1 KB\n"
     ]
    },
    {
     "data": {
      "text/plain": [
       "None"
      ]
     },
     "metadata": {},
     "output_type": "display_data"
    }
   ],
   "source": [
    "spy_3y_df = pd.read_csv(\n",
    "    Path('./Resources/SPY_3ydata.csv'),\n",
    "    index_col='Date', \n",
    "    infer_datetime_format=True, \n",
    "    parse_dates=True\n",
    ")\n",
    "\n",
    "#Review the data frame\n",
    "\n",
    "display(spy_3y_df.head())\n",
    "display(spy_3y_df.tail())\n",
    "display(spy_3y_df.info())"
   ]
  },
  {
   "cell_type": "code",
   "execution_count": 27,
   "id": "d89a8a82-1a75-4ffa-85c6-64d47befd854",
   "metadata": {
    "tags": []
   },
   "outputs": [
    {
     "data": {
      "text/html": [
       "<div>\n",
       "<style scoped>\n",
       "    .dataframe tbody tr th:only-of-type {\n",
       "        vertical-align: middle;\n",
       "    }\n",
       "\n",
       "    .dataframe tbody tr th {\n",
       "        vertical-align: top;\n",
       "    }\n",
       "\n",
       "    .dataframe thead th {\n",
       "        text-align: right;\n",
       "    }\n",
       "</style>\n",
       "<table border=\"1\" class=\"dataframe\">\n",
       "  <thead>\n",
       "    <tr style=\"text-align: right;\">\n",
       "      <th></th>\n",
       "      <th>Close</th>\n",
       "    </tr>\n",
       "    <tr>\n",
       "      <th>Date</th>\n",
       "      <th></th>\n",
       "    </tr>\n",
       "  </thead>\n",
       "  <tbody>\n",
       "    <tr>\n",
       "      <th>2020-01-02</th>\n",
       "      <td>324.869995</td>\n",
       "    </tr>\n",
       "    <tr>\n",
       "      <th>2020-01-03</th>\n",
       "      <td>322.410004</td>\n",
       "    </tr>\n",
       "    <tr>\n",
       "      <th>2020-01-06</th>\n",
       "      <td>323.640015</td>\n",
       "    </tr>\n",
       "    <tr>\n",
       "      <th>2020-01-07</th>\n",
       "      <td>322.730011</td>\n",
       "    </tr>\n",
       "    <tr>\n",
       "      <th>2020-01-08</th>\n",
       "      <td>324.450012</td>\n",
       "    </tr>\n",
       "  </tbody>\n",
       "</table>\n",
       "</div>"
      ],
      "text/plain": [
       "                 Close\n",
       "Date                  \n",
       "2020-01-02  324.869995\n",
       "2020-01-03  322.410004\n",
       "2020-01-06  323.640015\n",
       "2020-01-07  322.730011\n",
       "2020-01-08  324.450012"
      ]
     },
     "metadata": {},
     "output_type": "display_data"
    },
    {
     "data": {
      "text/html": [
       "<div>\n",
       "<style scoped>\n",
       "    .dataframe tbody tr th:only-of-type {\n",
       "        vertical-align: middle;\n",
       "    }\n",
       "\n",
       "    .dataframe tbody tr th {\n",
       "        vertical-align: top;\n",
       "    }\n",
       "\n",
       "    .dataframe thead th {\n",
       "        text-align: right;\n",
       "    }\n",
       "</style>\n",
       "<table border=\"1\" class=\"dataframe\">\n",
       "  <thead>\n",
       "    <tr style=\"text-align: right;\">\n",
       "      <th></th>\n",
       "      <th>Close</th>\n",
       "    </tr>\n",
       "    <tr>\n",
       "      <th>Date</th>\n",
       "      <th></th>\n",
       "    </tr>\n",
       "  </thead>\n",
       "  <tbody>\n",
       "    <tr>\n",
       "      <th>2023-06-23</th>\n",
       "      <td>433.209991</td>\n",
       "    </tr>\n",
       "    <tr>\n",
       "      <th>2023-06-26</th>\n",
       "      <td>431.440002</td>\n",
       "    </tr>\n",
       "    <tr>\n",
       "      <th>2023-06-27</th>\n",
       "      <td>436.170013</td>\n",
       "    </tr>\n",
       "    <tr>\n",
       "      <th>2023-06-28</th>\n",
       "      <td>436.390015</td>\n",
       "    </tr>\n",
       "    <tr>\n",
       "      <th>2023-06-29</th>\n",
       "      <td>438.109985</td>\n",
       "    </tr>\n",
       "  </tbody>\n",
       "</table>\n",
       "</div>"
      ],
      "text/plain": [
       "                 Close\n",
       "Date                  \n",
       "2023-06-23  433.209991\n",
       "2023-06-26  431.440002\n",
       "2023-06-27  436.170013\n",
       "2023-06-28  436.390015\n",
       "2023-06-29  438.109985"
      ]
     },
     "metadata": {},
     "output_type": "display_data"
    },
    {
     "name": "stdout",
     "output_type": "stream",
     "text": [
      "<class 'pandas.core.frame.DataFrame'>\n",
      "DatetimeIndex: 879 entries, 2020-01-02 to 2023-06-29\n",
      "Data columns (total 1 columns):\n",
      " #   Column  Non-Null Count  Dtype  \n",
      "---  ------  --------------  -----  \n",
      " 0   Close   879 non-null    float64\n",
      "dtypes: float64(1)\n",
      "memory usage: 13.7 KB\n"
     ]
    },
    {
     "data": {
      "text/plain": [
       "None"
      ]
     },
     "metadata": {},
     "output_type": "display_data"
    }
   ],
   "source": [
    "#take the Close data\n",
    "spy_signals = spy_3y_df.loc[:, ['Close']]\n",
    "\n",
    "display(spy_signals.head())\n",
    "display(spy_signals.tail())\n",
    "display(spy_signals.info())"
   ]
  },
  {
   "cell_type": "code",
   "execution_count": 28,
   "id": "70fdd392-adba-47bd-9573-d0e2ec2adae4",
   "metadata": {
    "tags": []
   },
   "outputs": [
    {
     "data": {
      "text/html": [
       "<div>\n",
       "<style scoped>\n",
       "    .dataframe tbody tr th:only-of-type {\n",
       "        vertical-align: middle;\n",
       "    }\n",
       "\n",
       "    .dataframe tbody tr th {\n",
       "        vertical-align: top;\n",
       "    }\n",
       "\n",
       "    .dataframe thead th {\n",
       "        text-align: right;\n",
       "    }\n",
       "</style>\n",
       "<table border=\"1\" class=\"dataframe\">\n",
       "  <thead>\n",
       "    <tr style=\"text-align: right;\">\n",
       "      <th></th>\n",
       "      <th>Close</th>\n",
       "      <th>Actual Returns</th>\n",
       "    </tr>\n",
       "    <tr>\n",
       "      <th>Date</th>\n",
       "      <th></th>\n",
       "      <th></th>\n",
       "    </tr>\n",
       "  </thead>\n",
       "  <tbody>\n",
       "    <tr>\n",
       "      <th>2020-01-03</th>\n",
       "      <td>322.410004</td>\n",
       "      <td>-0.007572</td>\n",
       "    </tr>\n",
       "    <tr>\n",
       "      <th>2020-01-06</th>\n",
       "      <td>323.640015</td>\n",
       "      <td>0.003815</td>\n",
       "    </tr>\n",
       "    <tr>\n",
       "      <th>2020-01-07</th>\n",
       "      <td>322.730011</td>\n",
       "      <td>-0.002812</td>\n",
       "    </tr>\n",
       "    <tr>\n",
       "      <th>2020-01-08</th>\n",
       "      <td>324.450012</td>\n",
       "      <td>0.005330</td>\n",
       "    </tr>\n",
       "    <tr>\n",
       "      <th>2020-01-09</th>\n",
       "      <td>326.649994</td>\n",
       "      <td>0.006781</td>\n",
       "    </tr>\n",
       "  </tbody>\n",
       "</table>\n",
       "</div>"
      ],
      "text/plain": [
       "                 Close  Actual Returns\n",
       "Date                                  \n",
       "2020-01-03  322.410004       -0.007572\n",
       "2020-01-06  323.640015        0.003815\n",
       "2020-01-07  322.730011       -0.002812\n",
       "2020-01-08  324.450012        0.005330\n",
       "2020-01-09  326.649994        0.006781"
      ]
     },
     "metadata": {},
     "output_type": "display_data"
    },
    {
     "data": {
      "text/html": [
       "<div>\n",
       "<style scoped>\n",
       "    .dataframe tbody tr th:only-of-type {\n",
       "        vertical-align: middle;\n",
       "    }\n",
       "\n",
       "    .dataframe tbody tr th {\n",
       "        vertical-align: top;\n",
       "    }\n",
       "\n",
       "    .dataframe thead th {\n",
       "        text-align: right;\n",
       "    }\n",
       "</style>\n",
       "<table border=\"1\" class=\"dataframe\">\n",
       "  <thead>\n",
       "    <tr style=\"text-align: right;\">\n",
       "      <th></th>\n",
       "      <th>Close</th>\n",
       "      <th>Actual Returns</th>\n",
       "    </tr>\n",
       "    <tr>\n",
       "      <th>Date</th>\n",
       "      <th></th>\n",
       "      <th></th>\n",
       "    </tr>\n",
       "  </thead>\n",
       "  <tbody>\n",
       "    <tr>\n",
       "      <th>2023-06-23</th>\n",
       "      <td>433.209991</td>\n",
       "      <td>-0.007560</td>\n",
       "    </tr>\n",
       "    <tr>\n",
       "      <th>2023-06-26</th>\n",
       "      <td>431.440002</td>\n",
       "      <td>-0.004086</td>\n",
       "    </tr>\n",
       "    <tr>\n",
       "      <th>2023-06-27</th>\n",
       "      <td>436.170013</td>\n",
       "      <td>0.010963</td>\n",
       "    </tr>\n",
       "    <tr>\n",
       "      <th>2023-06-28</th>\n",
       "      <td>436.390015</td>\n",
       "      <td>0.000504</td>\n",
       "    </tr>\n",
       "    <tr>\n",
       "      <th>2023-06-29</th>\n",
       "      <td>438.109985</td>\n",
       "      <td>0.003941</td>\n",
       "    </tr>\n",
       "  </tbody>\n",
       "</table>\n",
       "</div>"
      ],
      "text/plain": [
       "                 Close  Actual Returns\n",
       "Date                                  \n",
       "2023-06-23  433.209991       -0.007560\n",
       "2023-06-26  431.440002       -0.004086\n",
       "2023-06-27  436.170013        0.010963\n",
       "2023-06-28  436.390015        0.000504\n",
       "2023-06-29  438.109985        0.003941"
      ]
     },
     "metadata": {},
     "output_type": "display_data"
    },
    {
     "name": "stdout",
     "output_type": "stream",
     "text": [
      "<class 'pandas.core.frame.DataFrame'>\n",
      "DatetimeIndex: 878 entries, 2020-01-03 to 2023-06-29\n",
      "Data columns (total 2 columns):\n",
      " #   Column          Non-Null Count  Dtype  \n",
      "---  ------          --------------  -----  \n",
      " 0   Close           878 non-null    float64\n",
      " 1   Actual Returns  878 non-null    float64\n",
      "dtypes: float64(2)\n",
      "memory usage: 20.6 KB\n"
     ]
    },
    {
     "data": {
      "text/plain": [
       "None"
      ]
     },
     "metadata": {},
     "output_type": "display_data"
    }
   ],
   "source": [
    "# Calculate the actual returns\n",
    "\n",
    "spy_signals['Actual Returns'] = spy_signals['Close'].pct_change()\n",
    "\n",
    "#Drop the NaN values\n",
    "\n",
    "spy_signals = spy_signals.dropna()\n",
    "\n",
    "#review the dataframe\n",
    "display(spy_signals.head())\n",
    "display(spy_signals.tail())\n",
    "display(spy_signals.info())"
   ]
  },
  {
   "cell_type": "code",
   "execution_count": 29,
   "id": "4b032a51-066d-402e-9063-ba28760a6d9b",
   "metadata": {
    "tags": []
   },
   "outputs": [],
   "source": [
    "# Set the short window and long window\n",
    "short_window = 5\n",
    "long_window = 100\n",
    "\n",
    "# Generate the fast and slow simple moving averages (4 and 100 days, respectively)\n",
    "spy_signals['SMA_Short'] = spy_signals['Close'].rolling(window=short_window).mean()\n",
    "spy_signals['SMA_Long'] = spy_signals['Close'].rolling(window=long_window).mean()"
   ]
  },
  {
   "cell_type": "code",
   "execution_count": 30,
   "id": "a1b05a01-11c2-43d0-bbd6-b7906f6bf861",
   "metadata": {
    "tags": []
   },
   "outputs": [
    {
     "data": {
      "text/html": [
       "<div>\n",
       "<style scoped>\n",
       "    .dataframe tbody tr th:only-of-type {\n",
       "        vertical-align: middle;\n",
       "    }\n",
       "\n",
       "    .dataframe tbody tr th {\n",
       "        vertical-align: top;\n",
       "    }\n",
       "\n",
       "    .dataframe thead th {\n",
       "        text-align: right;\n",
       "    }\n",
       "</style>\n",
       "<table border=\"1\" class=\"dataframe\">\n",
       "  <thead>\n",
       "    <tr style=\"text-align: right;\">\n",
       "      <th></th>\n",
       "      <th>Close</th>\n",
       "      <th>Actual Returns</th>\n",
       "      <th>SMA_Short</th>\n",
       "      <th>SMA_Long</th>\n",
       "      <th>Signal</th>\n",
       "    </tr>\n",
       "    <tr>\n",
       "      <th>Date</th>\n",
       "      <th></th>\n",
       "      <th></th>\n",
       "      <th></th>\n",
       "      <th></th>\n",
       "      <th></th>\n",
       "    </tr>\n",
       "  </thead>\n",
       "  <tbody>\n",
       "    <tr>\n",
       "      <th>2020-05-27</th>\n",
       "      <td>303.529999</td>\n",
       "      <td>0.014879</td>\n",
       "      <td>297.971997</td>\n",
       "      <td>295.964602</td>\n",
       "      <td>1.0</td>\n",
       "    </tr>\n",
       "    <tr>\n",
       "      <th>2020-05-28</th>\n",
       "      <td>302.970001</td>\n",
       "      <td>-0.001845</td>\n",
       "      <td>299.179999</td>\n",
       "      <td>295.770202</td>\n",
       "      <td>-1.0</td>\n",
       "    </tr>\n",
       "    <tr>\n",
       "      <th>2020-05-29</th>\n",
       "      <td>304.320007</td>\n",
       "      <td>0.004456</td>\n",
       "      <td>301.067999</td>\n",
       "      <td>295.577002</td>\n",
       "      <td>1.0</td>\n",
       "    </tr>\n",
       "    <tr>\n",
       "      <th>2020-06-01</th>\n",
       "      <td>305.549988</td>\n",
       "      <td>0.004042</td>\n",
       "      <td>303.089996</td>\n",
       "      <td>295.405201</td>\n",
       "      <td>1.0</td>\n",
       "    </tr>\n",
       "    <tr>\n",
       "      <th>2020-06-02</th>\n",
       "      <td>308.079987</td>\n",
       "      <td>0.008280</td>\n",
       "      <td>304.889996</td>\n",
       "      <td>295.241501</td>\n",
       "      <td>1.0</td>\n",
       "    </tr>\n",
       "  </tbody>\n",
       "</table>\n",
       "</div>"
      ],
      "text/plain": [
       "                 Close  Actual Returns   SMA_Short    SMA_Long  Signal\n",
       "Date                                                                  \n",
       "2020-05-27  303.529999        0.014879  297.971997  295.964602     1.0\n",
       "2020-05-28  302.970001       -0.001845  299.179999  295.770202    -1.0\n",
       "2020-05-29  304.320007        0.004456  301.067999  295.577002     1.0\n",
       "2020-06-01  305.549988        0.004042  303.089996  295.405201     1.0\n",
       "2020-06-02  308.079987        0.008280  304.889996  295.241501     1.0"
      ]
     },
     "metadata": {},
     "output_type": "display_data"
    },
    {
     "data": {
      "text/html": [
       "<div>\n",
       "<style scoped>\n",
       "    .dataframe tbody tr th:only-of-type {\n",
       "        vertical-align: middle;\n",
       "    }\n",
       "\n",
       "    .dataframe tbody tr th {\n",
       "        vertical-align: top;\n",
       "    }\n",
       "\n",
       "    .dataframe thead th {\n",
       "        text-align: right;\n",
       "    }\n",
       "</style>\n",
       "<table border=\"1\" class=\"dataframe\">\n",
       "  <thead>\n",
       "    <tr style=\"text-align: right;\">\n",
       "      <th></th>\n",
       "      <th>Close</th>\n",
       "      <th>Actual Returns</th>\n",
       "      <th>SMA_Short</th>\n",
       "      <th>SMA_Long</th>\n",
       "      <th>Signal</th>\n",
       "    </tr>\n",
       "    <tr>\n",
       "      <th>Date</th>\n",
       "      <th></th>\n",
       "      <th></th>\n",
       "      <th></th>\n",
       "      <th></th>\n",
       "      <th></th>\n",
       "    </tr>\n",
       "  </thead>\n",
       "  <tbody>\n",
       "    <tr>\n",
       "      <th>2023-06-23</th>\n",
       "      <td>433.209991</td>\n",
       "      <td>-0.007560</td>\n",
       "      <td>436.259998</td>\n",
       "      <td>410.842800</td>\n",
       "      <td>-1.0</td>\n",
       "    </tr>\n",
       "    <tr>\n",
       "      <th>2023-06-26</th>\n",
       "      <td>431.440002</td>\n",
       "      <td>-0.004086</td>\n",
       "      <td>434.656000</td>\n",
       "      <td>411.092400</td>\n",
       "      <td>-1.0</td>\n",
       "    </tr>\n",
       "    <tr>\n",
       "      <th>2023-06-27</th>\n",
       "      <td>436.170013</td>\n",
       "      <td>0.010963</td>\n",
       "      <td>434.454004</td>\n",
       "      <td>411.346100</td>\n",
       "      <td>1.0</td>\n",
       "    </tr>\n",
       "    <tr>\n",
       "      <th>2023-06-28</th>\n",
       "      <td>436.390015</td>\n",
       "      <td>0.000504</td>\n",
       "      <td>434.744006</td>\n",
       "      <td>411.542201</td>\n",
       "      <td>1.0</td>\n",
       "    </tr>\n",
       "    <tr>\n",
       "      <th>2023-06-29</th>\n",
       "      <td>438.109985</td>\n",
       "      <td>0.003941</td>\n",
       "      <td>435.064001</td>\n",
       "      <td>411.799800</td>\n",
       "      <td>1.0</td>\n",
       "    </tr>\n",
       "  </tbody>\n",
       "</table>\n",
       "</div>"
      ],
      "text/plain": [
       "                 Close  Actual Returns   SMA_Short    SMA_Long  Signal\n",
       "Date                                                                  \n",
       "2023-06-23  433.209991       -0.007560  436.259998  410.842800    -1.0\n",
       "2023-06-26  431.440002       -0.004086  434.656000  411.092400    -1.0\n",
       "2023-06-27  436.170013        0.010963  434.454004  411.346100     1.0\n",
       "2023-06-28  436.390015        0.000504  434.744006  411.542201     1.0\n",
       "2023-06-29  438.109985        0.003941  435.064001  411.799800     1.0"
      ]
     },
     "metadata": {},
     "output_type": "display_data"
    },
    {
     "name": "stdout",
     "output_type": "stream",
     "text": [
      "<class 'pandas.core.frame.DataFrame'>\n",
      "DatetimeIndex: 779 entries, 2020-05-27 to 2023-06-29\n",
      "Data columns (total 5 columns):\n",
      " #   Column          Non-Null Count  Dtype  \n",
      "---  ------          --------------  -----  \n",
      " 0   Close           779 non-null    float64\n",
      " 1   Actual Returns  779 non-null    float64\n",
      " 2   SMA_Short       779 non-null    float64\n",
      " 3   SMA_Long        779 non-null    float64\n",
      " 4   Signal          779 non-null    float64\n",
      "dtypes: float64(5)\n",
      "memory usage: 36.5 KB\n"
     ]
    },
    {
     "data": {
      "text/plain": [
       "None"
      ]
     },
     "metadata": {},
     "output_type": "display_data"
    }
   ],
   "source": [
    "# Initialize the new Signal column\n",
    "spy_signals['Signal'] = 0.0\n",
    "\n",
    "# When Actual Returns are greater than or equal to 0, generate signal to buy stock long\n",
    "spy_signals.loc[(spy_signals['Actual Returns'] >= 0), 'Signal'] = 1\n",
    "\n",
    "# When Actual Returns are less than 0, generate signal to sell stock short\n",
    "spy_signals.loc[(spy_signals['Actual Returns'] < 0), 'Signal'] = -1\n",
    "\n",
    "# Drop NaN again from the new columns - Short and Long SMA\n",
    "\n",
    "spy_signals = spy_signals.dropna()\n",
    "\n",
    "# Review the DataFrame\n",
    "display(spy_signals.head())\n",
    "display(spy_signals.tail())\n",
    "display(spy_signals.info())"
   ]
  },
  {
   "cell_type": "code",
   "execution_count": 31,
   "id": "ae2c8018-353c-4d1b-8690-c3cf2ac7bf66",
   "metadata": {
    "tags": []
   },
   "outputs": [
    {
     "data": {
      "text/plain": [
       " 1.0    415\n",
       "-1.0    364\n",
       "Name: Signal, dtype: int64"
      ]
     },
     "execution_count": 31,
     "metadata": {},
     "output_type": "execute_result"
    }
   ],
   "source": [
    "#Verify data in 'Signal' column is balanced\n",
    "spy_signals['Signal'].value_counts()"
   ]
  },
  {
   "cell_type": "code",
   "execution_count": 32,
   "id": "f4054ec9-af30-44f4-88d6-de2f45790eae",
   "metadata": {
    "tags": []
   },
   "outputs": [
    {
     "data": {
      "text/html": [
       "<div>\n",
       "<style scoped>\n",
       "    .dataframe tbody tr th:only-of-type {\n",
       "        vertical-align: middle;\n",
       "    }\n",
       "\n",
       "    .dataframe tbody tr th {\n",
       "        vertical-align: top;\n",
       "    }\n",
       "\n",
       "    .dataframe thead th {\n",
       "        text-align: right;\n",
       "    }\n",
       "</style>\n",
       "<table border=\"1\" class=\"dataframe\">\n",
       "  <thead>\n",
       "    <tr style=\"text-align: right;\">\n",
       "      <th></th>\n",
       "      <th>Close</th>\n",
       "      <th>Actual Returns</th>\n",
       "      <th>SMA_Short</th>\n",
       "      <th>SMA_Long</th>\n",
       "      <th>Signal</th>\n",
       "      <th>Strategy Returns</th>\n",
       "    </tr>\n",
       "    <tr>\n",
       "      <th>Date</th>\n",
       "      <th></th>\n",
       "      <th></th>\n",
       "      <th></th>\n",
       "      <th></th>\n",
       "      <th></th>\n",
       "      <th></th>\n",
       "    </tr>\n",
       "  </thead>\n",
       "  <tbody>\n",
       "    <tr>\n",
       "      <th>2020-05-28</th>\n",
       "      <td>302.970001</td>\n",
       "      <td>-0.001845</td>\n",
       "      <td>299.179999</td>\n",
       "      <td>295.770202</td>\n",
       "      <td>-1.0</td>\n",
       "      <td>-0.001845</td>\n",
       "    </tr>\n",
       "    <tr>\n",
       "      <th>2020-05-29</th>\n",
       "      <td>304.320007</td>\n",
       "      <td>0.004456</td>\n",
       "      <td>301.067999</td>\n",
       "      <td>295.577002</td>\n",
       "      <td>1.0</td>\n",
       "      <td>-0.004456</td>\n",
       "    </tr>\n",
       "    <tr>\n",
       "      <th>2020-06-01</th>\n",
       "      <td>305.549988</td>\n",
       "      <td>0.004042</td>\n",
       "      <td>303.089996</td>\n",
       "      <td>295.405201</td>\n",
       "      <td>1.0</td>\n",
       "      <td>0.004042</td>\n",
       "    </tr>\n",
       "    <tr>\n",
       "      <th>2020-06-02</th>\n",
       "      <td>308.079987</td>\n",
       "      <td>0.008280</td>\n",
       "      <td>304.889996</td>\n",
       "      <td>295.241501</td>\n",
       "      <td>1.0</td>\n",
       "      <td>0.008280</td>\n",
       "    </tr>\n",
       "    <tr>\n",
       "      <th>2020-06-03</th>\n",
       "      <td>312.179993</td>\n",
       "      <td>0.013308</td>\n",
       "      <td>306.619995</td>\n",
       "      <td>295.096801</td>\n",
       "      <td>1.0</td>\n",
       "      <td>0.013308</td>\n",
       "    </tr>\n",
       "  </tbody>\n",
       "</table>\n",
       "</div>"
      ],
      "text/plain": [
       "                 Close  Actual Returns   SMA_Short    SMA_Long  Signal  \\\n",
       "Date                                                                     \n",
       "2020-05-28  302.970001       -0.001845  299.179999  295.770202    -1.0   \n",
       "2020-05-29  304.320007        0.004456  301.067999  295.577002     1.0   \n",
       "2020-06-01  305.549988        0.004042  303.089996  295.405201     1.0   \n",
       "2020-06-02  308.079987        0.008280  304.889996  295.241501     1.0   \n",
       "2020-06-03  312.179993        0.013308  306.619995  295.096801     1.0   \n",
       "\n",
       "            Strategy Returns  \n",
       "Date                          \n",
       "2020-05-28         -0.001845  \n",
       "2020-05-29         -0.004456  \n",
       "2020-06-01          0.004042  \n",
       "2020-06-02          0.008280  \n",
       "2020-06-03          0.013308  "
      ]
     },
     "metadata": {},
     "output_type": "display_data"
    },
    {
     "data": {
      "text/html": [
       "<div>\n",
       "<style scoped>\n",
       "    .dataframe tbody tr th:only-of-type {\n",
       "        vertical-align: middle;\n",
       "    }\n",
       "\n",
       "    .dataframe tbody tr th {\n",
       "        vertical-align: top;\n",
       "    }\n",
       "\n",
       "    .dataframe thead th {\n",
       "        text-align: right;\n",
       "    }\n",
       "</style>\n",
       "<table border=\"1\" class=\"dataframe\">\n",
       "  <thead>\n",
       "    <tr style=\"text-align: right;\">\n",
       "      <th></th>\n",
       "      <th>Close</th>\n",
       "      <th>Actual Returns</th>\n",
       "      <th>SMA_Short</th>\n",
       "      <th>SMA_Long</th>\n",
       "      <th>Signal</th>\n",
       "      <th>Strategy Returns</th>\n",
       "    </tr>\n",
       "    <tr>\n",
       "      <th>Date</th>\n",
       "      <th></th>\n",
       "      <th></th>\n",
       "      <th></th>\n",
       "      <th></th>\n",
       "      <th></th>\n",
       "      <th></th>\n",
       "    </tr>\n",
       "  </thead>\n",
       "  <tbody>\n",
       "    <tr>\n",
       "      <th>2023-06-23</th>\n",
       "      <td>433.209991</td>\n",
       "      <td>-0.007560</td>\n",
       "      <td>436.259998</td>\n",
       "      <td>410.842800</td>\n",
       "      <td>-1.0</td>\n",
       "      <td>-0.007560</td>\n",
       "    </tr>\n",
       "    <tr>\n",
       "      <th>2023-06-26</th>\n",
       "      <td>431.440002</td>\n",
       "      <td>-0.004086</td>\n",
       "      <td>434.656000</td>\n",
       "      <td>411.092400</td>\n",
       "      <td>-1.0</td>\n",
       "      <td>0.004086</td>\n",
       "    </tr>\n",
       "    <tr>\n",
       "      <th>2023-06-27</th>\n",
       "      <td>436.170013</td>\n",
       "      <td>0.010963</td>\n",
       "      <td>434.454004</td>\n",
       "      <td>411.346100</td>\n",
       "      <td>1.0</td>\n",
       "      <td>-0.010963</td>\n",
       "    </tr>\n",
       "    <tr>\n",
       "      <th>2023-06-28</th>\n",
       "      <td>436.390015</td>\n",
       "      <td>0.000504</td>\n",
       "      <td>434.744006</td>\n",
       "      <td>411.542201</td>\n",
       "      <td>1.0</td>\n",
       "      <td>0.000504</td>\n",
       "    </tr>\n",
       "    <tr>\n",
       "      <th>2023-06-29</th>\n",
       "      <td>438.109985</td>\n",
       "      <td>0.003941</td>\n",
       "      <td>435.064001</td>\n",
       "      <td>411.799800</td>\n",
       "      <td>1.0</td>\n",
       "      <td>0.003941</td>\n",
       "    </tr>\n",
       "  </tbody>\n",
       "</table>\n",
       "</div>"
      ],
      "text/plain": [
       "                 Close  Actual Returns   SMA_Short    SMA_Long  Signal  \\\n",
       "Date                                                                     \n",
       "2023-06-23  433.209991       -0.007560  436.259998  410.842800    -1.0   \n",
       "2023-06-26  431.440002       -0.004086  434.656000  411.092400    -1.0   \n",
       "2023-06-27  436.170013        0.010963  434.454004  411.346100     1.0   \n",
       "2023-06-28  436.390015        0.000504  434.744006  411.542201     1.0   \n",
       "2023-06-29  438.109985        0.003941  435.064001  411.799800     1.0   \n",
       "\n",
       "            Strategy Returns  \n",
       "Date                          \n",
       "2023-06-23         -0.007560  \n",
       "2023-06-26          0.004086  \n",
       "2023-06-27         -0.010963  \n",
       "2023-06-28          0.000504  \n",
       "2023-06-29          0.003941  "
      ]
     },
     "metadata": {},
     "output_type": "display_data"
    },
    {
     "name": "stdout",
     "output_type": "stream",
     "text": [
      "<class 'pandas.core.frame.DataFrame'>\n",
      "DatetimeIndex: 778 entries, 2020-05-28 to 2023-06-29\n",
      "Data columns (total 6 columns):\n",
      " #   Column            Non-Null Count  Dtype  \n",
      "---  ------            --------------  -----  \n",
      " 0   Close             778 non-null    float64\n",
      " 1   Actual Returns    778 non-null    float64\n",
      " 2   SMA_Short         778 non-null    float64\n",
      " 3   SMA_Long          778 non-null    float64\n",
      " 4   Signal            778 non-null    float64\n",
      " 5   Strategy Returns  778 non-null    float64\n",
      "dtypes: float64(6)\n",
      "memory usage: 42.5 KB\n"
     ]
    },
    {
     "data": {
      "text/plain": [
       "None"
      ]
     },
     "metadata": {},
     "output_type": "display_data"
    }
   ],
   "source": [
    "## Calculate Strategy returns based on the Signal\n",
    "spy_signals['Strategy Returns'] = spy_signals['Actual Returns'] * spy_signals['Signal'].shift()\n",
    "\n",
    "#drop the NaNs\n",
    "\n",
    "spy_signals = spy_signals.dropna()\n",
    "\n",
    "#review the df\n",
    "\n",
    "display(spy_signals.head())\n",
    "display(spy_signals.tail())\n",
    "display(spy_signals.info())"
   ]
  },
  {
   "cell_type": "code",
   "execution_count": 33,
   "id": "81a10c73-ed84-47d5-95fa-f67e626fb50d",
   "metadata": {
    "tags": []
   },
   "outputs": [
    {
     "data": {
      "text/plain": [
       "<Axes: xlabel='Date', ylabel='Strategy Returns'>"
      ]
     },
     "execution_count": 33,
     "metadata": {},
     "output_type": "execute_result"
    },
    {
     "data": {
      "image/png": "[encoded data removed]",
      "text/plain": [
       "<Figure size 1000x500 with 1 Axes>"
      ]
     },
     "metadata": {},
     "output_type": "display_data"
    }
   ],
   "source": [
    "# PLot the data frame\n",
    "(1+spy_signals['Strategy Returns']).cumprod().plot(figsize=(10,5), ylabel = 'Strategy Returns')"
   ]
  },
  {
   "cell_type": "markdown",
   "id": "1fbe0433-a8df-4d16-9eb6-86236999a03d",
   "metadata": {},
   "source": [
    "#### Training the Model"
   ]
  },
  {
   "cell_type": "code",
   "execution_count": 34,
   "id": "a2fb81df-2577-459c-a15d-b4ab25634331",
   "metadata": {
    "tags": []
   },
   "outputs": [
    {
     "data": {
      "text/html": [
       "<div>\n",
       "<style scoped>\n",
       "    .dataframe tbody tr th:only-of-type {\n",
       "        vertical-align: middle;\n",
       "    }\n",
       "\n",
       "    .dataframe tbody tr th {\n",
       "        vertical-align: top;\n",
       "    }\n",
       "\n",
       "    .dataframe thead th {\n",
       "        text-align: right;\n",
       "    }\n",
       "</style>\n",
       "<table border=\"1\" class=\"dataframe\">\n",
       "  <thead>\n",
       "    <tr style=\"text-align: right;\">\n",
       "      <th></th>\n",
       "      <th>SMA_Short</th>\n",
       "      <th>SMA_Long</th>\n",
       "    </tr>\n",
       "    <tr>\n",
       "      <th>Date</th>\n",
       "      <th></th>\n",
       "      <th></th>\n",
       "    </tr>\n",
       "  </thead>\n",
       "  <tbody>\n",
       "    <tr>\n",
       "      <th>2020-05-29</th>\n",
       "      <td>299.179999</td>\n",
       "      <td>295.770202</td>\n",
       "    </tr>\n",
       "    <tr>\n",
       "      <th>2020-06-01</th>\n",
       "      <td>301.067999</td>\n",
       "      <td>295.577002</td>\n",
       "    </tr>\n",
       "    <tr>\n",
       "      <th>2020-06-02</th>\n",
       "      <td>303.089996</td>\n",
       "      <td>295.405201</td>\n",
       "    </tr>\n",
       "    <tr>\n",
       "      <th>2020-06-03</th>\n",
       "      <td>304.889996</td>\n",
       "      <td>295.241501</td>\n",
       "    </tr>\n",
       "    <tr>\n",
       "      <th>2020-06-04</th>\n",
       "      <td>306.619995</td>\n",
       "      <td>295.096801</td>\n",
       "    </tr>\n",
       "  </tbody>\n",
       "</table>\n",
       "</div>"
      ],
      "text/plain": [
       "             SMA_Short    SMA_Long\n",
       "Date                              \n",
       "2020-05-29  299.179999  295.770202\n",
       "2020-06-01  301.067999  295.577002\n",
       "2020-06-02  303.089996  295.405201\n",
       "2020-06-03  304.889996  295.241501\n",
       "2020-06-04  306.619995  295.096801"
      ]
     },
     "metadata": {},
     "output_type": "display_data"
    },
    {
     "data": {
      "text/html": [
       "<div>\n",
       "<style scoped>\n",
       "    .dataframe tbody tr th:only-of-type {\n",
       "        vertical-align: middle;\n",
       "    }\n",
       "\n",
       "    .dataframe tbody tr th {\n",
       "        vertical-align: top;\n",
       "    }\n",
       "\n",
       "    .dataframe thead th {\n",
       "        text-align: right;\n",
       "    }\n",
       "</style>\n",
       "<table border=\"1\" class=\"dataframe\">\n",
       "  <thead>\n",
       "    <tr style=\"text-align: right;\">\n",
       "      <th></th>\n",
       "      <th>SMA_Short</th>\n",
       "      <th>SMA_Long</th>\n",
       "    </tr>\n",
       "    <tr>\n",
       "      <th>Date</th>\n",
       "      <th></th>\n",
       "      <th></th>\n",
       "    </tr>\n",
       "  </thead>\n",
       "  <tbody>\n",
       "    <tr>\n",
       "      <th>2023-06-23</th>\n",
       "      <td>438.138000</td>\n",
       "      <td>410.516600</td>\n",
       "    </tr>\n",
       "    <tr>\n",
       "      <th>2023-06-26</th>\n",
       "      <td>436.259998</td>\n",
       "      <td>410.842800</td>\n",
       "    </tr>\n",
       "    <tr>\n",
       "      <th>2023-06-27</th>\n",
       "      <td>434.656000</td>\n",
       "      <td>411.092400</td>\n",
       "    </tr>\n",
       "    <tr>\n",
       "      <th>2023-06-28</th>\n",
       "      <td>434.454004</td>\n",
       "      <td>411.346100</td>\n",
       "    </tr>\n",
       "    <tr>\n",
       "      <th>2023-06-29</th>\n",
       "      <td>434.744006</td>\n",
       "      <td>411.542201</td>\n",
       "    </tr>\n",
       "  </tbody>\n",
       "</table>\n",
       "</div>"
      ],
      "text/plain": [
       "             SMA_Short    SMA_Long\n",
       "Date                              \n",
       "2023-06-23  438.138000  410.516600\n",
       "2023-06-26  436.259998  410.842800\n",
       "2023-06-27  434.656000  411.092400\n",
       "2023-06-28  434.454004  411.346100\n",
       "2023-06-29  434.744006  411.542201"
      ]
     },
     "metadata": {},
     "output_type": "display_data"
    },
    {
     "name": "stdout",
     "output_type": "stream",
     "text": [
      "<class 'pandas.core.frame.DataFrame'>\n",
      "DatetimeIndex: 777 entries, 2020-05-29 to 2023-06-29\n",
      "Data columns (total 2 columns):\n",
      " #   Column     Non-Null Count  Dtype  \n",
      "---  ------     --------------  -----  \n",
      " 0   SMA_Short  777 non-null    float64\n",
      " 1   SMA_Long   777 non-null    float64\n",
      "dtypes: float64(2)\n",
      "memory usage: 18.2 KB\n"
     ]
    },
    {
     "data": {
      "text/plain": [
       "None"
      ]
     },
     "metadata": {},
     "output_type": "display_data"
    }
   ],
   "source": [
    "# Define the data for 'X'\n",
    "X = spy_signals[['SMA_Short','SMA_Long']].shift().dropna()\n",
    "\n",
    "# Inspect the dataframe\n",
    "\n",
    "display(X.head())\n",
    "display(X.tail())\n",
    "display(X.info())"
   ]
  },
  {
   "cell_type": "code",
   "execution_count": 35,
   "id": "4737af88-4c22-499d-ad85-321eaaef715e",
   "metadata": {
    "tags": []
   },
   "outputs": [
    {
     "data": {
      "text/html": [
       "<div>\n",
       "<style scoped>\n",
       "    .dataframe tbody tr th:only-of-type {\n",
       "        vertical-align: middle;\n",
       "    }\n",
       "\n",
       "    .dataframe tbody tr th {\n",
       "        vertical-align: top;\n",
       "    }\n",
       "\n",
       "    .dataframe thead th {\n",
       "        text-align: right;\n",
       "    }\n",
       "</style>\n",
       "<table border=\"1\" class=\"dataframe\">\n",
       "  <thead>\n",
       "    <tr style=\"text-align: right;\">\n",
       "      <th></th>\n",
       "      <th>Signal</th>\n",
       "    </tr>\n",
       "    <tr>\n",
       "      <th>Date</th>\n",
       "      <th></th>\n",
       "    </tr>\n",
       "  </thead>\n",
       "  <tbody>\n",
       "    <tr>\n",
       "      <th>2020-05-28</th>\n",
       "      <td>-1.0</td>\n",
       "    </tr>\n",
       "    <tr>\n",
       "      <th>2020-05-29</th>\n",
       "      <td>1.0</td>\n",
       "    </tr>\n",
       "    <tr>\n",
       "      <th>2020-06-01</th>\n",
       "      <td>1.0</td>\n",
       "    </tr>\n",
       "    <tr>\n",
       "      <th>2020-06-02</th>\n",
       "      <td>1.0</td>\n",
       "    </tr>\n",
       "    <tr>\n",
       "      <th>2020-06-03</th>\n",
       "      <td>1.0</td>\n",
       "    </tr>\n",
       "  </tbody>\n",
       "</table>\n",
       "</div>"
      ],
      "text/plain": [
       "            Signal\n",
       "Date              \n",
       "2020-05-28    -1.0\n",
       "2020-05-29     1.0\n",
       "2020-06-01     1.0\n",
       "2020-06-02     1.0\n",
       "2020-06-03     1.0"
      ]
     },
     "metadata": {},
     "output_type": "display_data"
    },
    {
     "data": {
      "text/html": [
       "<div>\n",
       "<style scoped>\n",
       "    .dataframe tbody tr th:only-of-type {\n",
       "        vertical-align: middle;\n",
       "    }\n",
       "\n",
       "    .dataframe tbody tr th {\n",
       "        vertical-align: top;\n",
       "    }\n",
       "\n",
       "    .dataframe thead th {\n",
       "        text-align: right;\n",
       "    }\n",
       "</style>\n",
       "<table border=\"1\" class=\"dataframe\">\n",
       "  <thead>\n",
       "    <tr style=\"text-align: right;\">\n",
       "      <th></th>\n",
       "      <th>Signal</th>\n",
       "    </tr>\n",
       "    <tr>\n",
       "      <th>Date</th>\n",
       "      <th></th>\n",
       "    </tr>\n",
       "  </thead>\n",
       "  <tbody>\n",
       "    <tr>\n",
       "      <th>2023-06-23</th>\n",
       "      <td>-1.0</td>\n",
       "    </tr>\n",
       "    <tr>\n",
       "      <th>2023-06-26</th>\n",
       "      <td>-1.0</td>\n",
       "    </tr>\n",
       "    <tr>\n",
       "      <th>2023-06-27</th>\n",
       "      <td>1.0</td>\n",
       "    </tr>\n",
       "    <tr>\n",
       "      <th>2023-06-28</th>\n",
       "      <td>1.0</td>\n",
       "    </tr>\n",
       "    <tr>\n",
       "      <th>2023-06-29</th>\n",
       "      <td>1.0</td>\n",
       "    </tr>\n",
       "  </tbody>\n",
       "</table>\n",
       "</div>"
      ],
      "text/plain": [
       "            Signal\n",
       "Date              \n",
       "2023-06-23    -1.0\n",
       "2023-06-26    -1.0\n",
       "2023-06-27     1.0\n",
       "2023-06-28     1.0\n",
       "2023-06-29     1.0"
      ]
     },
     "metadata": {},
     "output_type": "display_data"
    },
    {
     "name": "stdout",
     "output_type": "stream",
     "text": [
      "<class 'pandas.core.frame.DataFrame'>\n",
      "DatetimeIndex: 778 entries, 2020-05-28 to 2023-06-29\n",
      "Data columns (total 1 columns):\n",
      " #   Column  Non-Null Count  Dtype  \n",
      "---  ------  --------------  -----  \n",
      " 0   Signal  778 non-null    float64\n",
      "dtypes: float64(1)\n",
      "memory usage: 12.2 KB\n"
     ]
    },
    {
     "data": {
      "text/plain": [
       "None"
      ]
     },
     "metadata": {},
     "output_type": "display_data"
    }
   ],
   "source": [
    "# Define data for y\n",
    "\n",
    "y = spy_signals[['Signal']]\n",
    "\n",
    "#inspect the data frame\n",
    "\n",
    "\n",
    "display(y.head())\n",
    "display(y.tail())\n",
    "display(y.info())"
   ]
  },
  {
   "cell_type": "code",
   "execution_count": 36,
   "id": "b5c82361-5376-47d3-8e2a-b190acffe5b9",
   "metadata": {
    "tags": []
   },
   "outputs": [],
   "source": [
    "#Prepare Training data by defining Training Begining and Ending period\n",
    "#Calculate number of trading days in the data set\n",
    "\n",
    "import pandas_market_calendars as mcal\n",
    "\n",
    "def calculate_trading_days(start_date, end_date):\n",
    "    # Create a calendar object for the NYSE\n",
    "    nyse = mcal.get_calendar('NYSE')\n",
    "\n",
    "    # Get the schedule of trading days between the start and end dates\n",
    "    schedule = nyse.schedule(start_date=start_date, end_date=end_date)\n",
    "\n",
    "    # Calculate the number of trading days\n",
    "    num_trading_days = len(schedule.index)\n",
    "\n",
    "    return num_trading_days"
   ]
  },
  {
   "cell_type": "code",
   "execution_count": 37,
   "id": "d7eba355-73e2-4b81-b3d5-9f3e3f6c9a83",
   "metadata": {
    "tags": []
   },
   "outputs": [
    {
     "name": "stdout",
     "output_type": "stream",
     "text": [
      "Number of trading days: 777\n"
     ]
    }
   ],
   "source": [
    "start_date = '2020-05-29'\n",
    "end_date = '2023-06-29'\n",
    "\n",
    "num_trading_days = calculate_trading_days(start_date, end_date)\n",
    "print(\"Number of trading days:\", num_trading_days)"
   ]
  },
  {
   "cell_type": "code",
   "execution_count": 38,
   "id": "c0f4a423-5dcd-4545-b4a9-145c053892bc",
   "metadata": {
    "tags": []
   },
   "outputs": [
    {
     "data": {
      "text/plain": [
       "543"
      ]
     },
     "metadata": {},
     "output_type": "display_data"
    }
   ],
   "source": [
    "# Calculate number of days in Training set For a 70/30 split\n",
    "#Define split\n",
    "train_split = 0.7\n",
    "\n",
    "#calculate training data size\n",
    "train_size = int(num_trading_days*train_split)\n",
    "display(train_size)"
   ]
  },
  {
   "cell_type": "code",
   "execution_count": 39,
   "id": "57c3fa38-6a72-486b-8af1-b5b5fc4bd27e",
   "metadata": {
    "tags": []
   },
   "outputs": [],
   "source": [
    "# Define function to add Trading days to a given date:\n",
    "\n",
    "def add_trading_days(start_date, num_days):\n",
    "    nyse = mcal.get_calendar('NYSE')\n",
    "    count = 0\n",
    "    target_date = None\n",
    "\n",
    "    while count < num_days:\n",
    "        start_date += pd.DateOffset(days=1)\n",
    "        if nyse.valid_days(start_date, start_date).size:\n",
    "            count += 1\n",
    "\n",
    "    target_date = start_date\n",
    "    return target_date"
   ]
  },
  {
   "cell_type": "code",
   "execution_count": 40,
   "id": "ab993b68-0217-4128-ab70-0327f4d3c87b",
   "metadata": {
    "tags": []
   },
   "outputs": [
    {
     "name": "stdout",
     "output_type": "stream",
     "text": [
      "Target Date: 2022-07-26 00:00:00\n"
     ]
    }
   ],
   "source": [
    "# Calculate Training End date based on Trading days for Training split approach (70/30)\n",
    "\n",
    "start_date = pd.to_datetime('2020-05-29')\n",
    "num_days = 543\n",
    "target_date = add_trading_days(start_date, num_days)\n",
    "print(\"Target Date:\", target_date)"
   ]
  },
  {
   "cell_type": "code",
   "execution_count": 43,
   "id": "95a2e86e-7c70-43be-847d-73cfb3191833",
   "metadata": {
    "tags": []
   },
   "outputs": [
    {
     "name": "stdout",
     "output_type": "stream",
     "text": [
      "Number of trading days: 544\n"
     ]
    }
   ],
   "source": [
    "# Validate that the training end date matches the desired training set size\n",
    "start_date = X.index.min()\n",
    "end_date = '2022-07-26'\n",
    "\n",
    "num_trading_days = calculate_trading_days(start_date, end_date)\n",
    "print(\"Number of trading days:\", num_trading_days)"
   ]
  },
  {
   "cell_type": "code",
   "execution_count": 44,
   "id": "95ad5f0b-2d09-4737-80f9-eea47e8597b2",
   "metadata": {
    "tags": []
   },
   "outputs": [
    {
     "name": "stdout",
     "output_type": "stream",
     "text": [
      "The training START date is: 2020-05-29 00:00:00\n",
      "The training END date is: 2022-07-26 00:00:00\n",
      "The number of trading days in the training dataset is: 543 , matching the required training data size of: 543\n"
     ]
    }
   ],
   "source": [
    "train_start = X.index.min()\n",
    "train_end = target_date\n",
    "\n",
    "print('The training START date is:', train_start)\n",
    "print('The training END date is:', train_end)\n",
    "print('The number of trading days in the training dataset is:',train_size,', matching the required training data size of:',num_days)"
   ]
  },
  {
   "cell_type": "code",
   "execution_count": 45,
   "id": "25ef714e-3532-4ad0-a0e4-60a6cc8484d1",
   "metadata": {
    "tags": []
   },
   "outputs": [
    {
     "data": {
      "text/html": [
       "<div>\n",
       "<style scoped>\n",
       "    .dataframe tbody tr th:only-of-type {\n",
       "        vertical-align: middle;\n",
       "    }\n",
       "\n",
       "    .dataframe tbody tr th {\n",
       "        vertical-align: top;\n",
       "    }\n",
       "\n",
       "    .dataframe thead th {\n",
       "        text-align: right;\n",
       "    }\n",
       "</style>\n",
       "<table border=\"1\" class=\"dataframe\">\n",
       "  <thead>\n",
       "    <tr style=\"text-align: right;\">\n",
       "      <th></th>\n",
       "      <th>SMA_Short</th>\n",
       "      <th>SMA_Long</th>\n",
       "    </tr>\n",
       "    <tr>\n",
       "      <th>Date</th>\n",
       "      <th></th>\n",
       "      <th></th>\n",
       "    </tr>\n",
       "  </thead>\n",
       "  <tbody>\n",
       "    <tr>\n",
       "      <th>2020-05-29</th>\n",
       "      <td>299.179999</td>\n",
       "      <td>295.770202</td>\n",
       "    </tr>\n",
       "    <tr>\n",
       "      <th>2020-06-01</th>\n",
       "      <td>301.067999</td>\n",
       "      <td>295.577002</td>\n",
       "    </tr>\n",
       "    <tr>\n",
       "      <th>2020-06-02</th>\n",
       "      <td>303.089996</td>\n",
       "      <td>295.405201</td>\n",
       "    </tr>\n",
       "    <tr>\n",
       "      <th>2020-06-03</th>\n",
       "      <td>304.889996</td>\n",
       "      <td>295.241501</td>\n",
       "    </tr>\n",
       "    <tr>\n",
       "      <th>2020-06-04</th>\n",
       "      <td>306.619995</td>\n",
       "      <td>295.096801</td>\n",
       "    </tr>\n",
       "  </tbody>\n",
       "</table>\n",
       "</div>"
      ],
      "text/plain": [
       "             SMA_Short    SMA_Long\n",
       "Date                              \n",
       "2020-05-29  299.179999  295.770202\n",
       "2020-06-01  301.067999  295.577002\n",
       "2020-06-02  303.089996  295.405201\n",
       "2020-06-03  304.889996  295.241501\n",
       "2020-06-04  306.619995  295.096801"
      ]
     },
     "metadata": {},
     "output_type": "display_data"
    },
    {
     "data": {
      "text/html": [
       "<div>\n",
       "<style scoped>\n",
       "    .dataframe tbody tr th:only-of-type {\n",
       "        vertical-align: middle;\n",
       "    }\n",
       "\n",
       "    .dataframe tbody tr th {\n",
       "        vertical-align: top;\n",
       "    }\n",
       "\n",
       "    .dataframe thead th {\n",
       "        text-align: right;\n",
       "    }\n",
       "</style>\n",
       "<table border=\"1\" class=\"dataframe\">\n",
       "  <thead>\n",
       "    <tr style=\"text-align: right;\">\n",
       "      <th></th>\n",
       "      <th>SMA_Short</th>\n",
       "      <th>SMA_Long</th>\n",
       "    </tr>\n",
       "    <tr>\n",
       "      <th>Date</th>\n",
       "      <th></th>\n",
       "      <th></th>\n",
       "    </tr>\n",
       "  </thead>\n",
       "  <tbody>\n",
       "    <tr>\n",
       "      <th>2022-07-20</th>\n",
       "      <td>383.217999</td>\n",
       "      <td>413.846001</td>\n",
       "    </tr>\n",
       "    <tr>\n",
       "      <th>2022-07-21</th>\n",
       "      <td>386.406000</td>\n",
       "      <td>413.510701</td>\n",
       "    </tr>\n",
       "    <tr>\n",
       "      <th>2022-07-22</th>\n",
       "      <td>390.582001</td>\n",
       "      <td>413.121101</td>\n",
       "    </tr>\n",
       "    <tr>\n",
       "      <th>2022-07-25</th>\n",
       "      <td>392.573999</td>\n",
       "      <td>412.705701</td>\n",
       "    </tr>\n",
       "    <tr>\n",
       "      <th>2022-07-26</th>\n",
       "      <td>395.297998</td>\n",
       "      <td>412.361601</td>\n",
       "    </tr>\n",
       "  </tbody>\n",
       "</table>\n",
       "</div>"
      ],
      "text/plain": [
       "             SMA_Short    SMA_Long\n",
       "Date                              \n",
       "2022-07-20  383.217999  413.846001\n",
       "2022-07-21  386.406000  413.510701\n",
       "2022-07-22  390.582001  413.121101\n",
       "2022-07-25  392.573999  412.705701\n",
       "2022-07-26  395.297998  412.361601"
      ]
     },
     "metadata": {},
     "output_type": "display_data"
    },
    {
     "name": "stdout",
     "output_type": "stream",
     "text": [
      "<class 'pandas.core.frame.DataFrame'>\n",
      "DatetimeIndex: 544 entries, 2020-05-29 to 2022-07-26\n",
      "Data columns (total 2 columns):\n",
      " #   Column     Non-Null Count  Dtype  \n",
      "---  ------     --------------  -----  \n",
      " 0   SMA_Short  544 non-null    float64\n",
      " 1   SMA_Long   544 non-null    float64\n",
      "dtypes: float64(2)\n",
      "memory usage: 12.8 KB\n"
     ]
    },
    {
     "data": {
      "text/plain": [
       "None"
      ]
     },
     "metadata": {},
     "output_type": "display_data"
    }
   ],
   "source": [
    "# Define the training data in for the training start/end dates\n",
    "X_trainLR = X.loc[train_start:train_end]\n",
    "y_trainLR = y.loc[train_start:train_end]\n",
    "\n",
    "#review the training data set\n",
    "\n",
    "display(X_trainLR.head())\n",
    "display(X_trainLR.tail())\n",
    "display(X_trainLR.info())"
   ]
  },
  {
   "cell_type": "code",
   "execution_count": 46,
   "id": "1daf84ca-c8fe-4043-ab9b-b002ccf320e2",
   "metadata": {
    "tags": []
   },
   "outputs": [
    {
     "name": "stdout",
     "output_type": "stream",
     "text": [
      "The testing START date is: 2022-07-27 00:00:00\n",
      "The testing END date is: 2023-06-29 00:00:00\n",
      "The number of trading days in the testing dataset is: 233\n"
     ]
    }
   ],
   "source": [
    "# Generate the X_test and y_test DataFrames\n",
    "\n",
    "#Determine Testing Date START and Testing END\n",
    "\n",
    "test_start = train_end + DateOffset(days=1)\n",
    "test_end = X.index.max()\n",
    "\n",
    "#number od trading days in the testing data set\n",
    "start_date = test_start\n",
    "end_date = test_end\n",
    "\n",
    "num_trading_days_test = calculate_trading_days(start_date, end_date)\n",
    "\n",
    "print('The testing START date is:', test_start)\n",
    "print('The testing END date is:', test_end)\n",
    "print('The number of trading days in the testing dataset is:',num_trading_days_test)"
   ]
  },
  {
   "cell_type": "code",
   "execution_count": 47,
   "id": "ede3731a-9dde-4176-b104-aa3eedf0a559",
   "metadata": {
    "tags": []
   },
   "outputs": [
    {
     "data": {
      "text/html": [
       "<div>\n",
       "<style scoped>\n",
       "    .dataframe tbody tr th:only-of-type {\n",
       "        vertical-align: middle;\n",
       "    }\n",
       "\n",
       "    .dataframe tbody tr th {\n",
       "        vertical-align: top;\n",
       "    }\n",
       "\n",
       "    .dataframe thead th {\n",
       "        text-align: right;\n",
       "    }\n",
       "</style>\n",
       "<table border=\"1\" class=\"dataframe\">\n",
       "  <thead>\n",
       "    <tr style=\"text-align: right;\">\n",
       "      <th></th>\n",
       "      <th>SMA_Short</th>\n",
       "      <th>SMA_Long</th>\n",
       "    </tr>\n",
       "    <tr>\n",
       "      <th>Date</th>\n",
       "      <th></th>\n",
       "      <th></th>\n",
       "    </tr>\n",
       "  </thead>\n",
       "  <tbody>\n",
       "    <tr>\n",
       "      <th>2022-07-27</th>\n",
       "      <td>395.022003</td>\n",
       "      <td>411.891601</td>\n",
       "    </tr>\n",
       "    <tr>\n",
       "      <th>2022-07-28</th>\n",
       "      <td>396.276007</td>\n",
       "      <td>411.544901</td>\n",
       "    </tr>\n",
       "    <tr>\n",
       "      <th>2022-07-29</th>\n",
       "      <td>397.732007</td>\n",
       "      <td>411.283901</td>\n",
       "    </tr>\n",
       "    <tr>\n",
       "      <th>2022-08-01</th>\n",
       "      <td>401.112006</td>\n",
       "      <td>411.209501</td>\n",
       "    </tr>\n",
       "    <tr>\n",
       "      <th>2022-08-02</th>\n",
       "      <td>404.152002</td>\n",
       "      <td>411.154701</td>\n",
       "    </tr>\n",
       "  </tbody>\n",
       "</table>\n",
       "</div>"
      ],
      "text/plain": [
       "             SMA_Short    SMA_Long\n",
       "Date                              \n",
       "2022-07-27  395.022003  411.891601\n",
       "2022-07-28  396.276007  411.544901\n",
       "2022-07-29  397.732007  411.283901\n",
       "2022-08-01  401.112006  411.209501\n",
       "2022-08-02  404.152002  411.154701"
      ]
     },
     "metadata": {},
     "output_type": "display_data"
    },
    {
     "data": {
      "text/html": [
       "<div>\n",
       "<style scoped>\n",
       "    .dataframe tbody tr th:only-of-type {\n",
       "        vertical-align: middle;\n",
       "    }\n",
       "\n",
       "    .dataframe tbody tr th {\n",
       "        vertical-align: top;\n",
       "    }\n",
       "\n",
       "    .dataframe thead th {\n",
       "        text-align: right;\n",
       "    }\n",
       "</style>\n",
       "<table border=\"1\" class=\"dataframe\">\n",
       "  <thead>\n",
       "    <tr style=\"text-align: right;\">\n",
       "      <th></th>\n",
       "      <th>SMA_Short</th>\n",
       "      <th>SMA_Long</th>\n",
       "    </tr>\n",
       "    <tr>\n",
       "      <th>Date</th>\n",
       "      <th></th>\n",
       "      <th></th>\n",
       "    </tr>\n",
       "  </thead>\n",
       "  <tbody>\n",
       "    <tr>\n",
       "      <th>2023-06-23</th>\n",
       "      <td>438.138000</td>\n",
       "      <td>410.516600</td>\n",
       "    </tr>\n",
       "    <tr>\n",
       "      <th>2023-06-26</th>\n",
       "      <td>436.259998</td>\n",
       "      <td>410.842800</td>\n",
       "    </tr>\n",
       "    <tr>\n",
       "      <th>2023-06-27</th>\n",
       "      <td>434.656000</td>\n",
       "      <td>411.092400</td>\n",
       "    </tr>\n",
       "    <tr>\n",
       "      <th>2023-06-28</th>\n",
       "      <td>434.454004</td>\n",
       "      <td>411.346100</td>\n",
       "    </tr>\n",
       "    <tr>\n",
       "      <th>2023-06-29</th>\n",
       "      <td>434.744006</td>\n",
       "      <td>411.542201</td>\n",
       "    </tr>\n",
       "  </tbody>\n",
       "</table>\n",
       "</div>"
      ],
      "text/plain": [
       "             SMA_Short    SMA_Long\n",
       "Date                              \n",
       "2023-06-23  438.138000  410.516600\n",
       "2023-06-26  436.259998  410.842800\n",
       "2023-06-27  434.656000  411.092400\n",
       "2023-06-28  434.454004  411.346100\n",
       "2023-06-29  434.744006  411.542201"
      ]
     },
     "metadata": {},
     "output_type": "display_data"
    },
    {
     "name": "stdout",
     "output_type": "stream",
     "text": [
      "<class 'pandas.core.frame.DataFrame'>\n",
      "DatetimeIndex: 233 entries, 2022-07-27 to 2023-06-29\n",
      "Data columns (total 2 columns):\n",
      " #   Column     Non-Null Count  Dtype  \n",
      "---  ------     --------------  -----  \n",
      " 0   SMA_Short  233 non-null    float64\n",
      " 1   SMA_Long   233 non-null    float64\n",
      "dtypes: float64(2)\n",
      "memory usage: 5.5 KB\n"
     ]
    },
    {
     "data": {
      "text/plain": [
       "None"
      ]
     },
     "metadata": {},
     "output_type": "display_data"
    }
   ],
   "source": [
    "X_testLR = X.loc[test_start:test_end]\n",
    "y_testLR = y.loc[test_start:test_end]\n",
    "\n",
    "#review the Testing data set\n",
    "\n",
    "display(X_testLR.head())\n",
    "display(X_testLR.tail())\n",
    "display(X_testLR.info())"
   ]
  },
  {
   "cell_type": "code",
   "execution_count": 48,
   "id": "8fc66c19-54be-4e98-a774-8560779610d3",
   "metadata": {
    "tags": []
   },
   "outputs": [
    {
     "data": {
      "text/plain": [
       "(778, 1)"
      ]
     },
     "metadata": {},
     "output_type": "display_data"
    }
   ],
   "source": [
    "display (y.shape)"
   ]
  },
  {
   "cell_type": "code",
   "execution_count": 49,
   "id": "b2118536-0e79-4214-ba15-d48527effdef",
   "metadata": {
    "tags": []
   },
   "outputs": [
    {
     "data": {
      "text/plain": [
       "(544, 1)"
      ]
     },
     "metadata": {},
     "output_type": "display_data"
    }
   ],
   "source": [
    "display(y_trainLR.shape)"
   ]
  },
  {
   "cell_type": "code",
   "execution_count": 50,
   "id": "1edd3e45-5cb3-44c3-bb3b-56fe93549a7e",
   "metadata": {
    "tags": []
   },
   "outputs": [
    {
     "data": {
      "text/plain": [
       " 1.0    300\n",
       "-1.0    244\n",
       "Name: Signal, dtype: int64"
      ]
     },
     "execution_count": 50,
     "metadata": {},
     "output_type": "execute_result"
    }
   ],
   "source": [
    "y_trainLR['Signal'].value_counts()"
   ]
  },
  {
   "cell_type": "code",
   "execution_count": 51,
   "id": "a2295dcd-1ec0-4b3d-907a-a1cd952a7e4b",
   "metadata": {
    "tags": []
   },
   "outputs": [
    {
     "data": {
      "text/plain": [
       "(233, 1)"
      ]
     },
     "metadata": {},
     "output_type": "display_data"
    }
   ],
   "source": [
    "display (y_testLR.shape)"
   ]
  },
  {
   "cell_type": "code",
   "execution_count": 52,
   "id": "c33c58aa-c650-4768-a250-3e03c78fb1d3",
   "metadata": {
    "tags": []
   },
   "outputs": [
    {
     "data": {
      "text/plain": [
       "-1.0    119\n",
       " 1.0    114\n",
       "Name: Signal, dtype: int64"
      ]
     },
     "execution_count": 52,
     "metadata": {},
     "output_type": "execute_result"
    }
   ],
   "source": [
    "y_testLR['Signal'].value_counts()"
   ]
  },
  {
   "cell_type": "markdown",
   "id": "70ae04b5-2f22-4dc9-90dd-b16dca73c6a1",
   "metadata": {},
   "source": [
    "## Evaluate the Model"
   ]
  },
  {
   "cell_type": "code",
   "execution_count": 53,
   "id": "5bb43fb6-83e9-4567-961f-14d815caf4aa",
   "metadata": {
    "tags": []
   },
   "outputs": [],
   "source": [
    "# Import a new classifier from SKLearn\n",
    "from sklearn.linear_model import LogisticRegression\n",
    "\n",
    "# Initiate the model instance\n",
    "logreg_model = LogisticRegression()"
   ]
  },
  {
   "cell_type": "code",
   "execution_count": 54,
   "id": "25f5180b-6ec2-4d12-8bc5-1f8ad339b735",
   "metadata": {
    "tags": []
   },
   "outputs": [],
   "source": [
    "#Scale the data\n",
    "# Create a StandardScaler instance\n",
    "scaler = StandardScaler()\n",
    "\n",
    "# Apply the scaler model to fit the X-train data\n",
    "X_scaler = scaler.fit(X_trainLR)\n",
    "\n",
    "# Transform the X_train and X_test DataFrames using the X_scaler\n",
    "X_train_scaled = X_scaler.transform(X_trainLR)\n",
    "X_test_scaled = X_scaler.transform(X_testLR)"
   ]
  },
  {
   "cell_type": "code",
   "execution_count": 55,
   "id": "61ec7a2b-3bc8-4bab-8869-0279309dbf2c",
   "metadata": {
    "tags": []
   },
   "outputs": [
    {
     "data": {
      "text/plain": [
       "(544, 2)"
      ]
     },
     "metadata": {},
     "output_type": "display_data"
    },
    {
     "data": {
      "text/plain": [
       "(233, 2)"
      ]
     },
     "metadata": {},
     "output_type": "display_data"
    }
   ],
   "source": [
    "display (X_train_scaled.shape)\n",
    "display (X_test_scaled.shape)"
   ]
  },
  {
   "cell_type": "code",
   "execution_count": 56,
   "id": "41f8ea09-167e-46ae-9ba1-197b37c54dd5",
   "metadata": {
    "tags": []
   },
   "outputs": [
    {
     "data": {
      "text/html": [
       "<style>#sk-container-id-1 {color: black;background-color: white;}#sk-container-id-1 pre{padding: 0;}#sk-container-id-1 div.sk-toggleable {background-color: white;}#sk-container-id-1 label.sk-toggleable__label {cursor: pointer;display: block;width: 100%;margin-bottom: 0;padding: 0.3em;box-sizing: border-box;text-align: center;}#sk-container-id-1 label.sk-toggleable__label-arrow:before {content: \"▸\";float: left;margin-right: 0.25em;color: #696969;}#sk-container-id-1 label.sk-toggleable__label-arrow:hover:before {color: black;}#sk-container-id-1 div.sk-estimator:hover label.sk-toggleable__label-arrow:before {color: black;}#sk-container-id-1 div.sk-toggleable__content {max-height: 0;max-width: 0;overflow: hidden;text-align: left;background-color: #f0f8ff;}#sk-container-id-1 div.sk-toggleable__content pre {margin: 0.2em;color: black;border-radius: 0.25em;background-color: #f0f8ff;}#sk-container-id-1 input.sk-toggleable__control:checked~div.sk-toggleable__content {max-height: 200px;max-width: 100%;overflow: auto;}#sk-container-id-1 input.sk-toggleable__control:checked~label.sk-toggleable__label-arrow:before {content: \"▾\";}#sk-container-id-1 div.sk-estimator input.sk-toggleable__control:checked~label.sk-toggleable__label {background-color: #d4ebff;}#sk-container-id-1 div.sk-label input.sk-toggleable__control:checked~label.sk-toggleable__label {background-color: #d4ebff;}#sk-container-id-1 input.sk-hidden--visually {border: 0;clip: rect(1px 1px 1px 1px);clip: rect(1px, 1px, 1px, 1px);height: 1px;margin: -1px;overflow: hidden;padding: 0;position: absolute;width: 1px;}#sk-container-id-1 div.sk-estimator {font-family: monospace;background-color: #f0f8ff;border: 1px dotted black;border-radius: 0.25em;box-sizing: border-box;margin-bottom: 0.5em;}#sk-container-id-1 div.sk-estimator:hover {background-color: #d4ebff;}#sk-container-id-1 div.sk-parallel-item::after {content: \"\";width: 100%;border-bottom: 1px solid gray;flex-grow: 1;}#sk-container-id-1 div.sk-label:hover label.sk-toggleable__label {background-color: #d4ebff;}#sk-container-id-1 div.sk-serial::before {content: \"\";position: absolute;border-left: 1px solid gray;box-sizing: border-box;top: 0;bottom: 0;left: 50%;z-index: 0;}#sk-container-id-1 div.sk-serial {display: flex;flex-direction: column;align-items: center;background-color: white;padding-right: 0.2em;padding-left: 0.2em;position: relative;}#sk-container-id-1 div.sk-item {position: relative;z-index: 1;}#sk-container-id-1 div.sk-parallel {display: flex;align-items: stretch;justify-content: center;background-color: white;position: relative;}#sk-container-id-1 div.sk-item::before, #sk-container-id-1 div.sk-parallel-item::before {content: \"\";position: absolute;border-left: 1px solid gray;box-sizing: border-box;top: 0;bottom: 0;left: 50%;z-index: -1;}#sk-container-id-1 div.sk-parallel-item {display: flex;flex-direction: column;z-index: 1;position: relative;background-color: white;}#sk-container-id-1 div.sk-parallel-item:first-child::after {align-self: flex-end;width: 50%;}#sk-container-id-1 div.sk-parallel-item:last-child::after {align-self: flex-start;width: 50%;}#sk-container-id-1 div.sk-parallel-item:only-child::after {width: 0;}#sk-container-id-1 div.sk-dashed-wrapped {border: 1px dashed gray;margin: 0 0.4em 0.5em 0.4em;box-sizing: border-box;padding-bottom: 0.4em;background-color: white;}#sk-container-id-1 div.sk-label label {font-family: monospace;font-weight: bold;display: inline-block;line-height: 1.2em;}#sk-container-id-1 div.sk-label-container {text-align: center;}#sk-container-id-1 div.sk-container {/* jupyter's `normalize.less` sets `[hidden] { display: none; }` but bootstrap.min.css set `[hidden] { display: none !important; }` so we also need the `!important` here to be able to override the default hidden behavior on the sphinx rendered scikit-learn.org. See: https://github.com/scikit-learn/scikit-learn/issues/21755 */display: inline-block !important;position: relative;}#sk-container-id-1 div.sk-text-repr-fallback {display: none;}</style><div id=\"sk-container-id-1\" class=\"sk-top-container\"><div class=\"sk-text-repr-fallback\"><pre>LogisticRegression()</pre><b>In a Jupyter environment, please rerun this cell to show the HTML representation or trust the notebook. <br />On GitHub, the HTML representation is unable to render, please try loading this page with nbviewer.org.</b></div><div class=\"sk-container\" hidden><div class=\"sk-item\"><div class=\"sk-estimator sk-toggleable\"><input class=\"sk-toggleable__control sk-hidden--visually\" id=\"sk-estimator-id-1\" type=\"checkbox\" checked><label for=\"sk-estimator-id-1\" class=\"sk-toggleable__label sk-toggleable__label-arrow\">LogisticRegression</label><div class=\"sk-toggleable__content\"><pre>LogisticRegression()</pre></div></div></div></div></div>"
      ],
      "text/plain": [
       "LogisticRegression()"
      ]
     },
     "execution_count": 56,
     "metadata": {},
     "output_type": "execute_result"
    }
   ],
   "source": [
    "# Fit the model using the training data\n",
    "logreg_model.fit(X_train_scaled, y_trainLR)"
   ]
  },
  {
   "cell_type": "code",
   "execution_count": 57,
   "id": "a0541570-321a-498c-a1d1-6e6717bd3b2a",
   "metadata": {
    "tags": []
   },
   "outputs": [
    {
     "data": {
      "text/plain": [
       "array([1., 1., 1., 1., 1., 1., 1., 1., 1., 1., 1., 1., 1., 1., 1.])"
      ]
     },
     "execution_count": 57,
     "metadata": {},
     "output_type": "execute_result"
    }
   ],
   "source": [
    "# Use the testing dataset to generate the predictions for the new model\n",
    "logreg_train_pred = logreg_model.predict(X_train_scaled)\n",
    "\n",
    "# Review the model's predicted values\n",
    "logreg_train_pred[:15]"
   ]
  },
  {
   "cell_type": "code",
   "execution_count": 58,
   "id": "6488fc7c-02ad-4b91-b820-ebd1e1aed598",
   "metadata": {
    "tags": []
   },
   "outputs": [
    {
     "data": {
      "text/plain": [
       "(544,)"
      ]
     },
     "execution_count": 58,
     "metadata": {},
     "output_type": "execute_result"
    }
   ],
   "source": [
    "logreg_train_pred.shape"
   ]
  },
  {
   "cell_type": "code",
   "execution_count": 59,
   "id": "77391b8b-5925-4c72-96e4-d1d9bc8af8a8",
   "metadata": {
    "tags": []
   },
   "outputs": [
    {
     "name": "stdout",
     "output_type": "stream",
     "text": [
      "              precision    recall  f1-score   support\n",
      "\n",
      "        -1.0       0.55      0.23      0.32       244\n",
      "         1.0       0.57      0.85      0.68       300\n",
      "\n",
      "    accuracy                           0.57       544\n",
      "   macro avg       0.56      0.54      0.50       544\n",
      "weighted avg       0.56      0.57      0.52       544\n",
      "\n"
     ]
    }
   ],
   "source": [
    "# Use a classification report to evaluate the model using the predictions and testing data\n",
    "logreg_train_report = classification_report(y_trainLR, logreg_train_pred)\n",
    "\n",
    "# Print the classification report\n",
    "print(logreg_train_report)"
   ]
  },
  {
   "cell_type": "code",
   "execution_count": 60,
   "id": "1d078708-0b72-46eb-9813-c53424b02ab1",
   "metadata": {
    "tags": []
   },
   "outputs": [],
   "source": [
    "# Use the trained model to predict trading signals using the test data\n",
    "logreg_test_pred = logreg_model.predict(X_test_scaled)"
   ]
  },
  {
   "cell_type": "code",
   "execution_count": 61,
   "id": "e6c74203-c9c6-4399-84ce-94d2a3858c09",
   "metadata": {
    "tags": []
   },
   "outputs": [
    {
     "name": "stdout",
     "output_type": "stream",
     "text": [
      "              precision    recall  f1-score   support\n",
      "\n",
      "        -1.0       0.00      0.00      0.00       119\n",
      "         1.0       0.49      1.00      0.66       114\n",
      "\n",
      "    accuracy                           0.49       233\n",
      "   macro avg       0.24      0.50      0.33       233\n",
      "weighted avg       0.24      0.49      0.32       233\n",
      "\n"
     ]
    }
   ],
   "source": [
    "# Generate the classification report for the test run\n",
    "logreg_test_report = classification_report(y_testLR, logreg_test_pred)\n",
    "\n",
    "#Review the report\n",
    "print(logreg_test_report)"
   ]
  },
  {
   "cell_type": "code",
   "execution_count": 62,
   "id": "26a76ad6-5bcb-4061-b27e-3c1f5cf09f46",
   "metadata": {
    "tags": []
   },
   "outputs": [
    {
     "data": {
      "text/html": [
       "<div>\n",
       "<style scoped>\n",
       "    .dataframe tbody tr th:only-of-type {\n",
       "        vertical-align: middle;\n",
       "    }\n",
       "\n",
       "    .dataframe tbody tr th {\n",
       "        vertical-align: top;\n",
       "    }\n",
       "\n",
       "    .dataframe thead th {\n",
       "        text-align: right;\n",
       "    }\n",
       "</style>\n",
       "<table border=\"1\" class=\"dataframe\">\n",
       "  <thead>\n",
       "    <tr style=\"text-align: right;\">\n",
       "      <th></th>\n",
       "      <th>LR Predicted Signals</th>\n",
       "      <th>Actual Returns</th>\n",
       "      <th>LR Returns</th>\n",
       "    </tr>\n",
       "    <tr>\n",
       "      <th>Date</th>\n",
       "      <th></th>\n",
       "      <th></th>\n",
       "      <th></th>\n",
       "    </tr>\n",
       "  </thead>\n",
       "  <tbody>\n",
       "    <tr>\n",
       "      <th>2022-07-27</th>\n",
       "      <td>1.0</td>\n",
       "      <td>0.025966</td>\n",
       "      <td>0.025966</td>\n",
       "    </tr>\n",
       "    <tr>\n",
       "      <th>2022-07-28</th>\n",
       "      <td>1.0</td>\n",
       "      <td>0.012542</td>\n",
       "      <td>0.012542</td>\n",
       "    </tr>\n",
       "    <tr>\n",
       "      <th>2022-07-29</th>\n",
       "      <td>1.0</td>\n",
       "      <td>0.014579</td>\n",
       "      <td>0.014579</td>\n",
       "    </tr>\n",
       "    <tr>\n",
       "      <th>2022-08-01</th>\n",
       "      <td>1.0</td>\n",
       "      <td>-0.002961</td>\n",
       "      <td>-0.002961</td>\n",
       "    </tr>\n",
       "    <tr>\n",
       "      <th>2022-08-02</th>\n",
       "      <td>1.0</td>\n",
       "      <td>-0.006597</td>\n",
       "      <td>-0.006597</td>\n",
       "    </tr>\n",
       "    <tr>\n",
       "      <th>...</th>\n",
       "      <td>...</td>\n",
       "      <td>...</td>\n",
       "      <td>...</td>\n",
       "    </tr>\n",
       "    <tr>\n",
       "      <th>2023-06-23</th>\n",
       "      <td>1.0</td>\n",
       "      <td>-0.007560</td>\n",
       "      <td>-0.007560</td>\n",
       "    </tr>\n",
       "    <tr>\n",
       "      <th>2023-06-26</th>\n",
       "      <td>1.0</td>\n",
       "      <td>-0.004086</td>\n",
       "      <td>-0.004086</td>\n",
       "    </tr>\n",
       "    <tr>\n",
       "      <th>2023-06-27</th>\n",
       "      <td>1.0</td>\n",
       "      <td>0.010963</td>\n",
       "      <td>0.010963</td>\n",
       "    </tr>\n",
       "    <tr>\n",
       "      <th>2023-06-28</th>\n",
       "      <td>1.0</td>\n",
       "      <td>0.000504</td>\n",
       "      <td>0.000504</td>\n",
       "    </tr>\n",
       "    <tr>\n",
       "      <th>2023-06-29</th>\n",
       "      <td>1.0</td>\n",
       "      <td>0.003941</td>\n",
       "      <td>0.003941</td>\n",
       "    </tr>\n",
       "  </tbody>\n",
       "</table>\n",
       "<p>233 rows × 3 columns</p>\n",
       "</div>"
      ],
      "text/plain": [
       "            LR Predicted Signals  Actual Returns  LR Returns\n",
       "Date                                                        \n",
       "2022-07-27                   1.0        0.025966    0.025966\n",
       "2022-07-28                   1.0        0.012542    0.012542\n",
       "2022-07-29                   1.0        0.014579    0.014579\n",
       "2022-08-01                   1.0       -0.002961   -0.002961\n",
       "2022-08-02                   1.0       -0.006597   -0.006597\n",
       "...                          ...             ...         ...\n",
       "2023-06-23                   1.0       -0.007560   -0.007560\n",
       "2023-06-26                   1.0       -0.004086   -0.004086\n",
       "2023-06-27                   1.0        0.010963    0.010963\n",
       "2023-06-28                   1.0        0.000504    0.000504\n",
       "2023-06-29                   1.0        0.003941    0.003941\n",
       "\n",
       "[233 rows x 3 columns]"
      ]
     },
     "execution_count": 62,
     "metadata": {},
     "output_type": "execute_result"
    }
   ],
   "source": [
    "# Create a new empty predictions DataFrame to compare the prediction results\n",
    "\n",
    "# Create a predictions DataFrame\n",
    "logreg_predictions_df = pd.DataFrame(index=X_testLR.index)\n",
    "\n",
    "# Add the LR model predictions to the DataFrame\n",
    "logreg_predictions_df['LR Predicted Signals'] = logreg_test_pred\n",
    "\n",
    "# Add the actual returns to the DataFrame\n",
    "logreg_predictions_df ['Actual Returns'] = spy_signals['Actual Returns']\n",
    "\n",
    "\n",
    "#Add the Logistic Regression Strategy Predicted Returns to the Data Frame \n",
    "logreg_predictions_df['LR Returns'] = spy_signals['Actual Returns'] * logreg_predictions_df['LR Predicted Signals']\n",
    "\n",
    "# Review the DataFrame\n",
    "logreg_predictions_df"
   ]
  },
  {
   "cell_type": "code",
   "execution_count": 63,
   "id": "2f27e45e-ca3c-4913-9642-398d39bfe075",
   "metadata": {
    "tags": []
   },
   "outputs": [
    {
     "data": {
      "image/png": "[encoded data removed]",
      "text/plain": [
       "<Figure size 1000x500 with 1 Axes>"
      ]
     },
     "metadata": {},
     "output_type": "display_data"
    }
   ],
   "source": [
    "# Plot the actual returns versus the strategy returns\n",
    "# (1 + logreg_predictions_df[['Actual Returns', \"trading_algorithm_returns\"]]).cumprod().plot(figsize = (10,5))\n",
    "\n",
    "lrfig, ax = plt.subplots(figsize=(10, 5))\n",
    "(1 + logreg_predictions_df[['Actual Returns', 'LR Returns']]).cumprod().plot(ax=ax)\n",
    "\n",
    "# Set plot title and labels\n",
    "ax.set_title('Actual Returns vs LogReg Strategy Returns (Predicted)')\n",
    "ax.set_xlabel('Date')\n",
    "ax.set_ylabel('Cumulative Returns')\n",
    "\n",
    "# Save the plot as a PNG file\n",
    "plt.savefig('./Results/LR_returns_plot.png')\n",
    "\n",
    "# Display the plot\n",
    "plt.show()"
   ]
  },
  {
   "cell_type": "code",
   "execution_count": null,
   "id": "5cf14298-4c88-41c8-9134-97f5ac9051f9",
   "metadata": {},
   "outputs": [],
   "source": []
  }
 ],
 "metadata": {
  "kernelspec": {
   "display_name": "dev",
   "language": "python",
   "name": "dev"
  },
  "language_info": {
   "codemirror_mode": {
    "name": "ipython",
    "version": 3
   },
   "file_extension": ".py",
   "mimetype": "text/x-python",
   "name": "python",
   "nbconvert_exporter": "python",
   "pygments_lexer": "ipython3",
   "version": "3.8.16"
  }
 },
 "nbformat": 4,
 "nbformat_minor": 5
}
