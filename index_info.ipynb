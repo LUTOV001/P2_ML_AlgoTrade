{
 "cells": [
  {
   "cell_type": "code",
   "execution_count": 1,
   "id": "6dedc632-30aa-43f8-ab87-9e3a9b0e536e",
   "metadata": {},
   "outputs": [],
   "source": [
    "import yfinance as yf\n",
    "import pandas as pd\n",
    "import matplotlib.pyplot as plt\n",
    "import numpy as np\n",
    "import warnings\n",
    "\n",
    "warnings.filterwarnings(\"ignore\", category=DeprecationWarning)\n",
    "warnings.filterwarnings(\"ignore\", category=FutureWarning)\n",
    "warnings.filterwarnings(\"ignore\", category=UserWarning)\n",
    "warnings.filterwarnings(\"ignore\", category=RuntimeWarning)\n",
    "#warnings.filterwarnings(\"ignore\", category=SettingWithCopyWarning)\n",
    "\n",
    "# Disable SettingWithCopyWarning\n",
    "pd.options.mode.chained_assignment = None"
   ]
  },
  {
   "cell_type": "code",
   "execution_count": null,
   "id": "2e5c1962-cc2c-467e-813b-df73666df893",
   "metadata": {},
   "outputs": [],
   "source": []
  },
  {
   "cell_type": "code",
   "execution_count": 2,
   "id": "377ac5de-d46b-4540-a624-8b9d45908241",
   "metadata": {
    "scrolled": true,
    "tags": []
   },
   "outputs": [
    {
     "ename": "ModuleNotFoundError",
     "evalue": "No module named 'ta'",
     "output_type": "error",
     "traceback": [
      "\u001b[1;31m---------------------------------------------------------------------------\u001b[0m",
      "\u001b[1;31mModuleNotFoundError\u001b[0m                       Traceback (most recent call last)",
      "\u001b[1;32m~\\AppData\\Local\\Temp\\ipykernel_24872\\2955016616.py\u001b[0m in \u001b[0;36m<module>\u001b[1;34m\u001b[0m\n\u001b[0;32m      1\u001b[0m \u001b[1;32mimport\u001b[0m \u001b[0myfinance\u001b[0m \u001b[1;32mas\u001b[0m \u001b[0myf\u001b[0m\u001b[1;33m\u001b[0m\u001b[1;33m\u001b[0m\u001b[0m\n\u001b[1;32m----> 2\u001b[1;33m \u001b[1;32mimport\u001b[0m \u001b[0mta\u001b[0m\u001b[1;33m\u001b[0m\u001b[1;33m\u001b[0m\u001b[0m\n\u001b[0m\u001b[0;32m      3\u001b[0m \u001b[1;33m\u001b[0m\u001b[0m\n\u001b[0;32m      4\u001b[0m \u001b[1;31m# Download historical market data\u001b[0m\u001b[1;33m\u001b[0m\u001b[1;33m\u001b[0m\u001b[1;33m\u001b[0m\u001b[0m\n\u001b[0;32m      5\u001b[0m \u001b[0mticker\u001b[0m \u001b[1;33m=\u001b[0m \u001b[1;34m\"SPY\"\u001b[0m\u001b[1;33m\u001b[0m\u001b[1;33m\u001b[0m\u001b[0m\n",
      "\u001b[1;31mModuleNotFoundError\u001b[0m: No module named 'ta'"
     ]
    }
   ],
   "source": [
    "import yfinance as yf\n",
    "import ta\n",
    "\n",
    "# Download historical market data\n",
    "ticker = \"SPY\"\n",
    "stock = yf.Ticker(ticker)\n",
    "\n",
    "# get historical market data\n",
    "hist = stock.history(period=\"1y\")\n",
    "\n",
    "# Technical Analysis\n",
    "# Compute simple moving average\n",
    "hist['SMA'] = ta.trend.sma_indicator(hist['Close'], window=14)\n",
    "\n",
    "# Compute Relative Strength Index (RSI)\n",
    "hist['RSI'] = ta.momentum.rsi(hist['Close'], window=14)\n",
    "\n",
    "# Fundamental Analysis\n",
    "info = stock.info\n",
    "pe_ratio = info['trailingPE']\n",
    "market_cap = info['marketCap']\n",
    "\n",
    "print(hist.head())\n",
    "print(\"P/E Ratio:\", pe_ratio)\n",
    "print(\"Market Cap:\", market_cap)\n"
   ]
  },
  {
   "cell_type": "code",
   "execution_count": 3,
   "id": "c20218f5-217a-4ff6-8843-8986ae4e5415",
   "metadata": {},
   "outputs": [
    {
     "name": "stdout",
     "output_type": "stream",
     "text": [
      "[*********************100%***********************]  1 of 1 completed\n"
     ]
    }
   ],
   "source": [
    "import yfinance as yf\n",
    "import pandas as pd\n",
    "\n",
    "# Download historical data as dataframe\n",
    "data = yf.download('SPY', start='2022-06-29', end='2023-06-29')\n",
    "\n",
    "# Keep only the required columns\n",
    "data = data[['Open', 'High', 'Low', 'Close', 'Volume']]\n",
    "\n",
    "# Write data to CSV file\n",
    "data.to_csv('SPY_data.csv')\n"
   ]
  },
  {
   "cell_type": "code",
   "execution_count": 4,
   "id": "6093ba96-b12c-4c91-b751-754c6ae24d67",
   "metadata": {},
   "outputs": [
    {
     "name": "stdout",
     "output_type": "stream",
     "text": [
      "[*********************100%***********************]  1 of 1 completed\n"
     ]
    }
   ],
   "source": [
    "import yfinance as yf\n",
    "import pandas as pd\n",
    "\n",
    "# Download historical data as dataframe\n",
    "data = yf.download('qqq', start='2022-06-29', end='2023-06-29')\n",
    "\n",
    "# Keep only the required columns\n",
    "data = data[['Open', 'High', 'Low', 'Close', 'Volume']]\n",
    "\n",
    "# Write data to CSV file\n",
    "data.to_csv('QQQ_data.csv')\n"
   ]
  },
  {
   "cell_type": "code",
   "execution_count": 5,
   "id": "a029487a-3d20-45d5-86a1-7f4c661efd99",
   "metadata": {},
   "outputs": [
    {
     "name": "stdout",
     "output_type": "stream",
     "text": [
      "[*********************100%***********************]  1 of 1 completed\n"
     ]
    }
   ],
   "source": [
    "import yfinance as yf\n",
    "import pandas as pd\n",
    "\n",
    "# Download historical data as dataframe\n",
    "data = yf.download('IWM', start='2022-06-29', end='2023-06-29')\n",
    "\n",
    "# Keep only the required columns\n",
    "data = data[['Open', 'High', 'Low', 'Close', 'Volume']]\n",
    "\n",
    "# Write data to CSV file\n",
    "data.to_csv('IWM_data.csv')\n"
   ]
  },
  {
   "cell_type": "code",
   "execution_count": 6,
   "id": "e8d13fc4-bbfa-4b47-a7fb-1b378f30fae6",
   "metadata": {},
   "outputs": [
    {
     "name": "stdout",
     "output_type": "stream",
     "text": [
      "[*********************100%***********************]  1 of 1 completed\n"
     ]
    }
   ],
   "source": [
    "import yfinance as yf\n",
    "import pandas as pd\n",
    "\n",
    "# Download historical data as dataframe\n",
    "data = yf.download('DIA', start='2022-06-29', end='2023-06-29')\n",
    "\n",
    "# Keep only the required columns\n",
    "data = data[['Open', 'High', 'Low', 'Close', 'Volume']]\n",
    "\n",
    "# Write data to CSV file\n",
    "data.to_csv('DIA_data.csv')\n"
   ]
  },
  {
   "cell_type": "code",
   "execution_count": null,
   "id": "c3139c63-412b-40a8-aabd-b9f13a9c6355",
   "metadata": {},
   "outputs": [],
   "source": []
  }
 ],
 "metadata": {
  "kernelspec": {
   "display_name": "Python 3 (ipykernel)",
   "language": "python",
   "name": "python3"
  },
  "language_info": {
   "codemirror_mode": {
    "name": "ipython",
    "version": 3
   },
   "file_extension": ".py",
   "mimetype": "text/x-python",
   "name": "python",
   "nbconvert_exporter": "python",
   "pygments_lexer": "ipython3",
   "version": "3.7.13"
  }
 },
 "nbformat": 4,
 "nbformat_minor": 5
}
