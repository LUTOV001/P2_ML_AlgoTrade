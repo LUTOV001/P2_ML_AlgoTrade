{
 "cells": [
  {
   "cell_type": "code",
   "execution_count": null,
   "id": "0e8a87c3",
   "metadata": {},
   "outputs": [],
   "source": [
    "\n",
    "# Imports\n",
    "import talib\n",
    "import yfinance as yf\n",
    "import pandas as pd\n",
    "import numpy as np\n",
    "from pathlib import Path\n",
    "import hvplot.pandas\n",
    "import matplotlib.pyplot as plt\n",
    "from pandas.tseries.offsets import DateOffset\n",
    "from sklearn.metrics import classification_report\n",
    "from sklearn.preprocessing import MinMaxScaler\n",
    "from keras.models import Sequential\n",
    "from keras.layers import Dense, LSTM\n",
    "from keras import backend as K"
   ]
  },
  {
   "cell_type": "code",
   "execution_count": null,
   "id": "32d7a7bf",
   "metadata": {},
   "outputs": [],
   "source": [
    "# Download historical market data\n",
    "ticker = \"SPY\"\n",
    "stock = yf.Ticker(ticker)\n",
    "\n",
    "# get historical market data\n",
    "hist = stock.history(period=\"3y\")"
   ]
  },
  {
   "cell_type": "code",
   "execution_count": null,
   "id": "0f08e37a",
   "metadata": {},
   "outputs": [],
   "source": [
    "# Download historical data as dataframe\n",
    "spy_data = yf.download('SPY', start='2020-01-01', end='2023-06-30')"
   ]
  },
  {
   "cell_type": "code",
   "execution_count": null,
   "id": "695f99c8",
   "metadata": {},
   "outputs": [],
   "source": [
    "#Convert spy_data to csv file\n",
    "spy_data.to_csv('SPY_data.csv')"
   ]
  },
  {
   "cell_type": "code",
   "execution_count": null,
   "id": "c2b542b8",
   "metadata": {},
   "outputs": [],
   "source": [
    "#read the above csv data, passing date as index.\n",
    "spy_df =pd.read_csv('SPY_data.csv',index_col=0,parse_dates=True)\n",
    "spy_df.head()"
   ]
  },
  {
   "cell_type": "code",
   "execution_count": null,
   "id": "621f7c63",
   "metadata": {},
   "outputs": [],
   "source": [
    "spy_df.tail(10)"
   ]
  },
  {
   "cell_type": "code",
   "execution_count": null,
   "id": "5daf563e",
   "metadata": {},
   "outputs": [],
   "source": [
    "spy_df.loc[:,['Close']]"
   ]
  },
  {
   "cell_type": "code",
   "execution_count": null,
   "id": "093f8899",
   "metadata": {},
   "outputs": [],
   "source": [
    "# Extract the 'Close' prices\n",
    "data = spy_df.loc[:,['Close']].values.reshape(-1, 1)"
   ]
  },
  {
   "cell_type": "code",
   "execution_count": null,
   "id": "0467f9a1",
   "metadata": {},
   "outputs": [],
   "source": [
    "#Plotting the historical prices of spy\n",
    "plt.figure(figsize=(15,8))\n",
    "plt.title('Stock Prices History')\n",
    "plt.plot(spy_df['Close'])\n",
    "plt.xlabel('Date')\n",
    "plt.ylabel('Prices ($)')"
   ]
  },
  {
   "cell_type": "code",
   "execution_count": 30,
   "id": "2d0128c9",
   "metadata": {},
   "outputs": [],
   "source": [
    "# Scale the data\n",
    "scaler = MinMaxScaler(feature_range=(0, 1))\n",
    "scaled_data = scaler.fit_transform(data)"
   ]
  },
  {
   "cell_type": "code",
   "execution_count": 31,
   "id": "e3224ba4",
   "metadata": {},
   "outputs": [],
   "source": [
    "# Split the data into training and testing sets\n",
    "train_size = int(len(scaled_data) * 0.8)\n",
    "train_data = scaled_data[:train_size]\n",
    "test_data = scaled_data[train_size:]\n"
   ]
  },
  {
   "cell_type": "code",
   "execution_count": 32,
   "id": "c08828e0",
   "metadata": {},
   "outputs": [
    {
     "data": {
      "text/plain": [
       "array([[0.56472764],\n",
       "       [0.58164551],\n",
       "       [0.57132205],\n",
       "       [0.559193  ],\n",
       "       [0.59404936],\n",
       "       [0.61202701],\n",
       "       [0.63577493],\n",
       "       [0.62439157],\n",
       "       [0.61638412],\n",
       "       [0.65186841],\n",
       "       [0.64083843],\n",
       "       [0.63420472],\n",
       "       [0.59632596],\n",
       "       [0.5811745 ],\n",
       "       [0.60213539],\n",
       "       [0.61626636],\n",
       "       [0.6243131 ],\n",
       "       [0.5934213 ],\n",
       "       [0.6741247 ],\n",
       "       [0.68911924],\n",
       "       [0.67581254],\n",
       "       [0.68904065],\n",
       "       [0.67710794],\n",
       "       [0.67235829],\n",
       "       [0.67938454],\n",
       "       [0.67373215],\n",
       "       [0.69457529],\n",
       "       [0.70446703],\n",
       "       [0.70411365],\n",
       "       [0.67891353],\n",
       "       [0.67624438],\n",
       "       [0.72511383],\n",
       "       [0.7239363 ],\n",
       "       [0.72209142],\n",
       "       [0.69335847],\n",
       "       [0.67074891],\n",
       "       [0.66811905],\n",
       "       [0.68020881],\n",
       "       [0.66859007],\n",
       "       [0.69084636],\n",
       "       [0.70270061],\n",
       "       [0.69261266],\n",
       "       [0.65426288],\n",
       "       [0.62929815],\n",
       "       [0.61654104],\n",
       "       [0.61858225],\n",
       "       [0.64091701],\n",
       "       [0.61928877],\n",
       "       [0.62788511],\n",
       "       [0.62195792],\n",
       "       [0.60335221],\n",
       "       [0.62996549],\n",
       "       [0.62600094],\n",
       "       [0.61968132],\n",
       "       [0.63122161],\n",
       "       [0.61402893],\n",
       "       [0.64817865],\n",
       "       [0.64731509],\n",
       "       [0.65799181],\n",
       "       [0.67738262],\n",
       "       [0.68303501],\n",
       "       [0.68907995],\n",
       "       [0.68621446],\n",
       "       [0.66156381],\n",
       "       [0.65037691],\n",
       "       [0.67879578],\n",
       "       [0.69744077],\n",
       "       [0.69575294],\n",
       "       [0.69634171],\n",
       "       [0.71361284],\n",
       "       [0.71726331],\n",
       "       [0.69728373],\n",
       "       [0.72040359],\n",
       "       [0.73736063],\n",
       "       [0.76083375],\n",
       "       [0.74344486],\n",
       "       [0.73355312],\n",
       "       [0.7545926 ],\n",
       "       [0.73677187],\n",
       "       [0.72279794],\n",
       "       [0.72652699],\n",
       "       [0.74532891],\n",
       "       [0.74458322],\n",
       "       [0.74984306],\n",
       "       [0.72746901],\n",
       "       [0.72346529],\n",
       "       [0.69139584],\n",
       "       [0.68923699],\n",
       "       [0.69755853],\n",
       "       [0.68075841],\n",
       "       [0.68605754],\n",
       "       [0.68028739],\n",
       "       [0.67432092],\n",
       "       [0.6863715 ],\n",
       "       [0.7114147 ],\n",
       "       [0.71251377],\n",
       "       [0.68817709],\n",
       "       [0.69072861],\n",
       "       [0.66183861],\n",
       "       [0.6396609 ],\n",
       "       [0.63750193],\n",
       "       [0.66250596],\n",
       "       [0.65288901],\n",
       "       [0.67969851],\n",
       "       [0.65567592],\n",
       "       [0.67039565],\n",
       "       [0.69068932],\n",
       "       [0.66399746],\n",
       "       [0.66815835],\n",
       "       [0.67828547],\n",
       "       [0.68119013],\n",
       "       [0.67769671],\n",
       "       [0.70026697],\n",
       "       [0.70949136],\n",
       "       [0.73182612],\n",
       "       [0.73794952],\n",
       "       [0.72899992],\n",
       "       [0.72479986],\n",
       "       [0.73104102],\n",
       "       [0.73268956],\n",
       "       [0.7331214 ],\n",
       "       [0.72656616],\n",
       "       [0.74784114],\n",
       "       [0.74387658],\n",
       "       [0.74968602],\n",
       "       [0.75074579],\n",
       "       [0.75047112],\n",
       "       [0.74159998],\n",
       "       [0.7428561 ],\n",
       "       [0.74454393],\n",
       "       [0.71883339],\n",
       "       [0.71208193],\n",
       "       [0.74368037],\n",
       "       [0.75749725],\n",
       "       [0.75584871],\n",
       "       [0.73751768],\n",
       "       [0.72644841],\n",
       "       [0.71510446],\n",
       "       [0.74454393],\n",
       "       [0.74497565],\n",
       "       [0.73787094],\n",
       "       [0.74540749],\n",
       "       [0.7425813 ],\n",
       "       [0.74046162],\n",
       "       [0.74603555],\n",
       "       [0.73520179],\n",
       "       [0.75474964],\n",
       "       [0.77045069],\n",
       "       [0.76805622],\n",
       "       [0.76872357],\n",
       "       [0.75027478],\n",
       "       [0.73849899],\n",
       "       [0.75247292],\n",
       "       [0.77355156],\n",
       "       [0.77417962],\n",
       "       [0.76503381],\n",
       "       [0.78061711],\n",
       "       [0.80456124],\n",
       "       [0.80134249],\n",
       "       [0.80499296],\n",
       "       [0.79918353],\n",
       "       [0.80931077],\n",
       "       [0.81233318],\n",
       "       [0.82764168],\n",
       "       [0.838868  ],\n",
       "       [0.84090909],\n",
       "       [0.86218407],\n",
       "       [0.84985869],\n",
       "       [0.84090909],\n",
       "       [0.83211654],\n",
       "       [0.83827923],\n",
       "       [0.82532579],\n",
       "       [0.81837812],\n",
       "       [0.83694466],\n",
       "       [0.83780822],\n",
       "       [0.84455956]])"
      ]
     },
     "execution_count": 32,
     "metadata": {},
     "output_type": "execute_result"
    }
   ],
   "source": [
    "test_data"
   ]
  },
  {
   "cell_type": "code",
   "execution_count": 33,
   "id": "947bcb53",
   "metadata": {},
   "outputs": [],
   "source": [
    "# Create input-output sequences\n",
    "def create_sequences(data, window_size):\n",
    "    X, y = [], []\n",
    "    for i in range(len(data) - window_size):\n",
    "        X.append(data[i:i+window_size])\n",
    "        y.append(data[i+window_size])\n",
    "    return np.array(X), np.array(y)"
   ]
  },
  {
   "cell_type": "code",
   "execution_count": 34,
   "id": "2bbec68b",
   "metadata": {},
   "outputs": [],
   "source": [
    "window_size = 30  # Number of previous days' closing prices to consider\n",
    "X_train, y_train = create_sequences(train_data, window_size)\n",
    "X_test, y_test = create_sequences(test_data, window_size)"
   ]
  },
  {
   "cell_type": "code",
   "execution_count": 35,
   "id": "2aceaf6d",
   "metadata": {},
   "outputs": [],
   "source": [
    "# Build the LSTM model\n",
    "model = Sequential()\n",
    "model.add(LSTM(64,input_shape=(window_size, 1)))\n",
    "model.add(Dense(1,activation='relu'))\n"
   ]
  },
  {
   "cell_type": "code",
   "execution_count": 36,
   "id": "bd28cf74",
   "metadata": {},
   "outputs": [],
   "source": [
    "#setting the optimizer and a loss function for the model.\n",
    "model.compile(loss='mean_squared_error', optimizer='adam')"
   ]
  },
  {
   "cell_type": "code",
   "execution_count": 37,
   "id": "a2bf30d2",
   "metadata": {},
   "outputs": [
    {
     "name": "stdout",
     "output_type": "stream",
     "text": [
      "Model: \"sequential_1\"\n",
      "_________________________________________________________________\n",
      " Layer (type)                Output Shape              Param #   \n",
      "=================================================================\n",
      " lstm_1 (LSTM)               (None, 64)                16896     \n",
      "                                                                 \n",
      " dense_1 (Dense)             (None, 1)                 65        \n",
      "                                                                 \n",
      "=================================================================\n",
      "Total params: 16,961\n",
      "Trainable params: 16,961\n",
      "Non-trainable params: 0\n",
      "_________________________________________________________________\n"
     ]
    }
   ],
   "source": [
    "model.summary()"
   ]
  },
  {
   "cell_type": "code",
   "execution_count": 38,
   "id": "8f6e344d",
   "metadata": {},
   "outputs": [
    {
     "name": "stdout",
     "output_type": "stream",
     "text": [
      "Epoch 1/10\n",
      "43/43 [==============================] - 5s 19ms/step - loss: 0.0474\n",
      "Epoch 2/10\n",
      "43/43 [==============================] - 1s 19ms/step - loss: 0.0028\n",
      "Epoch 3/10\n",
      "43/43 [==============================] - 1s 19ms/step - loss: 0.0019\n",
      "Epoch 4/10\n",
      "43/43 [==============================] - 1s 19ms/step - loss: 0.0017\n",
      "Epoch 5/10\n",
      "43/43 [==============================] - 1s 19ms/step - loss: 0.0017\n",
      "Epoch 6/10\n",
      "43/43 [==============================] - 1s 18ms/step - loss: 0.0019\n",
      "Epoch 7/10\n",
      "43/43 [==============================] - 1s 17ms/step - loss: 0.0017\n",
      "Epoch 8/10\n",
      "43/43 [==============================] - 1s 17ms/step - loss: 0.0015\n",
      "Epoch 9/10\n",
      "43/43 [==============================] - 1s 17ms/step - loss: 0.0016\n",
      "Epoch 10/10\n",
      "43/43 [==============================] - 1s 17ms/step - loss: 0.0015\n"
     ]
    },
    {
     "data": {
      "text/plain": [
       "<keras.callbacks.History at 0x22924fbe410>"
      ]
     },
     "execution_count": 38,
     "metadata": {},
     "output_type": "execute_result"
    }
   ],
   "source": [
    "# Train and fit the model\n",
    "model.fit(X_train, y_train, epochs=10, batch_size=16)"
   ]
  },
  {
   "cell_type": "code",
   "execution_count": 39,
   "id": "dbc3ddaa",
   "metadata": {},
   "outputs": [
    {
     "name": "stdout",
     "output_type": "stream",
     "text": [
      "22/22 [==============================] - 1s 9ms/step\n",
      "5/5 [==============================] - 0s 12ms/step\n"
     ]
    }
   ],
   "source": [
    "# Make predictions\n",
    "train_predictions = model.predict(X_train)\n",
    "test_predictions = model.predict(X_test)\n"
   ]
  },
  {
   "cell_type": "code",
   "execution_count": null,
   "id": "62bc4352",
   "metadata": {},
   "outputs": [],
   "source": [
    "# Calculate the mean squared error\n",
    "mse = mean_squared_error(X_test, y_test)\n",
    "\n",
    "# Print the MSE\n",
    "print(\"Mean Squared Error:\", mse)"
   ]
  },
  {
   "cell_type": "code",
   "execution_count": 40,
   "id": "165cf220",
   "metadata": {},
   "outputs": [
    {
     "name": "stdout",
     "output_type": "stream",
     "text": [
      "22/22 [==============================] - 1s 10ms/step - loss: 0.0014\n",
      "5/5 [==============================] - 0s 9ms/step - loss: 6.1849e-04\n",
      "Train Loss: 0.0014047694858163595\n",
      "Test Loss: 0.0006184910889714956\n"
     ]
    }
   ],
   "source": [
    "\n",
    "\n",
    "# Evaluate the model \n",
    "train_loss = model.evaluate(X_train, y_train, verbose=1)\n",
    "test_loss = model.evaluate(X_test, y_test, verbose=1)\n",
    "print('Train Loss:', train_loss)\n",
    "print('Test Loss:', test_loss)\n"
   ]
  },
  {
   "cell_type": "code",
   "execution_count": 41,
   "id": "7951e9f7",
   "metadata": {},
   "outputs": [
    {
     "name": "stdout",
     "output_type": "stream",
     "text": [
      "[[371.2467 ]\n",
      " [369.5817 ]\n",
      " [369.63055]\n",
      " [370.1261 ]\n",
      " [370.455  ]\n",
      " [369.73843]\n",
      " [368.58023]\n",
      " [367.15393]\n",
      " [365.62622]\n",
      " [365.1976 ]]\n"
     ]
    }
   ],
   "source": [
    "# Inverse scale the predictions(normalizing the data back)\n",
    "train_predictions = scaler.inverse_transform(train_predictions)\n",
    "test_predictions = scaler.inverse_transform(test_predictions)\n",
    "\n",
    "print(train_predictions[len(train_predictions)-10:])"
   ]
  },
  {
   "cell_type": "code",
   "execution_count": 42,
   "id": "a1dc9e73",
   "metadata": {},
   "outputs": [
    {
     "name": "stdout",
     "output_type": "stream",
     "text": [
      "[[431.10513]\n",
      " [433.16052]\n",
      " [434.8119 ]\n",
      " [435.97412]\n",
      " [436.63367]\n",
      " [437.19788]\n",
      " [437.28177]\n",
      " [436.9822 ]\n",
      " [437.03116]\n",
      " [437.14465]]\n"
     ]
    }
   ],
   "source": [
    "print(test_predictions[len(test_predictions)-10:])"
   ]
  },
  {
   "cell_type": "code",
   "execution_count": 47,
   "id": "2354af17",
   "metadata": {},
   "outputs": [
    {
     "data": {
      "image/png": "[encoded data removed]",
      "text/plain": [
       "<Figure size 640x480 with 1 Axes>"
      ]
     },
     "metadata": {},
     "output_type": "display_data"
    }
   ],
   "source": [
    "# Plot the predicted and actual closing prices\n",
    "plt.plot(spy_df['Close'], label='Actual')\n",
    "plt.xlabel('Date ')\n",
    "plt.ylabel('Closing Price')\n",
    "plt.legend()\n",
    "plt.show()"
   ]
  },
  {
   "cell_type": "code",
   "execution_count": 58,
   "id": "c1d799bb",
   "metadata": {},
   "outputs": [
    {
     "data": {
      "image/png": "[encoded data removed]",
      "text/plain": [
       "<Figure size 640x480 with 1 Axes>"
      ]
     },
     "metadata": {},
     "output_type": "display_data"
    }
   ],
   "source": [
    "# Plot the predicted and actual closing prices\n",
    "plt.plot(range(window_size, train_size), train_predictions, label='Train Predictions')\n",
    "plt.plot(range(train_size + window_size, len(data)), test_predictions, label='Test Predictions')\n",
    "plt.ylabel('Closing Price')\n",
    "plt.title('LSTM for Stock Prediction')\n",
    "plt.legend()\n",
    "plt.show()"
   ]
  },
  {
   "cell_type": "code",
   "execution_count": null,
   "id": "a49ffcd2",
   "metadata": {},
   "outputs": [],
   "source": []
  }
 ],
 "metadata": {
  "kernelspec": {
   "display_name": "Python 3 (ipykernel)",
   "language": "python",
   "name": "python3"
  },
  "language_info": {
   "codemirror_mode": {
    "name": "ipython",
    "version": 3
   },
   "file_extension": ".py",
   "mimetype": "text/x-python",
   "name": "python",
   "nbconvert_exporter": "python",
   "pygments_lexer": "ipython3",
   "version": "3.10.11"
  }
 },
 "nbformat": 4,
 "nbformat_minor": 5
}
